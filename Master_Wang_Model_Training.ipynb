{
  "cells": [
    {
      "cell_type": "markdown",
      "metadata": {
        "id": "Vpw-pkewCVks"
      },
      "source": [
        "## Install required packages"
      ]
    },
    {
      "cell_type": "code",
      "source": [
        "import locale\n",
        "print(locale.getpreferredencoding())\n",
        "def getpreferredencoding(do_setlocale = True):\n",
        "    return \"UTF-8\"\n",
        "locale.getpreferredencoding = getpreferredencoding\n",
        "print(locale.getpreferredencoding())\n"
      ],
      "metadata": {
        "colab": {
          "base_uri": "https://localhost:8080/"
        },
        "id": "faXGckXP2Xhc",
        "outputId": "2b9b295f-2275-416c-b68f-a35abc95c0cc"
      },
      "execution_count": 92,
      "outputs": [
        {
          "output_type": "stream",
          "name": "stdout",
          "text": [
            "UTF-8\n",
            "UTF-8\n"
          ]
        }
      ]
    },
    {
      "cell_type": "code",
      "execution_count": 93,
      "metadata": {
        "colab": {
          "base_uri": "https://localhost:8080/"
        },
        "id": "if1-sLljCBi0",
        "outputId": "0d448ee7-b37c-45a0-8f9a-12ded67e95e3"
      },
      "outputs": [
        {
          "output_type": "stream",
          "name": "stdout",
          "text": [
            "Requirement already satisfied: calflops in /usr/local/lib/python3.10/dist-packages (0.3.2)\n",
            "Requirement already satisfied: accelerate>=0.22.0 in /usr/local/lib/python3.10/dist-packages (from calflops) (0.31.0)\n",
            "Requirement already satisfied: huggingface-hub>=0.16.4 in /usr/local/lib/python3.10/dist-packages (from calflops) (0.23.3)\n",
            "Requirement already satisfied: torch>=1.1.0 in /usr/local/lib/python3.10/dist-packages (from calflops) (2.3.0+cu121)\n",
            "Requirement already satisfied: numpy>=1.17 in /usr/local/lib/python3.10/dist-packages (from accelerate>=0.22.0->calflops) (1.25.2)\n",
            "Requirement already satisfied: packaging>=20.0 in /usr/local/lib/python3.10/dist-packages (from accelerate>=0.22.0->calflops) (24.1)\n",
            "Requirement already satisfied: psutil in /usr/local/lib/python3.10/dist-packages (from accelerate>=0.22.0->calflops) (5.9.5)\n",
            "Requirement already satisfied: pyyaml in /usr/local/lib/python3.10/dist-packages (from accelerate>=0.22.0->calflops) (6.0.1)\n",
            "Requirement already satisfied: safetensors>=0.3.1 in /usr/local/lib/python3.10/dist-packages (from accelerate>=0.22.0->calflops) (0.4.3)\n",
            "Requirement already satisfied: filelock in /usr/local/lib/python3.10/dist-packages (from huggingface-hub>=0.16.4->calflops) (3.14.0)\n",
            "Requirement already satisfied: fsspec>=2023.5.0 in /usr/local/lib/python3.10/dist-packages (from huggingface-hub>=0.16.4->calflops) (2023.6.0)\n",
            "Requirement already satisfied: requests in /usr/local/lib/python3.10/dist-packages (from huggingface-hub>=0.16.4->calflops) (2.31.0)\n",
            "Requirement already satisfied: tqdm>=4.42.1 in /usr/local/lib/python3.10/dist-packages (from huggingface-hub>=0.16.4->calflops) (4.66.4)\n",
            "Requirement already satisfied: typing-extensions>=3.7.4.3 in /usr/local/lib/python3.10/dist-packages (from huggingface-hub>=0.16.4->calflops) (4.12.2)\n",
            "Requirement already satisfied: sympy in /usr/local/lib/python3.10/dist-packages (from torch>=1.1.0->calflops) (1.12.1)\n",
            "Requirement already satisfied: networkx in /usr/local/lib/python3.10/dist-packages (from torch>=1.1.0->calflops) (3.3)\n",
            "Requirement already satisfied: jinja2 in /usr/local/lib/python3.10/dist-packages (from torch>=1.1.0->calflops) (3.1.4)\n",
            "Requirement already satisfied: nvidia-cuda-nvrtc-cu12==12.1.105 in /usr/local/lib/python3.10/dist-packages (from torch>=1.1.0->calflops) (12.1.105)\n",
            "Requirement already satisfied: nvidia-cuda-runtime-cu12==12.1.105 in /usr/local/lib/python3.10/dist-packages (from torch>=1.1.0->calflops) (12.1.105)\n",
            "Requirement already satisfied: nvidia-cuda-cupti-cu12==12.1.105 in /usr/local/lib/python3.10/dist-packages (from torch>=1.1.0->calflops) (12.1.105)\n",
            "Requirement already satisfied: nvidia-cudnn-cu12==8.9.2.26 in /usr/local/lib/python3.10/dist-packages (from torch>=1.1.0->calflops) (8.9.2.26)\n",
            "Requirement already satisfied: nvidia-cublas-cu12==12.1.3.1 in /usr/local/lib/python3.10/dist-packages (from torch>=1.1.0->calflops) (12.1.3.1)\n",
            "Requirement already satisfied: nvidia-cufft-cu12==11.0.2.54 in /usr/local/lib/python3.10/dist-packages (from torch>=1.1.0->calflops) (11.0.2.54)\n",
            "Requirement already satisfied: nvidia-curand-cu12==10.3.2.106 in /usr/local/lib/python3.10/dist-packages (from torch>=1.1.0->calflops) (10.3.2.106)\n",
            "Requirement already satisfied: nvidia-cusolver-cu12==11.4.5.107 in /usr/local/lib/python3.10/dist-packages (from torch>=1.1.0->calflops) (11.4.5.107)\n",
            "Requirement already satisfied: nvidia-cusparse-cu12==12.1.0.106 in /usr/local/lib/python3.10/dist-packages (from torch>=1.1.0->calflops) (12.1.0.106)\n",
            "Requirement already satisfied: nvidia-nccl-cu12==2.20.5 in /usr/local/lib/python3.10/dist-packages (from torch>=1.1.0->calflops) (2.20.5)\n",
            "Requirement already satisfied: nvidia-nvtx-cu12==12.1.105 in /usr/local/lib/python3.10/dist-packages (from torch>=1.1.0->calflops) (12.1.105)\n",
            "Requirement already satisfied: triton==2.3.0 in /usr/local/lib/python3.10/dist-packages (from torch>=1.1.0->calflops) (2.3.0)\n",
            "Requirement already satisfied: nvidia-nvjitlink-cu12 in /usr/local/lib/python3.10/dist-packages (from nvidia-cusolver-cu12==11.4.5.107->torch>=1.1.0->calflops) (12.5.40)\n",
            "Requirement already satisfied: MarkupSafe>=2.0 in /usr/local/lib/python3.10/dist-packages (from jinja2->torch>=1.1.0->calflops) (2.1.5)\n",
            "Requirement already satisfied: charset-normalizer<4,>=2 in /usr/local/lib/python3.10/dist-packages (from requests->huggingface-hub>=0.16.4->calflops) (3.3.2)\n",
            "Requirement already satisfied: idna<4,>=2.5 in /usr/local/lib/python3.10/dist-packages (from requests->huggingface-hub>=0.16.4->calflops) (3.7)\n",
            "Requirement already satisfied: urllib3<3,>=1.21.1 in /usr/local/lib/python3.10/dist-packages (from requests->huggingface-hub>=0.16.4->calflops) (2.0.7)\n",
            "Requirement already satisfied: certifi>=2017.4.17 in /usr/local/lib/python3.10/dist-packages (from requests->huggingface-hub>=0.16.4->calflops) (2024.6.2)\n",
            "Requirement already satisfied: mpmath<1.4.0,>=1.1.0 in /usr/local/lib/python3.10/dist-packages (from sympy->torch>=1.1.0->calflops) (1.3.0)\n",
            "Requirement already satisfied: pandas in /usr/local/lib/python3.10/dist-packages (2.0.3)\n",
            "Requirement already satisfied: numpy in /usr/local/lib/python3.10/dist-packages (1.25.2)\n",
            "Requirement already satisfied: matplotlib in /usr/local/lib/python3.10/dist-packages (3.7.1)\n",
            "Requirement already satisfied: python-dateutil>=2.8.2 in /usr/local/lib/python3.10/dist-packages (from pandas) (2.8.2)\n",
            "Requirement already satisfied: pytz>=2020.1 in /usr/local/lib/python3.10/dist-packages (from pandas) (2023.4)\n",
            "Requirement already satisfied: tzdata>=2022.1 in /usr/local/lib/python3.10/dist-packages (from pandas) (2024.1)\n",
            "Requirement already satisfied: contourpy>=1.0.1 in /usr/local/lib/python3.10/dist-packages (from matplotlib) (1.2.1)\n",
            "Requirement already satisfied: cycler>=0.10 in /usr/local/lib/python3.10/dist-packages (from matplotlib) (0.12.1)\n",
            "Requirement already satisfied: fonttools>=4.22.0 in /usr/local/lib/python3.10/dist-packages (from matplotlib) (4.53.0)\n",
            "Requirement already satisfied: kiwisolver>=1.0.1 in /usr/local/lib/python3.10/dist-packages (from matplotlib) (1.4.5)\n",
            "Requirement already satisfied: packaging>=20.0 in /usr/local/lib/python3.10/dist-packages (from matplotlib) (24.1)\n",
            "Requirement already satisfied: pillow>=6.2.0 in /usr/local/lib/python3.10/dist-packages (from matplotlib) (9.4.0)\n",
            "Requirement already satisfied: pyparsing>=2.3.1 in /usr/local/lib/python3.10/dist-packages (from matplotlib) (3.1.2)\n",
            "Requirement already satisfied: six>=1.5 in /usr/local/lib/python3.10/dist-packages (from python-dateutil>=2.8.2->pandas) (1.16.0)\n"
          ]
        }
      ],
      "source": [
        "!pip install calflops\n",
        "!apt-get -qq install xxd\n",
        "!pip install pandas numpy matplotlib\n",
        "# !pip install onnx onnxruntime\n",
        "# !git clone https://github.com/onnx/onnx-tensorflow.git && cd onnx-tensorflow && pip install -e ."
      ]
    },
    {
      "cell_type": "code",
      "execution_count": 94,
      "metadata": {
        "id": "e6bslSW5CMUH"
      },
      "outputs": [],
      "source": [
        "# import sys\n",
        "# sys.path.append(\"./onnx-tensorflow\")"
      ]
    },
    {
      "cell_type": "code",
      "execution_count": 95,
      "metadata": {
        "id": "jlGKIskrCR43"
      },
      "outputs": [],
      "source": [
        "# !pip install onnx-simplifier"
      ]
    },
    {
      "cell_type": "code",
      "execution_count": 96,
      "metadata": {
        "id": "VrG2WY_YCU35"
      },
      "outputs": [],
      "source": [
        "# !wget https://github.com/PINTO0309/onnx2tf/releases/download/1.16.31/flatc.tar.gz \\\n",
        "#   && tar -zxvf flatc.tar.gz \\\n",
        "#   && sudo chmod +x flatc \\\n",
        "#   && sudo mv flatc /usr/bin/\n",
        "# !pip install -U pip \\\n",
        "#   && pip install -U onnx>=1.14.1 \\\n",
        "#   && python -m pip install onnx_graphsurgeon \\\n",
        "#         --index-url https://pypi.ngc.nvidia.com \\\n",
        "#   && pip install -U onnxruntime==1.16.0 \\\n",
        "#   && pip install -U onnxsim==0.4.33 \\\n",
        "#   && pip install -U simple_onnx_processing_tools \\\n",
        "#   && pip install -U onnx2tf \\\n",
        "#   && pip install -U protobuf==3.20.3 \\\n",
        "#   && pip install -U h5py==3.7.0 \\\n",
        "#   && pip install -U psutil==5.9.5 \\\n",
        "#   && pip install -U ml_dtypes==0.2.0"
      ]
    },
    {
      "cell_type": "code",
      "source": [
        "!pip install -U coremltools"
      ],
      "metadata": {
        "colab": {
          "base_uri": "https://localhost:8080/"
        },
        "id": "ZOy1cnRWaePG",
        "outputId": "018eed64-9dcd-4ab9-910b-a36dd7e78d57"
      },
      "execution_count": 97,
      "outputs": [
        {
          "output_type": "stream",
          "name": "stdout",
          "text": [
            "Requirement already satisfied: coremltools in /usr/local/lib/python3.10/dist-packages (7.2)\n",
            "Requirement already satisfied: numpy>=1.14.5 in /usr/local/lib/python3.10/dist-packages (from coremltools) (1.25.2)\n",
            "Requirement already satisfied: protobuf<=4.0.0,>=3.1.0 in /usr/local/lib/python3.10/dist-packages (from coremltools) (3.20.3)\n",
            "Requirement already satisfied: sympy in /usr/local/lib/python3.10/dist-packages (from coremltools) (1.12.1)\n",
            "Requirement already satisfied: tqdm in /usr/local/lib/python3.10/dist-packages (from coremltools) (4.66.4)\n",
            "Requirement already satisfied: packaging in /usr/local/lib/python3.10/dist-packages (from coremltools) (24.1)\n",
            "Requirement already satisfied: attrs>=21.3.0 in /usr/local/lib/python3.10/dist-packages (from coremltools) (23.2.0)\n",
            "Requirement already satisfied: cattrs in /usr/local/lib/python3.10/dist-packages (from coremltools) (23.2.3)\n",
            "Requirement already satisfied: pyaml in /usr/local/lib/python3.10/dist-packages (from coremltools) (24.4.0)\n",
            "Requirement already satisfied: exceptiongroup>=1.1.1 in /usr/local/lib/python3.10/dist-packages (from cattrs->coremltools) (1.2.1)\n",
            "Requirement already satisfied: typing-extensions!=4.6.3,>=4.1.0 in /usr/local/lib/python3.10/dist-packages (from cattrs->coremltools) (4.12.2)\n",
            "Requirement already satisfied: PyYAML in /usr/local/lib/python3.10/dist-packages (from pyaml->coremltools) (6.0.1)\n",
            "Requirement already satisfied: mpmath<1.4.0,>=1.1.0 in /usr/local/lib/python3.10/dist-packages (from sympy->coremltools) (1.3.0)\n"
          ]
        }
      ]
    },
    {
      "cell_type": "code",
      "execution_count": 128,
      "metadata": {
        "id": "E4hRjLejmepm"
      },
      "outputs": [],
      "source": [
        "import torch\n",
        "import numpy as np\n",
        "import random\n",
        "import pandas as pd\n",
        "import numpy as np\n",
        "import os\n",
        "from sklearn.preprocessing import LabelEncoder\n",
        "from sklearn.model_selection import train_test_split\n",
        "\n",
        "encoder = LabelEncoder()\n",
        "\n",
        "def set_seed(seed):\n",
        "    torch.manual_seed(seed)\n",
        "    if torch.cuda.is_available():\n",
        "        torch.cuda.manual_seed(seed)\n",
        "        torch.cuda.manual_seed_all(seed)\n",
        "    np.random.seed(seed)\n",
        "    random.seed(seed)\n",
        "    # torch.backends.cudnn.deterministic = True\n",
        "    # torch.backends.cudnn.benchmark = False\n"
      ]
    },
    {
      "cell_type": "markdown",
      "metadata": {
        "id": "l5ToCLX_Cfie"
      },
      "source": [
        "## Prepare data"
      ]
    },
    {
      "cell_type": "code",
      "execution_count": 129,
      "metadata": {
        "id": "oaAWlyp0-5QO"
      },
      "outputs": [],
      "source": [
        "def prepare_data(directory = \"./data\"):\n",
        "  # Initialize an empty list to store the data\n",
        "  data = []\n",
        "\n",
        "  # List of CSV files\n",
        "  csv_files = [\"Attack.csv\", \"Jump.csv\", \"Left.csv\", \"Right.csv\"]\n",
        "\n",
        "  # Loop through each file\n",
        "  for file in csv_files:\n",
        "      # Construct the full path to the file\n",
        "      file_path = os.path.join(directory, file)\n",
        "\n",
        "      # Read the CSV file, skipping empty rows (which are interpreted as NaN)\n",
        "      df = pd.read_csv(file_path, header=0, usecols=[0,1,2,3,4,5])\n",
        "\n",
        "      # Drop NaN rows\n",
        "      df = df.dropna()\n",
        "    #   df['aX'] = (df['aX']+4)/8\n",
        "    #   df['aY'] = (df['aY']+4)/8\n",
        "    #   df['aZ'] = (df['aZ']+4)/8\n",
        "\n",
        "    #   df['gX'] = (df['gX']+2000)/4000\n",
        "    #   df['gY'] = (df['gY']+2000)/4000\n",
        "    #   df['gZ'] = (df['gZ']+2000)/4000\n",
        "\n",
        "      # Split the dataframe into samples of 119 rows each\n",
        "      for i in range(0, len(df), 50):\n",
        "          sample = df.iloc[i:i+50]\n",
        "\n",
        "          # Convert the sample dataframe to a numpy array\n",
        "          sample_array = sample.to_numpy()\n",
        "\n",
        "          # Get the label from the file name\n",
        "          label = file.replace(\".csv\", \"\")\n",
        "\n",
        "          # Append the label and data to the list\n",
        "          data.append({'label': label, 'data': sample_array})\n",
        "\n",
        "  # Create a final dataframe\n",
        "  final_df = pd.DataFrame(data)\n",
        "  print(f'There are {len(final_df.index)} samples in total.')\n",
        "\n",
        "  labels = final_df[\"label\"].unique()\n",
        "  final_df[\"ClassID\"] = encoder.fit_transform(final_df[\"label\"])\n",
        "\n",
        "  final_df[\"data\"] = final_df[\"data\"].apply(lambda x: x.transpose((1, 0)))\n",
        "  return final_df"
      ]
    },
    {
      "cell_type": "markdown",
      "metadata": {
        "id": "juxEBwiSLdUP"
      },
      "source": [
        "## Split original dataset into train and test set"
      ]
    },
    {
      "cell_type": "code",
      "execution_count": 130,
      "metadata": {
        "colab": {
          "base_uri": "https://localhost:8080/"
        },
        "id": "Mexmik73-cZJ",
        "outputId": "d89a7a5b-3951-482e-d27e-68aa4806f2c3"
      },
      "outputs": [
        {
          "output_type": "stream",
          "name": "stdout",
          "text": [
            "There are 200 samples in total.\n",
            "['Attack' 'Jump' 'Left' 'Right']\n",
            "(6, 50)\n",
            "Number of training set: 160\n",
            "Number of test set: 40\n"
          ]
        }
      ],
      "source": [
        "df = prepare_data()\n",
        "\n",
        "print(encoder.inverse_transform([0,1,2,3]))\n",
        "print(df.iloc[0][\"data\"].shape)\n",
        "\n",
        "df_train, df_test = train_test_split(df, test_size=0.2, random_state=42)\n",
        "print(f\"Number of training set: {len(df_train.index)}\")\n",
        "print(f\"Number of test set: {len(df_test.index)}\")\n",
        "\n",
        "## Make hardcode data file just for sharing\n",
        "\n",
        "import os\n",
        "import pandas as pd\n",
        "\n",
        "def save_to_csv(df, directory):\n",
        "    if not os.path.exists(directory):\n",
        "        os.makedirs(directory)\n",
        "\n",
        "    for index, row in df.iterrows():\n",
        "        data = row['data'].T\n",
        "\n",
        "        # data[:, 0] = (data[:, 0] * 8) - 4\n",
        "        # data[:, 1] = (data[:, 1] * 8) - 4\n",
        "        # data[:, 2] = (data[:, 2] * 8) - 4\n",
        "        # data[:, 3] = (data[:, 3] * 4000) - 2000\n",
        "        # data[:, 4] = (data[:, 4] * 4000) - 2000\n",
        "        # data[:, 5] = (data[:, 5] * 4000) - 2000\n",
        "\n",
        "        data_df = pd.DataFrame(data, columns=['ax', 'ay', 'az', 'gx', 'gy', 'gz'])\n",
        "\n",
        "        filename = f\"{row['label']}.csv\"\n",
        "        filepath = os.path.join(directory, filename)\n",
        "\n",
        "        if not os.path.isfile(filepath):\n",
        "            data_df.to_csv(filepath, index=False)\n",
        "        else:\n",
        "            data_df.to_csv(filepath, mode='a', header=False, index=False)\n",
        "\n",
        "save_to_csv(df_train, './data/train')\n",
        "save_to_csv(df_test, './data/test')\n"
      ]
    },
    {
      "cell_type": "code",
      "execution_count": 131,
      "metadata": {
        "colab": {
          "base_uri": "https://localhost:8080/"
        },
        "id": "OFpIShPMLy2N",
        "outputId": "aceaab16-7234-4d7a-cb1f-ddd47c2964fc"
      },
      "outputs": [
        {
          "output_type": "stream",
          "name": "stdout",
          "text": [
            "./data/\n",
            "./data/train/\n",
            "./data/train/Attack.csv\n",
            "./data/train/Jump.csv\n",
            "./data/train/Left.csv\n",
            "./data/train/Right.csv\n",
            "./data/Attack.csv\n",
            "./data/test/\n",
            "./data/test/Attack.csv\n",
            "./data/test/Jump.csv\n",
            "./data/test/Left.csv\n",
            "./data/test/Right.csv\n",
            "./data/Jump.csv\n",
            "./data/Left.csv\n",
            "./data/Right.csv\n"
          ]
        }
      ],
      "source": [
        "!tar -czvf data.tar.gz ./data"
      ]
    },
    {
      "cell_type": "code",
      "execution_count": 132,
      "metadata": {
        "id": "K_rDwPcREhAx"
      },
      "outputs": [],
      "source": [
        "# !rm -rf data/test\n",
        "# !rm -rf data/train"
      ]
    },
    {
      "cell_type": "markdown",
      "metadata": {
        "id": "jjgkUS49KCVZ"
      },
      "source": [
        "## Load test and train data for experiments 🌟"
      ]
    },
    {
      "cell_type": "code",
      "execution_count": 133,
      "metadata": {
        "id": "n46ze9jsIz2U",
        "colab": {
          "base_uri": "https://localhost:8080/"
        },
        "outputId": "2e9da3d0-568e-4e6c-d9f7-3b663e0bc046"
      },
      "outputs": [
        {
          "output_type": "stream",
          "name": "stdout",
          "text": [
            "There are 800 samples in total.\n",
            "There are 200 samples in total.\n"
          ]
        }
      ],
      "source": [
        "df_train_loaded = prepare_data('./data/train')\n",
        "\n",
        "# You want to change test dataset here. We assume there is no data normalization and standradlization in ./data/test/*.csv. We do data transformations here.\n",
        "df_test_loaded = prepare_data('./data/test')"
      ]
    },
    {
      "cell_type": "markdown",
      "metadata": {
        "id": "uxRXDQ8e_XgQ"
      },
      "source": [
        "## Prepare dataset"
      ]
    },
    {
      "cell_type": "code",
      "execution_count": 134,
      "metadata": {
        "id": "dCSerHfn_WoI"
      },
      "outputs": [],
      "source": [
        "import pandas as pd\n",
        "import os\n",
        "import torch\n",
        "from torch.utils.data import Dataset, DataLoader\n",
        "from torchvision import transforms\n",
        "from tqdm import tqdm"
      ]
    },
    {
      "cell_type": "code",
      "execution_count": 135,
      "metadata": {
        "id": "DFIRwGpR_RMN"
      },
      "outputs": [],
      "source": [
        "\n",
        "\n",
        "class GestureDataset(Dataset):\n",
        "    def __init__(self, df, transform, preload=False, device='cpu'):\n",
        "        self.df = df\n",
        "        self.num_classes = self.df[\"ClassID\"].nunique()\n",
        "        self.transform = transform\n",
        "        self.preload = preload\n",
        "        self.data = []\n",
        "\n",
        "        if self.preload:\n",
        "            for index in tqdm(range(len(self.df.index)), f\"Preloading dataset to {device}\"):\n",
        "                data = self.df.iloc[index]['data']\n",
        "                data = torch.tensor(data, dtype=torch.float32)\n",
        "                label = self.df.iloc[index][\"ClassID\"]\n",
        "\n",
        "                data = data.to(device)  # Move to the specified device\n",
        "                self.data.append((data, label))\n",
        "\n",
        "    def __len__(self):\n",
        "        return len(self.df.index)\n",
        "\n",
        "    def __getitem__(self, index):\n",
        "        if self.preload:\n",
        "            return self.data[index]\n",
        "\n",
        "        data = self.df.iloc[index]['data']\n",
        "        data = torch.tensor(data, dtype=torch.float32)\n",
        "\n",
        "        label = self.df.iloc[index][\"ClassID\"]\n",
        "\n",
        "        return data, label"
      ]
    },
    {
      "cell_type": "code",
      "execution_count": 136,
      "metadata": {
        "id": "zognLFdW_w0t",
        "colab": {
          "base_uri": "https://localhost:8080/"
        },
        "outputId": "edbfc4a7-29a2-4fed-8a7a-a64b1bb66275"
      },
      "outputs": [
        {
          "output_type": "stream",
          "name": "stdout",
          "text": [
            "cuda\n"
          ]
        }
      ],
      "source": [
        "device = torch.device(\"cuda\" if torch.cuda.is_available() else \"cpu\")\n",
        "print(device)"
      ]
    },
    {
      "cell_type": "markdown",
      "metadata": {
        "id": "j-zN0DLTqIW8"
      },
      "source": [
        "### Add data augmentations"
      ]
    },
    {
      "cell_type": "code",
      "execution_count": 137,
      "metadata": {
        "id": "7703kIdB5tL_",
        "colab": {
          "base_uri": "https://localhost:8080/"
        },
        "outputId": "2ab69ca5-85dc-466a-9aee-9fc65368c5d1"
      },
      "outputs": [
        {
          "output_type": "stream",
          "name": "stderr",
          "text": [
            "Preloading dataset to cuda: 100%|██████████| 800/800 [00:00<00:00, 4508.74it/s]\n",
            "Preloading dataset to cuda: 100%|██████████| 200/200 [00:00<00:00, 4524.26it/s]\n"
          ]
        }
      ],
      "source": [
        "import torch\n",
        "import random\n",
        "import numpy as np\n",
        "from torchvision import transforms\n",
        "\n",
        "class AddRandomNoise(object):\n",
        "    def __init__(self, noise_level=0.05):\n",
        "        self.noise_level = noise_level\n",
        "\n",
        "    def __call__(self, data):\n",
        "        noise = torch.randn_like(data) * self.noise_level\n",
        "        return data + noise\n",
        "\n",
        "class TimeWarp(object):\n",
        "    def __init__(self, warp_factor=0.1):\n",
        "        self.warp_factor = warp_factor\n",
        "\n",
        "    def __call__(self, data):\n",
        "        time_steps = data.shape[0]\n",
        "        warp = np.random.uniform(1 - self.warp_factor, 1 + self.warp_factor)\n",
        "        new_time_steps = int(time_steps * warp)\n",
        "        data = torch.nn.functional.interpolate(data.view(1, 1, -1), size=new_time_steps, mode='linear', align_corners=False)\n",
        "        return data.view(-1)\n",
        "\n",
        "class ScaleTransform(object):\n",
        "    def __init__(self, scale_factor=1.2):\n",
        "        self.scale_factor = scale_factor\n",
        "\n",
        "    def __call__(self, data):\n",
        "        return data * self.scale_factor\n",
        "\n",
        "# Define your transform pipeline\n",
        "transform_train = transforms.Compose([\n",
        "    # AddRandomNoise(noise_level=0.05),\n",
        "    # TimeWarp(warp_factor=0.1),\n",
        "    # ScaleTransform(scale_factor=1.2),\n",
        "    transforms.ToTensor(),\n",
        "])\n",
        "\n",
        "transform_test = transforms.Compose([\n",
        "    transforms.ToTensor(),\n",
        "])\n",
        "\n",
        "# Create dataset and dataloaders\n",
        "train_dataset = GestureDataset(df=df_train_loaded, transform=transform_train, preload=True, device=device)\n",
        "test_dataset = GestureDataset(df=df_test_loaded, transform=transform_test, preload=True, device=device)\n"
      ]
    },
    {
      "cell_type": "code",
      "execution_count": 138,
      "metadata": {
        "id": "9sLrweV9ASvS",
        "colab": {
          "base_uri": "https://localhost:8080/"
        },
        "outputId": "a3dc588f-55de-4a80-b740-42a33b8422ba"
      },
      "outputs": [
        {
          "output_type": "stream",
          "name": "stdout",
          "text": [
            "Num of classes: 4\n",
            "torch.Size([256, 6, 50]) torch.Size([256])\n"
          ]
        }
      ],
      "source": [
        "# set_seed(666)\n",
        "\n",
        "train_loader = DataLoader(train_dataset, batch_size=256, shuffle=True)\n",
        "\n",
        "test_loader = DataLoader(test_dataset, batch_size=256, shuffle=True)\n",
        "\n",
        "print(f'Num of classes: {train_dataset.num_classes}')\n",
        "num_classes = train_dataset.num_classes\n",
        "# Example: Print the shape of first batch data and labels\n",
        "for data, labels in train_loader:\n",
        "    print(data.shape,  labels.shape)\n",
        "    break\n"
      ]
    },
    {
      "cell_type": "markdown",
      "metadata": {
        "id": "DOGYOKq9AgDr"
      },
      "source": [
        "## Plot examples"
      ]
    },
    {
      "cell_type": "code",
      "execution_count": 139,
      "metadata": {
        "id": "3JUjLnyL40rr"
      },
      "outputs": [],
      "source": [
        "feature_names = [\n",
        "    'ax','ay','az',\n",
        "    'gx','gy','gz',\n",
        "]"
      ]
    },
    {
      "cell_type": "code",
      "execution_count": 140,
      "metadata": {
        "id": "e3cZiwq2AfUt",
        "colab": {
          "base_uri": "https://localhost:8080/",
          "height": 1000
        },
        "outputId": "2da0e8e4-9ffd-4819-8716-b8b53e658da9"
      },
      "outputs": [
        {
          "output_type": "display_data",
          "data": {
            "text/plain": [
              "<Figure size 1800x1500 with 4 Axes>"
            ],
            "image/svg+xml": "<?xml version=\"1.0\" encoding=\"utf-8\" standalone=\"no\"?>\n<!DOCTYPE svg PUBLIC \"-//W3C//DTD SVG 1.1//EN\"\n  \"http://www.w3.org/Graphics/SVG/1.1/DTD/svg11.dtd\">\n<svg xmlns:xlink=\"http://www.w3.org/1999/xlink\" width=\"1040.542187pt\" height=\"877.79625pt\" viewBox=\"0 0 1040.542187 877.79625\" xmlns=\"http://www.w3.org/2000/svg\" version=\"1.1\">\n <metadata>\n  <rdf:RDF xmlns:dc=\"http://purl.org/dc/elements/1.1/\" xmlns:cc=\"http://creativecommons.org/ns#\" xmlns:rdf=\"http://www.w3.org/1999/02/22-rdf-syntax-ns#\">\n   <cc:Work>\n    <dc:type rdf:resource=\"http://purl.org/dc/dcmitype/StillImage\"/>\n    <dc:date>2024-06-17T20:26:02.756445</dc:date>\n    <dc:format>image/svg+xml</dc:format>\n    <dc:creator>\n     <cc:Agent>\n      <dc:title>Matplotlib v3.7.1, https://matplotlib.org/</dc:title>\n     </cc:Agent>\n    </dc:creator>\n   </cc:Work>\n  </rdf:RDF>\n </metadata>\n <defs>\n  <style type=\"text/css\">*{stroke-linejoin: round; stroke-linecap: butt}</style>\n </defs>\n <g id=\"figure_1\">\n  <g id=\"patch_1\">\n   <path d=\"M 0 877.79625 \nL 1040.542187 877.79625 \nL 1040.542187 0 \nL 0 0 \nz\n\" style=\"fill: #ffffff\"/>\n  </g>\n  <g id=\"axes_1\">\n   <g id=\"patch_2\">\n    <path d=\"M 28.942188 203.100734 \nL 1033.342188 203.100734 \nL 1033.342188 22.318125 \nL 28.942188 22.318125 \nz\n\" style=\"fill: #ffffff\"/>\n   </g>\n   <g id=\"matplotlib.axis_1\">\n    <g id=\"xtick_1\">\n     <g id=\"line2d_1\">\n      <defs>\n       <path id=\"m2dc4b1fe51\" d=\"M 0 0 \nL 0 3.5 \n\" style=\"stroke: #000000; stroke-width: 0.8\"/>\n      </defs>\n      <g>\n       <use xlink:href=\"#m2dc4b1fe51\" x=\"74.596733\" y=\"203.100734\" style=\"stroke: #000000; stroke-width: 0.8\"/>\n      </g>\n     </g>\n     <g id=\"text_1\">\n      <!-- 0 -->\n      <g transform=\"translate(71.415483 217.699171) scale(0.1 -0.1)\">\n       <defs>\n        <path id=\"DejaVuSans-30\" d=\"M 2034 4250 \nQ 1547 4250 1301 3770 \nQ 1056 3291 1056 2328 \nQ 1056 1369 1301 889 \nQ 1547 409 2034 409 \nQ 2525 409 2770 889 \nQ 3016 1369 3016 2328 \nQ 3016 3291 2770 3770 \nQ 2525 4250 2034 4250 \nz\nM 2034 4750 \nQ 2819 4750 3233 4129 \nQ 3647 3509 3647 2328 \nQ 3647 1150 3233 529 \nQ 2819 -91 2034 -91 \nQ 1250 -91 836 529 \nQ 422 1150 422 2328 \nQ 422 3509 836 4129 \nQ 1250 4750 2034 4750 \nz\n\" transform=\"scale(0.015625)\"/>\n       </defs>\n       <use xlink:href=\"#DejaVuSans-30\"/>\n      </g>\n     </g>\n    </g>\n    <g id=\"xtick_2\">\n     <g id=\"line2d_2\">\n      <g>\n       <use xlink:href=\"#m2dc4b1fe51\" x=\"260.941816\" y=\"203.100734\" style=\"stroke: #000000; stroke-width: 0.8\"/>\n      </g>\n     </g>\n     <g id=\"text_2\">\n      <!-- 10 -->\n      <g transform=\"translate(254.579316 217.699171) scale(0.1 -0.1)\">\n       <defs>\n        <path id=\"DejaVuSans-31\" d=\"M 794 531 \nL 1825 531 \nL 1825 4091 \nL 703 3866 \nL 703 4441 \nL 1819 4666 \nL 2450 4666 \nL 2450 531 \nL 3481 531 \nL 3481 0 \nL 794 0 \nL 794 531 \nz\n\" transform=\"scale(0.015625)\"/>\n       </defs>\n       <use xlink:href=\"#DejaVuSans-31\"/>\n       <use xlink:href=\"#DejaVuSans-30\" x=\"63.623047\"/>\n      </g>\n     </g>\n    </g>\n    <g id=\"xtick_3\">\n     <g id=\"line2d_3\">\n      <g>\n       <use xlink:href=\"#m2dc4b1fe51\" x=\"447.2869\" y=\"203.100734\" style=\"stroke: #000000; stroke-width: 0.8\"/>\n      </g>\n     </g>\n     <g id=\"text_3\">\n      <!-- 20 -->\n      <g transform=\"translate(440.9244 217.699171) scale(0.1 -0.1)\">\n       <defs>\n        <path id=\"DejaVuSans-32\" d=\"M 1228 531 \nL 3431 531 \nL 3431 0 \nL 469 0 \nL 469 531 \nQ 828 903 1448 1529 \nQ 2069 2156 2228 2338 \nQ 2531 2678 2651 2914 \nQ 2772 3150 2772 3378 \nQ 2772 3750 2511 3984 \nQ 2250 4219 1831 4219 \nQ 1534 4219 1204 4116 \nQ 875 4013 500 3803 \nL 500 4441 \nQ 881 4594 1212 4672 \nQ 1544 4750 1819 4750 \nQ 2544 4750 2975 4387 \nQ 3406 4025 3406 3419 \nQ 3406 3131 3298 2873 \nQ 3191 2616 2906 2266 \nQ 2828 2175 2409 1742 \nQ 1991 1309 1228 531 \nz\n\" transform=\"scale(0.015625)\"/>\n       </defs>\n       <use xlink:href=\"#DejaVuSans-32\"/>\n       <use xlink:href=\"#DejaVuSans-30\" x=\"63.623047\"/>\n      </g>\n     </g>\n    </g>\n    <g id=\"xtick_4\">\n     <g id=\"line2d_4\">\n      <g>\n       <use xlink:href=\"#m2dc4b1fe51\" x=\"633.631983\" y=\"203.100734\" style=\"stroke: #000000; stroke-width: 0.8\"/>\n      </g>\n     </g>\n     <g id=\"text_4\">\n      <!-- 30 -->\n      <g transform=\"translate(627.269483 217.699171) scale(0.1 -0.1)\">\n       <defs>\n        <path id=\"DejaVuSans-33\" d=\"M 2597 2516 \nQ 3050 2419 3304 2112 \nQ 3559 1806 3559 1356 \nQ 3559 666 3084 287 \nQ 2609 -91 1734 -91 \nQ 1441 -91 1130 -33 \nQ 819 25 488 141 \nL 488 750 \nQ 750 597 1062 519 \nQ 1375 441 1716 441 \nQ 2309 441 2620 675 \nQ 2931 909 2931 1356 \nQ 2931 1769 2642 2001 \nQ 2353 2234 1838 2234 \nL 1294 2234 \nL 1294 2753 \nL 1863 2753 \nQ 2328 2753 2575 2939 \nQ 2822 3125 2822 3475 \nQ 2822 3834 2567 4026 \nQ 2313 4219 1838 4219 \nQ 1578 4219 1281 4162 \nQ 984 4106 628 3988 \nL 628 4550 \nQ 988 4650 1302 4700 \nQ 1616 4750 1894 4750 \nQ 2613 4750 3031 4423 \nQ 3450 4097 3450 3541 \nQ 3450 3153 3228 2886 \nQ 3006 2619 2597 2516 \nz\n\" transform=\"scale(0.015625)\"/>\n       </defs>\n       <use xlink:href=\"#DejaVuSans-33\"/>\n       <use xlink:href=\"#DejaVuSans-30\" x=\"63.623047\"/>\n      </g>\n     </g>\n    </g>\n    <g id=\"xtick_5\">\n     <g id=\"line2d_5\">\n      <g>\n       <use xlink:href=\"#m2dc4b1fe51\" x=\"819.977067\" y=\"203.100734\" style=\"stroke: #000000; stroke-width: 0.8\"/>\n      </g>\n     </g>\n     <g id=\"text_5\">\n      <!-- 40 -->\n      <g transform=\"translate(813.614567 217.699171) scale(0.1 -0.1)\">\n       <defs>\n        <path id=\"DejaVuSans-34\" d=\"M 2419 4116 \nL 825 1625 \nL 2419 1625 \nL 2419 4116 \nz\nM 2253 4666 \nL 3047 4666 \nL 3047 1625 \nL 3713 1625 \nL 3713 1100 \nL 3047 1100 \nL 3047 0 \nL 2419 0 \nL 2419 1100 \nL 313 1100 \nL 313 1709 \nL 2253 4666 \nz\n\" transform=\"scale(0.015625)\"/>\n       </defs>\n       <use xlink:href=\"#DejaVuSans-34\"/>\n       <use xlink:href=\"#DejaVuSans-30\" x=\"63.623047\"/>\n      </g>\n     </g>\n    </g>\n    <g id=\"xtick_6\">\n     <g id=\"line2d_6\">\n      <g>\n       <use xlink:href=\"#m2dc4b1fe51\" x=\"1006.32215\" y=\"203.100734\" style=\"stroke: #000000; stroke-width: 0.8\"/>\n      </g>\n     </g>\n     <g id=\"text_6\">\n      <!-- 50 -->\n      <g transform=\"translate(999.95965 217.699171) scale(0.1 -0.1)\">\n       <defs>\n        <path id=\"DejaVuSans-35\" d=\"M 691 4666 \nL 3169 4666 \nL 3169 4134 \nL 1269 4134 \nL 1269 2991 \nQ 1406 3038 1543 3061 \nQ 1681 3084 1819 3084 \nQ 2600 3084 3056 2656 \nQ 3513 2228 3513 1497 \nQ 3513 744 3044 326 \nQ 2575 -91 1722 -91 \nQ 1428 -91 1123 -41 \nQ 819 9 494 109 \nL 494 744 \nQ 775 591 1075 516 \nQ 1375 441 1709 441 \nQ 2250 441 2565 725 \nQ 2881 1009 2881 1497 \nQ 2881 1984 2565 2268 \nQ 2250 2553 1709 2553 \nQ 1456 2553 1204 2497 \nQ 953 2441 691 2322 \nL 691 4666 \nz\n\" transform=\"scale(0.015625)\"/>\n       </defs>\n       <use xlink:href=\"#DejaVuSans-35\"/>\n       <use xlink:href=\"#DejaVuSans-30\" x=\"63.623047\"/>\n      </g>\n     </g>\n    </g>\n   </g>\n   <g id=\"matplotlib.axis_2\">\n    <g id=\"ytick_1\">\n     <g id=\"line2d_7\">\n      <defs>\n       <path id=\"mddd56038ee\" d=\"M 0 0 \nL -3.5 0 \n\" style=\"stroke: #000000; stroke-width: 0.8\"/>\n      </defs>\n      <g>\n       <use xlink:href=\"#mddd56038ee\" x=\"28.942188\" y=\"182.297428\" style=\"stroke: #000000; stroke-width: 0.8\"/>\n      </g>\n     </g>\n     <g id=\"text_7\">\n      <!-- −4 -->\n      <g transform=\"translate(7.2 186.096647) scale(0.1 -0.1)\">\n       <defs>\n        <path id=\"DejaVuSans-2212\" d=\"M 678 2272 \nL 4684 2272 \nL 4684 1741 \nL 678 1741 \nL 678 2272 \nz\n\" transform=\"scale(0.015625)\"/>\n       </defs>\n       <use xlink:href=\"#DejaVuSans-2212\"/>\n       <use xlink:href=\"#DejaVuSans-34\" x=\"83.789062\"/>\n      </g>\n     </g>\n    </g>\n    <g id=\"ytick_2\">\n     <g id=\"line2d_8\">\n      <g>\n       <use xlink:href=\"#mddd56038ee\" x=\"28.942188\" y=\"149.693239\" style=\"stroke: #000000; stroke-width: 0.8\"/>\n      </g>\n     </g>\n     <g id=\"text_8\">\n      <!-- −2 -->\n      <g transform=\"translate(7.2 153.492458) scale(0.1 -0.1)\">\n       <use xlink:href=\"#DejaVuSans-2212\"/>\n       <use xlink:href=\"#DejaVuSans-32\" x=\"83.789062\"/>\n      </g>\n     </g>\n    </g>\n    <g id=\"ytick_3\">\n     <g id=\"line2d_9\">\n      <g>\n       <use xlink:href=\"#mddd56038ee\" x=\"28.942188\" y=\"117.08905\" style=\"stroke: #000000; stroke-width: 0.8\"/>\n      </g>\n     </g>\n     <g id=\"text_9\">\n      <!-- 0 -->\n      <g transform=\"translate(15.579688 120.888269) scale(0.1 -0.1)\">\n       <use xlink:href=\"#DejaVuSans-30\"/>\n      </g>\n     </g>\n    </g>\n    <g id=\"ytick_4\">\n     <g id=\"line2d_10\">\n      <g>\n       <use xlink:href=\"#mddd56038ee\" x=\"28.942188\" y=\"84.484861\" style=\"stroke: #000000; stroke-width: 0.8\"/>\n      </g>\n     </g>\n     <g id=\"text_10\">\n      <!-- 2 -->\n      <g transform=\"translate(15.579688 88.28408) scale(0.1 -0.1)\">\n       <use xlink:href=\"#DejaVuSans-32\"/>\n      </g>\n     </g>\n    </g>\n    <g id=\"ytick_5\">\n     <g id=\"line2d_11\">\n      <g>\n       <use xlink:href=\"#mddd56038ee\" x=\"28.942188\" y=\"51.880672\" style=\"stroke: #000000; stroke-width: 0.8\"/>\n      </g>\n     </g>\n     <g id=\"text_11\">\n      <!-- 4 -->\n      <g transform=\"translate(15.579688 55.679891) scale(0.1 -0.1)\">\n       <use xlink:href=\"#DejaVuSans-34\"/>\n      </g>\n     </g>\n    </g>\n   </g>\n   <g id=\"line2d_12\">\n    <path d=\"M 74.596733 149.66157 \nL 93.231241 143.55236 \nL 111.86575 134.450792 \nL 130.500258 124.348093 \nL 149.134766 116.492647 \nL 167.769275 111.581863 \nL 186.403783 106.320317 \nL 205.038291 101.992914 \nL 223.6728 96.3677 \nL 242.307308 90.855681 \nL 260.941816 87.624783 \nL 279.576325 91.951278 \nL 298.210833 107.400015 \nL 316.845341 118.344829 \nL 335.47985 121.242935 \nL 354.114358 132.050842 \nL 372.748867 150.118874 \nL 391.383375 159.545855 \nL 410.017883 155.47339 \nL 428.652392 147.413848 \nL 447.2869 139.353466 \nL 465.921408 131.654304 \nL 484.555917 122.494056 \nL 503.190425 114.157865 \nL 521.824933 106.620759 \nL 540.459442 98.880796 \nL 559.09395 92.653914 \nL 577.728458 88.54656 \nL 596.362967 88.707421 \nL 614.997475 95.222269 \nL 633.631983 106.394357 \nL 652.266492 117.152205 \nL 670.901 131.982353 \nL 689.535508 143.939307 \nL 708.170017 154.397588 \nL 726.804525 155.440442 \nL 745.439034 151.536226 \nL 764.073542 144.163907 \nL 782.70805 135.278838 \nL 801.342559 126.280099 \nL 819.977067 117.996969 \nL 838.611575 113.363248 \nL 857.246084 107.477036 \nL 875.880592 102.169493 \nL 894.5151 97.529328 \nL 913.149609 92.534325 \nL 931.784117 88.823943 \nL 950.418625 90.317681 \nL 969.053134 97.095051 \nL 987.687642 108.95367 \n\" clip-path=\"url(#p8648be612d)\" style=\"fill: none; stroke: #1f77b4; stroke-width: 1.5; stroke-linecap: square\"/>\n   </g>\n   <g id=\"line2d_13\">\n    <path d=\"M 74.596733 127.098887 \nL 93.231241 122.560413 \nL 111.86575 118.127091 \nL 130.500258 114.722385 \nL 149.134766 112.072843 \nL 167.769275 109.161903 \nL 186.403783 106.323371 \nL 205.038291 104.20069 \nL 223.6728 101.871198 \nL 242.307308 96.553308 \nL 260.941816 91.153738 \nL 279.576325 87.925108 \nL 298.210833 90.101464 \nL 316.845341 96.13081 \nL 335.47985 104.227578 \nL 354.114358 112.832487 \nL 372.748867 122.247415 \nL 391.383375 129.32952 \nL 410.017883 129.687108 \nL 428.652392 125.485015 \nL 447.2869 120.545023 \nL 465.921408 117.268894 \nL 484.555917 114.519626 \nL 503.190425 111.812438 \nL 521.824933 109.026606 \nL 540.459442 105.186096 \nL 559.09395 100.904117 \nL 577.728458 97.005999 \nL 596.362967 92.184526 \nL 614.997475 87.010931 \nL 633.631983 87.621576 \nL 652.266492 94.085018 \nL 670.901 104.975132 \nL 689.535508 114.652678 \nL 708.170017 122.816795 \nL 726.804525 125.361833 \nL 745.439034 123.791407 \nL 764.073542 119.298284 \nL 782.70805 115.567154 \nL 801.342559 113.68603 \nL 819.977067 112.157605 \nL 838.611575 111.157277 \nL 857.246084 110.684067 \nL 875.880592 108.848144 \nL 894.5151 104.909442 \nL 913.149609 98.428473 \nL 931.784117 90.881352 \nL 950.418625 85.886063 \nL 969.053134 85.312012 \nL 987.687642 89.805988 \n\" clip-path=\"url(#p8648be612d)\" style=\"fill: none; stroke: #ff7f0e; stroke-width: 1.5; stroke-linecap: square\"/>\n   </g>\n   <g id=\"line2d_14\">\n    <path d=\"M 74.596733 120.41645 \nL 93.231241 106.240299 \nL 111.86575 95.393266 \nL 130.500258 87.651428 \nL 149.134766 84.977206 \nL 167.769275 88.739815 \nL 186.403783 94.663607 \nL 205.038291 94.898875 \nL 223.6728 97.148051 \nL 242.307308 105.784273 \nL 260.941816 120.466279 \nL 279.576325 134.351235 \nL 298.210833 140.724814 \nL 316.845341 145.433236 \nL 335.47985 155.269026 \nL 354.114358 150.968034 \nL 372.748867 137.901764 \nL 391.383375 131.239053 \nL 410.017883 126.02745 \nL 428.652392 116.266305 \nL 447.2869 102.11839 \nL 465.921408 91.250712 \nL 484.555917 83.730343 \nL 503.190425 82.193712 \nL 521.824933 87.122639 \nL 540.459442 94.603132 \nL 559.09395 102.313553 \nL 577.728458 106.385202 \nL 596.362967 109.873344 \nL 614.997475 123.72794 \nL 633.631983 151.289913 \nL 652.266492 170.115539 \nL 670.901 168.186318 \nL 689.535508 154.42551 \nL 708.170017 138.342574 \nL 726.804525 127.113904 \nL 745.439034 117.685093 \nL 764.073542 106.040916 \nL 782.70805 93.830314 \nL 801.342559 84.619927 \nL 819.977067 81.604765 \nL 838.611575 86.03084 \nL 857.246084 90.938305 \nL 875.880592 92.469191 \nL 894.5151 95.417513 \nL 913.149609 100.969675 \nL 931.784117 115.02983 \nL 950.418625 130.428002 \nL 969.053134 145.132396 \nL 987.687642 152.867486 \n\" clip-path=\"url(#p8648be612d)\" style=\"fill: none; stroke: #2ca02c; stroke-width: 1.5; stroke-linecap: square\"/>\n   </g>\n   <g id=\"line2d_15\">\n    <path d=\"M 74.596733 45.300404 \nL 93.231241 53.125317 \nL 111.86575 70.888368 \nL 130.500258 97.819272 \nL 149.134766 125.125002 \nL 167.769275 138.507715 \nL 186.403783 144.728074 \nL 205.038291 157.708104 \nL 223.6728 175.286384 \nL 242.307308 185.361161 \nL 260.941816 178.763772 \nL 279.576325 159.83994 \nL 298.210833 144.391395 \nL 316.845341 124.305185 \nL 335.47985 95.771545 \nL 354.114358 83.204544 \nL 372.748867 77.647658 \nL 391.383375 63.953297 \nL 410.017883 49.30355 \nL 428.652392 45.274682 \nL 447.2869 55.962511 \nL 465.921408 79.815236 \nL 484.555917 109.938301 \nL 503.190425 137.461551 \nL 521.824933 152.526644 \nL 540.459442 158.650385 \nL 559.09395 159.936956 \nL 577.728458 169.863497 \nL 596.362967 190.390501 \nL 614.997475 190.173949 \nL 633.631983 153.882337 \nL 652.266492 103.340916 \nL 670.901 68.050828 \nL 689.535508 55.364407 \nL 708.170017 49.227657 \nL 726.804525 40.917223 \nL 745.439034 36.59693 \nL 764.073542 42.096463 \nL 782.70805 61.462289 \nL 801.342559 92.268345 \nL 819.977067 120.825092 \nL 838.611575 134.260404 \nL 857.246084 143.168428 \nL 875.880592 156.830229 \nL 894.5151 174.518865 \nL 913.149609 191.23036 \nL 931.784117 194.883342 \nL 950.418625 179.271911 \nL 969.053134 149.614823 \nL 987.687642 119.556161 \n\" clip-path=\"url(#p8648be612d)\" style=\"fill: none; stroke: #d62728; stroke-width: 1.5; stroke-linecap: square\"/>\n   </g>\n   <g id=\"line2d_16\">\n    <path d=\"M 74.596733 101.457633 \nL 93.231241 105.513722 \nL 111.86575 115.832715 \nL 130.500258 123.096082 \nL 149.134766 124.865881 \nL 167.769275 130.332795 \nL 186.403783 143.491912 \nL 205.038291 154.712358 \nL 223.6728 158.399443 \nL 242.307308 153.549357 \nL 260.941816 149.35202 \nL 279.576325 144.740343 \nL 298.210833 139.398142 \nL 316.845341 136.395097 \nL 335.47985 120.287018 \nL 354.114358 95.903087 \nL 372.748867 89.709234 \nL 391.383375 98.205336 \nL 410.017883 102.9425 \nL 428.652392 103.88929 \nL 447.2869 111.661342 \nL 465.921408 117.56998 \nL 484.555917 125.430312 \nL 503.190425 133.536152 \nL 521.824933 145.222389 \nL 540.459442 155.116387 \nL 559.09395 163.021859 \nL 577.728458 162.90778 \nL 596.362967 151.039845 \nL 614.997475 142.127525 \nL 633.631983 137.158158 \nL 652.266492 128.503187 \nL 670.901 111.936055 \nL 689.535508 89.239453 \nL 708.170017 84.970738 \nL 726.804525 96.021416 \nL 745.439034 98.479414 \nL 764.073542 104.573954 \nL 782.70805 111.597877 \nL 801.342559 114.852962 \nL 819.977067 121.872545 \nL 838.611575 133.978551 \nL 857.246084 149.704977 \nL 875.880592 156.946174 \nL 894.5151 160.510928 \nL 913.149609 156.036724 \nL 931.784117 145.998692 \nL 950.418625 146.891581 \nL 969.053134 143.548497 \nL 987.687642 133.758354 \n\" clip-path=\"url(#p8648be612d)\" style=\"fill: none; stroke: #9467bd; stroke-width: 1.5; stroke-linecap: square\"/>\n   </g>\n   <g id=\"line2d_17\">\n    <path d=\"M 74.596733 152.403999 \nL 93.231241 168.310658 \nL 111.86575 176.660663 \nL 130.500258 177.667631 \nL 149.134766 173.819057 \nL 167.769275 168.320686 \nL 186.403783 161.715341 \nL 205.038291 150.88478 \nL 223.6728 134.015131 \nL 242.307308 106.673795 \nL 260.941816 73.488134 \nL 279.576325 50.892278 \nL 298.210833 49.080436 \nL 316.845341 51.265598 \nL 335.47985 44.931267 \nL 354.114358 48.48897 \nL 372.748867 75.668846 \nL 391.383375 112.126541 \nL 410.017883 139.985185 \nL 428.652392 157.832063 \nL 447.2869 169.918681 \nL 465.921408 176.076955 \nL 484.555917 175.613755 \nL 503.190425 172.103804 \nL 521.824933 164.105625 \nL 540.459442 148.990955 \nL 559.09395 126.822761 \nL 577.728458 98.047392 \nL 596.362967 69.247052 \nL 614.997475 48.932119 \nL 633.631983 39.718745 \nL 652.266492 42.0683 \nL 670.901 53.65568 \nL 689.535508 71.225448 \nL 708.170017 98.453488 \nL 726.804525 126.060848 \nL 745.439034 149.27125 \nL 764.073542 164.507326 \nL 782.70805 172.44641 \nL 801.342559 172.234712 \nL 819.977067 169.234991 \nL 838.611575 166.735288 \nL 857.246084 160.593785 \nL 875.880592 150.766278 \nL 894.5151 135.963966 \nL 913.149609 111.725176 \nL 931.784117 82.464609 \nL 950.418625 56.193029 \nL 969.053134 37.004973 \nL 987.687642 30.535516 \n\" clip-path=\"url(#p8648be612d)\" style=\"fill: none; stroke: #8c564b; stroke-width: 1.5; stroke-linecap: square\"/>\n   </g>\n   <g id=\"patch_3\">\n    <path d=\"M 28.942188 203.100734 \nL 28.942188 22.318125 \n\" style=\"fill: none; stroke: #000000; stroke-width: 0.8; stroke-linejoin: miter; stroke-linecap: square\"/>\n   </g>\n   <g id=\"patch_4\">\n    <path d=\"M 1033.342188 203.100734 \nL 1033.342188 22.318125 \n\" style=\"fill: none; stroke: #000000; stroke-width: 0.8; stroke-linejoin: miter; stroke-linecap: square\"/>\n   </g>\n   <g id=\"patch_5\">\n    <path d=\"M 28.942188 203.100734 \nL 1033.342187 203.100734 \n\" style=\"fill: none; stroke: #000000; stroke-width: 0.8; stroke-linejoin: miter; stroke-linecap: square\"/>\n   </g>\n   <g id=\"patch_6\">\n    <path d=\"M 28.942188 22.318125 \nL 1033.342187 22.318125 \n\" style=\"fill: none; stroke: #000000; stroke-width: 0.8; stroke-linejoin: miter; stroke-linecap: square\"/>\n   </g>\n   <g id=\"text_12\">\n    <!-- Sample 45 Class:['Attack'] -->\n    <g transform=\"translate(452.255313 16.318125) scale(0.12 -0.12)\">\n     <defs>\n      <path id=\"DejaVuSans-53\" d=\"M 3425 4513 \nL 3425 3897 \nQ 3066 4069 2747 4153 \nQ 2428 4238 2131 4238 \nQ 1616 4238 1336 4038 \nQ 1056 3838 1056 3469 \nQ 1056 3159 1242 3001 \nQ 1428 2844 1947 2747 \nL 2328 2669 \nQ 3034 2534 3370 2195 \nQ 3706 1856 3706 1288 \nQ 3706 609 3251 259 \nQ 2797 -91 1919 -91 \nQ 1588 -91 1214 -16 \nQ 841 59 441 206 \nL 441 856 \nQ 825 641 1194 531 \nQ 1563 422 1919 422 \nQ 2459 422 2753 634 \nQ 3047 847 3047 1241 \nQ 3047 1584 2836 1778 \nQ 2625 1972 2144 2069 \nL 1759 2144 \nQ 1053 2284 737 2584 \nQ 422 2884 422 3419 \nQ 422 4038 858 4394 \nQ 1294 4750 2059 4750 \nQ 2388 4750 2728 4690 \nQ 3069 4631 3425 4513 \nz\n\" transform=\"scale(0.015625)\"/>\n      <path id=\"DejaVuSans-61\" d=\"M 2194 1759 \nQ 1497 1759 1228 1600 \nQ 959 1441 959 1056 \nQ 959 750 1161 570 \nQ 1363 391 1709 391 \nQ 2188 391 2477 730 \nQ 2766 1069 2766 1631 \nL 2766 1759 \nL 2194 1759 \nz\nM 3341 1997 \nL 3341 0 \nL 2766 0 \nL 2766 531 \nQ 2569 213 2275 61 \nQ 1981 -91 1556 -91 \nQ 1019 -91 701 211 \nQ 384 513 384 1019 \nQ 384 1609 779 1909 \nQ 1175 2209 1959 2209 \nL 2766 2209 \nL 2766 2266 \nQ 2766 2663 2505 2880 \nQ 2244 3097 1772 3097 \nQ 1472 3097 1187 3025 \nQ 903 2953 641 2809 \nL 641 3341 \nQ 956 3463 1253 3523 \nQ 1550 3584 1831 3584 \nQ 2591 3584 2966 3190 \nQ 3341 2797 3341 1997 \nz\n\" transform=\"scale(0.015625)\"/>\n      <path id=\"DejaVuSans-6d\" d=\"M 3328 2828 \nQ 3544 3216 3844 3400 \nQ 4144 3584 4550 3584 \nQ 5097 3584 5394 3201 \nQ 5691 2819 5691 2113 \nL 5691 0 \nL 5113 0 \nL 5113 2094 \nQ 5113 2597 4934 2840 \nQ 4756 3084 4391 3084 \nQ 3944 3084 3684 2787 \nQ 3425 2491 3425 1978 \nL 3425 0 \nL 2847 0 \nL 2847 2094 \nQ 2847 2600 2669 2842 \nQ 2491 3084 2119 3084 \nQ 1678 3084 1418 2786 \nQ 1159 2488 1159 1978 \nL 1159 0 \nL 581 0 \nL 581 3500 \nL 1159 3500 \nL 1159 2956 \nQ 1356 3278 1631 3431 \nQ 1906 3584 2284 3584 \nQ 2666 3584 2933 3390 \nQ 3200 3197 3328 2828 \nz\n\" transform=\"scale(0.015625)\"/>\n      <path id=\"DejaVuSans-70\" d=\"M 1159 525 \nL 1159 -1331 \nL 581 -1331 \nL 581 3500 \nL 1159 3500 \nL 1159 2969 \nQ 1341 3281 1617 3432 \nQ 1894 3584 2278 3584 \nQ 2916 3584 3314 3078 \nQ 3713 2572 3713 1747 \nQ 3713 922 3314 415 \nQ 2916 -91 2278 -91 \nQ 1894 -91 1617 61 \nQ 1341 213 1159 525 \nz\nM 3116 1747 \nQ 3116 2381 2855 2742 \nQ 2594 3103 2138 3103 \nQ 1681 3103 1420 2742 \nQ 1159 2381 1159 1747 \nQ 1159 1113 1420 752 \nQ 1681 391 2138 391 \nQ 2594 391 2855 752 \nQ 3116 1113 3116 1747 \nz\n\" transform=\"scale(0.015625)\"/>\n      <path id=\"DejaVuSans-6c\" d=\"M 603 4863 \nL 1178 4863 \nL 1178 0 \nL 603 0 \nL 603 4863 \nz\n\" transform=\"scale(0.015625)\"/>\n      <path id=\"DejaVuSans-65\" d=\"M 3597 1894 \nL 3597 1613 \nL 953 1613 \nQ 991 1019 1311 708 \nQ 1631 397 2203 397 \nQ 2534 397 2845 478 \nQ 3156 559 3463 722 \nL 3463 178 \nQ 3153 47 2828 -22 \nQ 2503 -91 2169 -91 \nQ 1331 -91 842 396 \nQ 353 884 353 1716 \nQ 353 2575 817 3079 \nQ 1281 3584 2069 3584 \nQ 2775 3584 3186 3129 \nQ 3597 2675 3597 1894 \nz\nM 3022 2063 \nQ 3016 2534 2758 2815 \nQ 2500 3097 2075 3097 \nQ 1594 3097 1305 2825 \nQ 1016 2553 972 2059 \nL 3022 2063 \nz\n\" transform=\"scale(0.015625)\"/>\n      <path id=\"DejaVuSans-20\" transform=\"scale(0.015625)\"/>\n      <path id=\"DejaVuSans-43\" d=\"M 4122 4306 \nL 4122 3641 \nQ 3803 3938 3442 4084 \nQ 3081 4231 2675 4231 \nQ 1875 4231 1450 3742 \nQ 1025 3253 1025 2328 \nQ 1025 1406 1450 917 \nQ 1875 428 2675 428 \nQ 3081 428 3442 575 \nQ 3803 722 4122 1019 \nL 4122 359 \nQ 3791 134 3420 21 \nQ 3050 -91 2638 -91 \nQ 1578 -91 968 557 \nQ 359 1206 359 2328 \nQ 359 3453 968 4101 \nQ 1578 4750 2638 4750 \nQ 3056 4750 3426 4639 \nQ 3797 4528 4122 4306 \nz\n\" transform=\"scale(0.015625)\"/>\n      <path id=\"DejaVuSans-73\" d=\"M 2834 3397 \nL 2834 2853 \nQ 2591 2978 2328 3040 \nQ 2066 3103 1784 3103 \nQ 1356 3103 1142 2972 \nQ 928 2841 928 2578 \nQ 928 2378 1081 2264 \nQ 1234 2150 1697 2047 \nL 1894 2003 \nQ 2506 1872 2764 1633 \nQ 3022 1394 3022 966 \nQ 3022 478 2636 193 \nQ 2250 -91 1575 -91 \nQ 1294 -91 989 -36 \nQ 684 19 347 128 \nL 347 722 \nQ 666 556 975 473 \nQ 1284 391 1588 391 \nQ 1994 391 2212 530 \nQ 2431 669 2431 922 \nQ 2431 1156 2273 1281 \nQ 2116 1406 1581 1522 \nL 1381 1569 \nQ 847 1681 609 1914 \nQ 372 2147 372 2553 \nQ 372 3047 722 3315 \nQ 1072 3584 1716 3584 \nQ 2034 3584 2315 3537 \nQ 2597 3491 2834 3397 \nz\n\" transform=\"scale(0.015625)\"/>\n      <path id=\"DejaVuSans-3a\" d=\"M 750 794 \nL 1409 794 \nL 1409 0 \nL 750 0 \nL 750 794 \nz\nM 750 3309 \nL 1409 3309 \nL 1409 2516 \nL 750 2516 \nL 750 3309 \nz\n\" transform=\"scale(0.015625)\"/>\n      <path id=\"DejaVuSans-5b\" d=\"M 550 4863 \nL 1875 4863 \nL 1875 4416 \nL 1125 4416 \nL 1125 -397 \nL 1875 -397 \nL 1875 -844 \nL 550 -844 \nL 550 4863 \nz\n\" transform=\"scale(0.015625)\"/>\n      <path id=\"DejaVuSans-27\" d=\"M 1147 4666 \nL 1147 2931 \nL 616 2931 \nL 616 4666 \nL 1147 4666 \nz\n\" transform=\"scale(0.015625)\"/>\n      <path id=\"DejaVuSans-41\" d=\"M 2188 4044 \nL 1331 1722 \nL 3047 1722 \nL 2188 4044 \nz\nM 1831 4666 \nL 2547 4666 \nL 4325 0 \nL 3669 0 \nL 3244 1197 \nL 1141 1197 \nL 716 0 \nL 50 0 \nL 1831 4666 \nz\n\" transform=\"scale(0.015625)\"/>\n      <path id=\"DejaVuSans-74\" d=\"M 1172 4494 \nL 1172 3500 \nL 2356 3500 \nL 2356 3053 \nL 1172 3053 \nL 1172 1153 \nQ 1172 725 1289 603 \nQ 1406 481 1766 481 \nL 2356 481 \nL 2356 0 \nL 1766 0 \nQ 1100 0 847 248 \nQ 594 497 594 1153 \nL 594 3053 \nL 172 3053 \nL 172 3500 \nL 594 3500 \nL 594 4494 \nL 1172 4494 \nz\n\" transform=\"scale(0.015625)\"/>\n      <path id=\"DejaVuSans-63\" d=\"M 3122 3366 \nL 3122 2828 \nQ 2878 2963 2633 3030 \nQ 2388 3097 2138 3097 \nQ 1578 3097 1268 2742 \nQ 959 2388 959 1747 \nQ 959 1106 1268 751 \nQ 1578 397 2138 397 \nQ 2388 397 2633 464 \nQ 2878 531 3122 666 \nL 3122 134 \nQ 2881 22 2623 -34 \nQ 2366 -91 2075 -91 \nQ 1284 -91 818 406 \nQ 353 903 353 1747 \nQ 353 2603 823 3093 \nQ 1294 3584 2113 3584 \nQ 2378 3584 2631 3529 \nQ 2884 3475 3122 3366 \nz\n\" transform=\"scale(0.015625)\"/>\n      <path id=\"DejaVuSans-6b\" d=\"M 581 4863 \nL 1159 4863 \nL 1159 1991 \nL 2875 3500 \nL 3609 3500 \nL 1753 1863 \nL 3688 0 \nL 2938 0 \nL 1159 1709 \nL 1159 0 \nL 581 0 \nL 581 4863 \nz\n\" transform=\"scale(0.015625)\"/>\n      <path id=\"DejaVuSans-5d\" d=\"M 1947 4863 \nL 1947 -844 \nL 622 -844 \nL 622 -397 \nL 1369 -397 \nL 1369 4416 \nL 622 4416 \nL 622 4863 \nL 1947 4863 \nz\n\" transform=\"scale(0.015625)\"/>\n     </defs>\n     <use xlink:href=\"#DejaVuSans-53\"/>\n     <use xlink:href=\"#DejaVuSans-61\" x=\"63.476562\"/>\n     <use xlink:href=\"#DejaVuSans-6d\" x=\"124.755859\"/>\n     <use xlink:href=\"#DejaVuSans-70\" x=\"222.167969\"/>\n     <use xlink:href=\"#DejaVuSans-6c\" x=\"285.644531\"/>\n     <use xlink:href=\"#DejaVuSans-65\" x=\"313.427734\"/>\n     <use xlink:href=\"#DejaVuSans-20\" x=\"374.951172\"/>\n     <use xlink:href=\"#DejaVuSans-34\" x=\"406.738281\"/>\n     <use xlink:href=\"#DejaVuSans-35\" x=\"470.361328\"/>\n     <use xlink:href=\"#DejaVuSans-20\" x=\"533.984375\"/>\n     <use xlink:href=\"#DejaVuSans-43\" x=\"565.771484\"/>\n     <use xlink:href=\"#DejaVuSans-6c\" x=\"635.595703\"/>\n     <use xlink:href=\"#DejaVuSans-61\" x=\"663.378906\"/>\n     <use xlink:href=\"#DejaVuSans-73\" x=\"724.658203\"/>\n     <use xlink:href=\"#DejaVuSans-73\" x=\"776.757812\"/>\n     <use xlink:href=\"#DejaVuSans-3a\" x=\"828.857422\"/>\n     <use xlink:href=\"#DejaVuSans-5b\" x=\"862.548828\"/>\n     <use xlink:href=\"#DejaVuSans-27\" x=\"901.5625\"/>\n     <use xlink:href=\"#DejaVuSans-41\" x=\"929.052734\"/>\n     <use xlink:href=\"#DejaVuSans-74\" x=\"995.710938\"/>\n     <use xlink:href=\"#DejaVuSans-74\" x=\"1034.919922\"/>\n     <use xlink:href=\"#DejaVuSans-61\" x=\"1074.128906\"/>\n     <use xlink:href=\"#DejaVuSans-63\" x=\"1135.408203\"/>\n     <use xlink:href=\"#DejaVuSans-6b\" x=\"1190.388672\"/>\n     <use xlink:href=\"#DejaVuSans-27\" x=\"1248.298828\"/>\n     <use xlink:href=\"#DejaVuSans-5d\" x=\"1275.789062\"/>\n    </g>\n   </g>\n   <g id=\"legend_1\">\n    <g id=\"patch_7\">\n     <path d=\"M 35.942188 118.386875 \nL 80.209375 118.386875 \nQ 82.209375 118.386875 82.209375 116.386875 \nL 82.209375 29.318125 \nQ 82.209375 27.318125 80.209375 27.318125 \nL 35.942188 27.318125 \nQ 33.942188 27.318125 33.942188 29.318125 \nL 33.942188 116.386875 \nQ 33.942188 118.386875 35.942188 118.386875 \nz\n\" style=\"fill: #ffffff; opacity: 0.8; stroke: #cccccc; stroke-linejoin: miter\"/>\n    </g>\n    <g id=\"line2d_18\">\n     <path d=\"M 37.942188 35.416562 \nL 47.942188 35.416562 \nL 57.942188 35.416562 \n\" style=\"fill: none; stroke: #1f77b4; stroke-width: 1.5; stroke-linecap: square\"/>\n    </g>\n    <g id=\"text_13\">\n     <!-- ax -->\n     <g transform=\"translate(65.942188 38.916562) scale(0.1 -0.1)\">\n      <defs>\n       <path id=\"DejaVuSans-78\" d=\"M 3513 3500 \nL 2247 1797 \nL 3578 0 \nL 2900 0 \nL 1881 1375 \nL 863 0 \nL 184 0 \nL 1544 1831 \nL 300 3500 \nL 978 3500 \nL 1906 2253 \nL 2834 3500 \nL 3513 3500 \nz\n\" transform=\"scale(0.015625)\"/>\n      </defs>\n      <use xlink:href=\"#DejaVuSans-61\"/>\n      <use xlink:href=\"#DejaVuSans-78\" x=\"61.279297\"/>\n     </g>\n    </g>\n    <g id=\"line2d_19\">\n     <path d=\"M 37.942188 50.094687 \nL 47.942188 50.094687 \nL 57.942188 50.094687 \n\" style=\"fill: none; stroke: #ff7f0e; stroke-width: 1.5; stroke-linecap: square\"/>\n    </g>\n    <g id=\"text_14\">\n     <!-- ay -->\n     <g transform=\"translate(65.942188 53.594687) scale(0.1 -0.1)\">\n      <defs>\n       <path id=\"DejaVuSans-79\" d=\"M 2059 -325 \nQ 1816 -950 1584 -1140 \nQ 1353 -1331 966 -1331 \nL 506 -1331 \nL 506 -850 \nL 844 -850 \nQ 1081 -850 1212 -737 \nQ 1344 -625 1503 -206 \nL 1606 56 \nL 191 3500 \nL 800 3500 \nL 1894 763 \nL 2988 3500 \nL 3597 3500 \nL 2059 -325 \nz\n\" transform=\"scale(0.015625)\"/>\n      </defs>\n      <use xlink:href=\"#DejaVuSans-61\"/>\n      <use xlink:href=\"#DejaVuSans-79\" x=\"61.279297\"/>\n     </g>\n    </g>\n    <g id=\"line2d_20\">\n     <path d=\"M 37.942188 64.772812 \nL 47.942188 64.772812 \nL 57.942188 64.772812 \n\" style=\"fill: none; stroke: #2ca02c; stroke-width: 1.5; stroke-linecap: square\"/>\n    </g>\n    <g id=\"text_15\">\n     <!-- az -->\n     <g transform=\"translate(65.942188 68.272812) scale(0.1 -0.1)\">\n      <defs>\n       <path id=\"DejaVuSans-7a\" d=\"M 353 3500 \nL 3084 3500 \nL 3084 2975 \nL 922 459 \nL 3084 459 \nL 3084 0 \nL 275 0 \nL 275 525 \nL 2438 3041 \nL 353 3041 \nL 353 3500 \nz\n\" transform=\"scale(0.015625)\"/>\n      </defs>\n      <use xlink:href=\"#DejaVuSans-61\"/>\n      <use xlink:href=\"#DejaVuSans-7a\" x=\"61.279297\"/>\n     </g>\n    </g>\n    <g id=\"line2d_21\">\n     <path d=\"M 37.942188 79.450937 \nL 47.942188 79.450937 \nL 57.942188 79.450937 \n\" style=\"fill: none; stroke: #d62728; stroke-width: 1.5; stroke-linecap: square\"/>\n    </g>\n    <g id=\"text_16\">\n     <!-- gx -->\n     <g transform=\"translate(65.942188 82.950937) scale(0.1 -0.1)\">\n      <defs>\n       <path id=\"DejaVuSans-67\" d=\"M 2906 1791 \nQ 2906 2416 2648 2759 \nQ 2391 3103 1925 3103 \nQ 1463 3103 1205 2759 \nQ 947 2416 947 1791 \nQ 947 1169 1205 825 \nQ 1463 481 1925 481 \nQ 2391 481 2648 825 \nQ 2906 1169 2906 1791 \nz\nM 3481 434 \nQ 3481 -459 3084 -895 \nQ 2688 -1331 1869 -1331 \nQ 1566 -1331 1297 -1286 \nQ 1028 -1241 775 -1147 \nL 775 -588 \nQ 1028 -725 1275 -790 \nQ 1522 -856 1778 -856 \nQ 2344 -856 2625 -561 \nQ 2906 -266 2906 331 \nL 2906 616 \nQ 2728 306 2450 153 \nQ 2172 0 1784 0 \nQ 1141 0 747 490 \nQ 353 981 353 1791 \nQ 353 2603 747 3093 \nQ 1141 3584 1784 3584 \nQ 2172 3584 2450 3431 \nQ 2728 3278 2906 2969 \nL 2906 3500 \nL 3481 3500 \nL 3481 434 \nz\n\" transform=\"scale(0.015625)\"/>\n      </defs>\n      <use xlink:href=\"#DejaVuSans-67\"/>\n      <use xlink:href=\"#DejaVuSans-78\" x=\"63.476562\"/>\n     </g>\n    </g>\n    <g id=\"line2d_22\">\n     <path d=\"M 37.942188 94.129062 \nL 47.942188 94.129062 \nL 57.942188 94.129062 \n\" style=\"fill: none; stroke: #9467bd; stroke-width: 1.5; stroke-linecap: square\"/>\n    </g>\n    <g id=\"text_17\">\n     <!-- gy -->\n     <g transform=\"translate(65.942188 97.629062) scale(0.1 -0.1)\">\n      <use xlink:href=\"#DejaVuSans-67\"/>\n      <use xlink:href=\"#DejaVuSans-79\" x=\"63.476562\"/>\n     </g>\n    </g>\n    <g id=\"line2d_23\">\n     <path d=\"M 37.942188 108.807187 \nL 47.942188 108.807187 \nL 57.942188 108.807187 \n\" style=\"fill: none; stroke: #8c564b; stroke-width: 1.5; stroke-linecap: square\"/>\n    </g>\n    <g id=\"text_18\">\n     <!-- gz -->\n     <g transform=\"translate(65.942188 112.307187) scale(0.1 -0.1)\">\n      <use xlink:href=\"#DejaVuSans-67\"/>\n      <use xlink:href=\"#DejaVuSans-7a\" x=\"63.476562\"/>\n     </g>\n    </g>\n   </g>\n  </g>\n  <g id=\"axes_2\">\n   <g id=\"patch_8\">\n    <path d=\"M 28.942188 420.039864 \nL 1033.342188 420.039864 \nL 1033.342188 239.257255 \nL 28.942188 239.257255 \nz\n\" style=\"fill: #ffffff\"/>\n   </g>\n   <g id=\"matplotlib.axis_3\">\n    <g id=\"xtick_7\">\n     <g id=\"line2d_24\">\n      <g>\n       <use xlink:href=\"#m2dc4b1fe51\" x=\"74.596733\" y=\"420.039864\" style=\"stroke: #000000; stroke-width: 0.8\"/>\n      </g>\n     </g>\n     <g id=\"text_19\">\n      <!-- 0 -->\n      <g transform=\"translate(71.415483 434.638302) scale(0.1 -0.1)\">\n       <use xlink:href=\"#DejaVuSans-30\"/>\n      </g>\n     </g>\n    </g>\n    <g id=\"xtick_8\">\n     <g id=\"line2d_25\">\n      <g>\n       <use xlink:href=\"#m2dc4b1fe51\" x=\"260.941816\" y=\"420.039864\" style=\"stroke: #000000; stroke-width: 0.8\"/>\n      </g>\n     </g>\n     <g id=\"text_20\">\n      <!-- 10 -->\n      <g transform=\"translate(254.579316 434.638302) scale(0.1 -0.1)\">\n       <use xlink:href=\"#DejaVuSans-31\"/>\n       <use xlink:href=\"#DejaVuSans-30\" x=\"63.623047\"/>\n      </g>\n     </g>\n    </g>\n    <g id=\"xtick_9\">\n     <g id=\"line2d_26\">\n      <g>\n       <use xlink:href=\"#m2dc4b1fe51\" x=\"447.2869\" y=\"420.039864\" style=\"stroke: #000000; stroke-width: 0.8\"/>\n      </g>\n     </g>\n     <g id=\"text_21\">\n      <!-- 20 -->\n      <g transform=\"translate(440.9244 434.638302) scale(0.1 -0.1)\">\n       <use xlink:href=\"#DejaVuSans-32\"/>\n       <use xlink:href=\"#DejaVuSans-30\" x=\"63.623047\"/>\n      </g>\n     </g>\n    </g>\n    <g id=\"xtick_10\">\n     <g id=\"line2d_27\">\n      <g>\n       <use xlink:href=\"#m2dc4b1fe51\" x=\"633.631983\" y=\"420.039864\" style=\"stroke: #000000; stroke-width: 0.8\"/>\n      </g>\n     </g>\n     <g id=\"text_22\">\n      <!-- 30 -->\n      <g transform=\"translate(627.269483 434.638302) scale(0.1 -0.1)\">\n       <use xlink:href=\"#DejaVuSans-33\"/>\n       <use xlink:href=\"#DejaVuSans-30\" x=\"63.623047\"/>\n      </g>\n     </g>\n    </g>\n    <g id=\"xtick_11\">\n     <g id=\"line2d_28\">\n      <g>\n       <use xlink:href=\"#m2dc4b1fe51\" x=\"819.977067\" y=\"420.039864\" style=\"stroke: #000000; stroke-width: 0.8\"/>\n      </g>\n     </g>\n     <g id=\"text_23\">\n      <!-- 40 -->\n      <g transform=\"translate(813.614567 434.638302) scale(0.1 -0.1)\">\n       <use xlink:href=\"#DejaVuSans-34\"/>\n       <use xlink:href=\"#DejaVuSans-30\" x=\"63.623047\"/>\n      </g>\n     </g>\n    </g>\n    <g id=\"xtick_12\">\n     <g id=\"line2d_29\">\n      <g>\n       <use xlink:href=\"#m2dc4b1fe51\" x=\"1006.32215\" y=\"420.039864\" style=\"stroke: #000000; stroke-width: 0.8\"/>\n      </g>\n     </g>\n     <g id=\"text_24\">\n      <!-- 50 -->\n      <g transform=\"translate(999.95965 434.638302) scale(0.1 -0.1)\">\n       <use xlink:href=\"#DejaVuSans-35\"/>\n       <use xlink:href=\"#DejaVuSans-30\" x=\"63.623047\"/>\n      </g>\n     </g>\n    </g>\n   </g>\n   <g id=\"matplotlib.axis_4\">\n    <g id=\"ytick_6\">\n     <g id=\"line2d_30\">\n      <g>\n       <use xlink:href=\"#mddd56038ee\" x=\"28.942188\" y=\"419.404235\" style=\"stroke: #000000; stroke-width: 0.8\"/>\n      </g>\n     </g>\n     <g id=\"text_25\">\n      <!-- −4 -->\n      <g transform=\"translate(7.2 423.203453) scale(0.1 -0.1)\">\n       <use xlink:href=\"#DejaVuSans-2212\"/>\n       <use xlink:href=\"#DejaVuSans-34\" x=\"83.789062\"/>\n      </g>\n     </g>\n    </g>\n    <g id=\"ytick_7\">\n     <g id=\"line2d_31\">\n      <g>\n       <use xlink:href=\"#mddd56038ee\" x=\"28.942188\" y=\"398.245197\" style=\"stroke: #000000; stroke-width: 0.8\"/>\n      </g>\n     </g>\n     <g id=\"text_26\">\n      <!-- −3 -->\n      <g transform=\"translate(7.2 402.044416) scale(0.1 -0.1)\">\n       <use xlink:href=\"#DejaVuSans-2212\"/>\n       <use xlink:href=\"#DejaVuSans-33\" x=\"83.789062\"/>\n      </g>\n     </g>\n    </g>\n    <g id=\"ytick_8\">\n     <g id=\"line2d_32\">\n      <g>\n       <use xlink:href=\"#mddd56038ee\" x=\"28.942188\" y=\"377.08616\" style=\"stroke: #000000; stroke-width: 0.8\"/>\n      </g>\n     </g>\n     <g id=\"text_27\">\n      <!-- −2 -->\n      <g transform=\"translate(7.2 380.885379) scale(0.1 -0.1)\">\n       <use xlink:href=\"#DejaVuSans-2212\"/>\n       <use xlink:href=\"#DejaVuSans-32\" x=\"83.789062\"/>\n      </g>\n     </g>\n    </g>\n    <g id=\"ytick_9\">\n     <g id=\"line2d_33\">\n      <g>\n       <use xlink:href=\"#mddd56038ee\" x=\"28.942188\" y=\"355.927123\" style=\"stroke: #000000; stroke-width: 0.8\"/>\n      </g>\n     </g>\n     <g id=\"text_28\">\n      <!-- −1 -->\n      <g transform=\"translate(7.2 359.726341) scale(0.1 -0.1)\">\n       <use xlink:href=\"#DejaVuSans-2212\"/>\n       <use xlink:href=\"#DejaVuSans-31\" x=\"83.789062\"/>\n      </g>\n     </g>\n    </g>\n    <g id=\"ytick_10\">\n     <g id=\"line2d_34\">\n      <g>\n       <use xlink:href=\"#mddd56038ee\" x=\"28.942188\" y=\"334.768085\" style=\"stroke: #000000; stroke-width: 0.8\"/>\n      </g>\n     </g>\n     <g id=\"text_29\">\n      <!-- 0 -->\n      <g transform=\"translate(15.579688 338.567304) scale(0.1 -0.1)\">\n       <use xlink:href=\"#DejaVuSans-30\"/>\n      </g>\n     </g>\n    </g>\n    <g id=\"ytick_11\">\n     <g id=\"line2d_35\">\n      <g>\n       <use xlink:href=\"#mddd56038ee\" x=\"28.942188\" y=\"313.609048\" style=\"stroke: #000000; stroke-width: 0.8\"/>\n      </g>\n     </g>\n     <g id=\"text_30\">\n      <!-- 1 -->\n      <g transform=\"translate(15.579688 317.408267) scale(0.1 -0.1)\">\n       <use xlink:href=\"#DejaVuSans-31\"/>\n      </g>\n     </g>\n    </g>\n    <g id=\"ytick_12\">\n     <g id=\"line2d_36\">\n      <g>\n       <use xlink:href=\"#mddd56038ee\" x=\"28.942188\" y=\"292.450011\" style=\"stroke: #000000; stroke-width: 0.8\"/>\n      </g>\n     </g>\n     <g id=\"text_31\">\n      <!-- 2 -->\n      <g transform=\"translate(15.579688 296.24923) scale(0.1 -0.1)\">\n       <use xlink:href=\"#DejaVuSans-32\"/>\n      </g>\n     </g>\n    </g>\n    <g id=\"ytick_13\">\n     <g id=\"line2d_37\">\n      <g>\n       <use xlink:href=\"#mddd56038ee\" x=\"28.942188\" y=\"271.290974\" style=\"stroke: #000000; stroke-width: 0.8\"/>\n      </g>\n     </g>\n     <g id=\"text_32\">\n      <!-- 3 -->\n      <g transform=\"translate(15.579688 275.090192) scale(0.1 -0.1)\">\n       <use xlink:href=\"#DejaVuSans-33\"/>\n      </g>\n     </g>\n    </g>\n    <g id=\"ytick_14\">\n     <g id=\"line2d_38\">\n      <g>\n       <use xlink:href=\"#mddd56038ee\" x=\"28.942188\" y=\"250.131936\" style=\"stroke: #000000; stroke-width: 0.8\"/>\n      </g>\n     </g>\n     <g id=\"text_33\">\n      <!-- 4 -->\n      <g transform=\"translate(15.579688 253.931155) scale(0.1 -0.1)\">\n       <use xlink:href=\"#DejaVuSans-34\"/>\n      </g>\n     </g>\n    </g>\n   </g>\n   <g id=\"line2d_39\">\n    <path d=\"M 74.596733 352.582381 \nL 93.231241 342.88751 \nL 111.86575 336.873259 \nL 130.500258 332.350568 \nL 149.134766 327.54741 \nL 167.769275 319.553906 \nL 186.403783 312.974265 \nL 205.038291 306.990286 \nL 223.6728 302.402051 \nL 242.307308 301.183805 \nL 260.941816 304.907266 \nL 279.576325 314.647186 \nL 298.210833 330.113848 \nL 316.845341 348.820492 \nL 335.47985 363.386384 \nL 354.114358 376.691099 \nL 372.748867 379.606037 \nL 391.383375 373.656178 \nL 410.017883 366.01114 \nL 428.652392 355.538511 \nL 447.2869 344.946866 \nL 465.921408 336.108291 \nL 484.555917 330.688086 \nL 503.190425 326.120199 \nL 521.824933 321.442252 \nL 540.459442 318.258939 \nL 559.09395 314.722763 \nL 577.728458 309.517594 \nL 596.362967 303.679689 \nL 614.997475 301.443181 \nL 633.631983 305.084582 \nL 652.266492 308.217575 \nL 670.901 317.271835 \nL 689.535508 333.59787 \nL 708.170017 354.595751 \nL 726.804525 367.883302 \nL 745.439034 377.657846 \nL 764.073542 387.232807 \nL 782.70805 389.040462 \nL 801.342559 377.272532 \nL 819.977067 360.468742 \nL 838.611575 345.419009 \nL 857.246084 336.376174 \nL 875.880592 327.045393 \nL 894.5151 317.070865 \nL 913.149609 310.866871 \nL 931.784117 305.631751 \nL 950.418625 299.438444 \nL 969.053134 296.782456 \nL 987.687642 295.593096 \n\" clip-path=\"url(#pa68118774c)\" style=\"fill: none; stroke: #1f77b4; stroke-width: 1.5; stroke-linecap: square\"/>\n   </g>\n   <g id=\"line2d_40\">\n    <path d=\"M 74.596733 328.228014 \nL 93.231241 324.285115 \nL 111.86575 322.94119 \nL 130.500258 321.188967 \nL 149.134766 320.814082 \nL 167.769275 321.809415 \nL 186.403783 320.867898 \nL 205.038291 318.848944 \nL 223.6728 316.935375 \nL 242.307308 318.646559 \nL 260.941816 323.009373 \nL 279.576325 327.812276 \nL 298.210833 332.489939 \nL 316.845341 338.934357 \nL 335.47985 343.798349 \nL 354.114358 348.292899 \nL 372.748867 348.24562 \nL 391.383375 342.20255 \nL 410.017883 334.59872 \nL 428.652392 326.783757 \nL 447.2869 321.678103 \nL 465.921408 319.320647 \nL 484.555917 318.240015 \nL 503.190425 317.837958 \nL 521.824933 317.588609 \nL 540.459442 316.829839 \nL 559.09395 317.357543 \nL 577.728458 319.812689 \nL 596.362967 318.51799 \nL 614.997475 316.516791 \nL 633.631983 316.920552 \nL 652.266492 320.832948 \nL 670.901 325.691508 \nL 689.535508 329.778072 \nL 708.170017 335.949377 \nL 726.804525 340.062611 \nL 745.439034 343.226902 \nL 764.073542 346.864994 \nL 782.70805 344.381961 \nL 801.342559 334.312533 \nL 819.977067 325.03051 \nL 838.611575 318.142654 \nL 857.246084 316.020711 \nL 875.880592 315.282615 \nL 894.5151 315.884612 \nL 913.149609 317.661104 \nL 931.784117 318.574965 \nL 950.418625 318.585801 \nL 969.053134 318.313098 \nL 987.687642 317.945721 \n\" clip-path=\"url(#pa68118774c)\" style=\"fill: none; stroke: #ff7f0e; stroke-width: 1.5; stroke-linecap: square\"/>\n   </g>\n   <g id=\"line2d_41\">\n    <path d=\"M 74.596733 308.833491 \nL 93.231241 303.596777 \nL 111.86575 306.516013 \nL 130.500258 312.577776 \nL 149.134766 314.194455 \nL 167.769275 315.720445 \nL 186.403783 319.850663 \nL 205.038291 333.716599 \nL 223.6728 343.492394 \nL 242.307308 356.598356 \nL 260.941816 365.392495 \nL 279.576325 373.497299 \nL 298.210833 380.35223 \nL 316.845341 376.502336 \nL 335.47985 366.519079 \nL 354.114358 355.332769 \nL 372.748867 346.383405 \nL 391.383375 336.94716 \nL 410.017883 327.028544 \nL 428.652392 315.631654 \nL 447.2869 307.829559 \nL 465.921408 304.778918 \nL 484.555917 305.524271 \nL 503.190425 306.988926 \nL 521.824933 307.921995 \nL 540.459442 309.490882 \nL 559.09395 315.878285 \nL 577.728458 324.520477 \nL 596.362967 333.61706 \nL 614.997475 343.594166 \nL 633.631983 357.130919 \nL 652.266492 373.688489 \nL 670.901 381.692291 \nL 689.535508 382.011338 \nL 708.170017 376.574856 \nL 726.804525 368.544027 \nL 745.439034 360.184407 \nL 764.073542 349.527748 \nL 782.70805 335.222162 \nL 801.342559 322.506404 \nL 819.977067 312.893308 \nL 838.611575 304.275116 \nL 857.246084 304.806674 \nL 875.880592 308.084897 \nL 894.5151 310.080089 \nL 913.149609 312.49948 \nL 931.784117 321.623763 \nL 950.418625 333.267989 \nL 969.053134 342.932535 \nL 987.687642 354.880119 \n\" clip-path=\"url(#pa68118774c)\" style=\"fill: none; stroke: #2ca02c; stroke-width: 1.5; stroke-linecap: square\"/>\n   </g>\n   <g id=\"line2d_42\">\n    <path d=\"M 74.596733 315.580188 \nL 93.231241 340.364163 \nL 111.86575 353.966901 \nL 130.500258 360.665677 \nL 149.134766 372.300011 \nL 167.769275 389.213476 \nL 186.403783 399.96739 \nL 205.038291 396.051456 \nL 223.6728 391.731027 \nL 242.307308 386.389332 \nL 260.941816 378.529981 \nL 279.576325 358.115149 \nL 298.210833 325.156811 \nL 316.845341 296.790419 \nL 335.47985 279.155991 \nL 354.114358 269.343898 \nL 372.748867 262.866998 \nL 391.383375 258.278791 \nL 410.017883 260.719562 \nL 428.652392 275.211478 \nL 447.2869 296.359099 \nL 465.921408 320.603934 \nL 484.555917 342.262569 \nL 503.190425 356.666218 \nL 521.824933 370.120675 \nL 540.459442 381.574219 \nL 559.09395 390.088879 \nL 577.728458 396.624933 \nL 596.362967 402.981613 \nL 614.997475 411.822473 \nL 633.631983 409.5372 \nL 652.266492 385.162888 \nL 670.901 354.526177 \nL 689.535508 327.168408 \nL 708.170017 303.987931 \nL 726.804525 283.568627 \nL 745.439034 268.372696 \nL 764.073542 259.064575 \nL 782.70805 253.97275 \nL 801.342559 255.903445 \nL 819.977067 272.557175 \nL 838.611575 302.639654 \nL 857.246084 327.497762 \nL 875.880592 340.836297 \nL 894.5151 351.976105 \nL 913.149609 365.026668 \nL 931.784117 372.699582 \nL 950.418625 379.723906 \nL 969.053134 389.882247 \nL 987.687642 387.392831 \n\" clip-path=\"url(#pa68118774c)\" style=\"fill: none; stroke: #d62728; stroke-width: 1.5; stroke-linecap: square\"/>\n   </g>\n   <g id=\"line2d_43\">\n    <path d=\"M 74.596733 329.807179 \nL 93.231241 336.38944 \nL 111.86575 345.965967 \nL 130.500258 355.926396 \nL 149.134766 355.197992 \nL 167.769275 354.052675 \nL 186.403783 358.576744 \nL 205.038291 367.571993 \nL 223.6728 365.708571 \nL 242.307308 343.495508 \nL 260.941816 322.09138 \nL 279.576325 310.644165 \nL 298.210833 311.163008 \nL 316.845341 314.964083 \nL 335.47985 321.639378 \nL 354.114358 323.211286 \nL 372.748867 324.100498 \nL 391.383375 329.346653 \nL 410.017883 337.99969 \nL 428.652392 346.251283 \nL 447.2869 354.369483 \nL 465.921408 352.65081 \nL 484.555917 345.388797 \nL 503.190425 344.200392 \nL 521.824933 355.93586 \nL 540.459442 368.209909 \nL 559.09395 373.395124 \nL 577.728458 369.868389 \nL 596.362967 364.581102 \nL 614.997475 348.740083 \nL 633.631983 325.402195 \nL 652.266492 312.386741 \nL 670.901 310.168124 \nL 689.535508 311.542872 \nL 708.170017 315.263879 \nL 726.804525 322.395176 \nL 745.439034 317.748565 \nL 764.073542 313.973311 \nL 782.70805 327.84229 \nL 801.342559 346.489413 \nL 819.977067 356.905294 \nL 838.611575 354.45667 \nL 857.246084 347.77751 \nL 875.880592 352.915779 \nL 894.5151 370.615634 \nL 913.149609 381.404147 \nL 931.784117 384.422149 \nL 950.418625 373.082753 \nL 969.053134 345.622956 \nL 987.687642 324.122298 \n\" clip-path=\"url(#pa68118774c)\" style=\"fill: none; stroke: #9467bd; stroke-width: 1.5; stroke-linecap: square\"/>\n   </g>\n   <g id=\"line2d_44\">\n    <path d=\"M 74.596733 384.415207 \nL 93.231241 381.324698 \nL 111.86575 379.118022 \nL 130.500258 375.312547 \nL 149.134766 369.385288 \nL 167.769275 359.34125 \nL 186.403783 349.534081 \nL 205.038291 335.641977 \nL 223.6728 316.381928 \nL 242.307308 293.045524 \nL 260.941816 271.87455 \nL 279.576325 258.378288 \nL 298.210833 256.628324 \nL 316.845341 269.367255 \nL 335.47985 288.879614 \nL 354.114358 319.865202 \nL 372.748867 348.308092 \nL 391.383375 371.245579 \nL 410.017883 388.058525 \nL 428.652392 396.269735 \nL 447.2869 395.923744 \nL 465.921408 389.610999 \nL 484.555917 380.216502 \nL 503.190425 371.184879 \nL 521.824933 363.09828 \nL 540.459442 354.566951 \nL 559.09395 346.089331 \nL 577.728458 334.622877 \nL 596.362967 316.779165 \nL 614.997475 296.63934 \nL 633.631983 279.058698 \nL 652.266492 260.685606 \nL 670.901 247.778368 \nL 689.535508 247.474647 \nL 708.170017 262.723895 \nL 726.804525 279.602306 \nL 745.439034 299.37052 \nL 764.073542 333.908094 \nL 782.70805 372.205489 \nL 801.342559 399.267659 \nL 819.977067 407.452359 \nL 838.611575 404.330769 \nL 857.246084 397.305979 \nL 875.880592 388.112892 \nL 894.5151 376.685189 \nL 913.149609 365.153991 \nL 931.784117 352.460895 \nL 950.418625 334.231647 \nL 969.053134 310.612172 \nL 987.687642 284.525587 \n\" clip-path=\"url(#pa68118774c)\" style=\"fill: none; stroke: #8c564b; stroke-width: 1.5; stroke-linecap: square\"/>\n   </g>\n   <g id=\"patch_9\">\n    <path d=\"M 28.942188 420.039864 \nL 28.942188 239.257255 \n\" style=\"fill: none; stroke: #000000; stroke-width: 0.8; stroke-linejoin: miter; stroke-linecap: square\"/>\n   </g>\n   <g id=\"patch_10\">\n    <path d=\"M 1033.342188 420.039864 \nL 1033.342188 239.257255 \n\" style=\"fill: none; stroke: #000000; stroke-width: 0.8; stroke-linejoin: miter; stroke-linecap: square\"/>\n   </g>\n   <g id=\"patch_11\">\n    <path d=\"M 28.942188 420.039864 \nL 1033.342187 420.039864 \n\" style=\"fill: none; stroke: #000000; stroke-width: 0.8; stroke-linejoin: miter; stroke-linecap: square\"/>\n   </g>\n   <g id=\"patch_12\">\n    <path d=\"M 28.942188 239.257255 \nL 1033.342187 239.257255 \n\" style=\"fill: none; stroke: #000000; stroke-width: 0.8; stroke-linejoin: miter; stroke-linecap: square\"/>\n   </g>\n   <g id=\"text_34\">\n    <!-- Sample 157 Class:['Attack'] -->\n    <g transform=\"translate(448.437813 233.257255) scale(0.12 -0.12)\">\n     <defs>\n      <path id=\"DejaVuSans-37\" d=\"M 525 4666 \nL 3525 4666 \nL 3525 4397 \nL 1831 0 \nL 1172 0 \nL 2766 4134 \nL 525 4134 \nL 525 4666 \nz\n\" transform=\"scale(0.015625)\"/>\n     </defs>\n     <use xlink:href=\"#DejaVuSans-53\"/>\n     <use xlink:href=\"#DejaVuSans-61\" x=\"63.476562\"/>\n     <use xlink:href=\"#DejaVuSans-6d\" x=\"124.755859\"/>\n     <use xlink:href=\"#DejaVuSans-70\" x=\"222.167969\"/>\n     <use xlink:href=\"#DejaVuSans-6c\" x=\"285.644531\"/>\n     <use xlink:href=\"#DejaVuSans-65\" x=\"313.427734\"/>\n     <use xlink:href=\"#DejaVuSans-20\" x=\"374.951172\"/>\n     <use xlink:href=\"#DejaVuSans-31\" x=\"406.738281\"/>\n     <use xlink:href=\"#DejaVuSans-35\" x=\"470.361328\"/>\n     <use xlink:href=\"#DejaVuSans-37\" x=\"533.984375\"/>\n     <use xlink:href=\"#DejaVuSans-20\" x=\"597.607422\"/>\n     <use xlink:href=\"#DejaVuSans-43\" x=\"629.394531\"/>\n     <use xlink:href=\"#DejaVuSans-6c\" x=\"699.21875\"/>\n     <use xlink:href=\"#DejaVuSans-61\" x=\"727.001953\"/>\n     <use xlink:href=\"#DejaVuSans-73\" x=\"788.28125\"/>\n     <use xlink:href=\"#DejaVuSans-73\" x=\"840.380859\"/>\n     <use xlink:href=\"#DejaVuSans-3a\" x=\"892.480469\"/>\n     <use xlink:href=\"#DejaVuSans-5b\" x=\"926.171875\"/>\n     <use xlink:href=\"#DejaVuSans-27\" x=\"965.185547\"/>\n     <use xlink:href=\"#DejaVuSans-41\" x=\"992.675781\"/>\n     <use xlink:href=\"#DejaVuSans-74\" x=\"1059.333984\"/>\n     <use xlink:href=\"#DejaVuSans-74\" x=\"1098.542969\"/>\n     <use xlink:href=\"#DejaVuSans-61\" x=\"1137.751953\"/>\n     <use xlink:href=\"#DejaVuSans-63\" x=\"1199.03125\"/>\n     <use xlink:href=\"#DejaVuSans-6b\" x=\"1254.011719\"/>\n     <use xlink:href=\"#DejaVuSans-27\" x=\"1311.921875\"/>\n     <use xlink:href=\"#DejaVuSans-5d\" x=\"1339.412109\"/>\n    </g>\n   </g>\n   <g id=\"legend_2\">\n    <g id=\"patch_13\">\n     <path d=\"M 982.075 415.039864 \nL 1026.342188 415.039864 \nQ 1028.342188 415.039864 1028.342188 413.039864 \nL 1028.342188 325.971114 \nQ 1028.342188 323.971114 1026.342188 323.971114 \nL 982.075 323.971114 \nQ 980.075 323.971114 980.075 325.971114 \nL 980.075 413.039864 \nQ 980.075 415.039864 982.075 415.039864 \nz\n\" style=\"fill: #ffffff; opacity: 0.8; stroke: #cccccc; stroke-linejoin: miter\"/>\n    </g>\n    <g id=\"line2d_45\">\n     <path d=\"M 984.075 332.069552 \nL 994.075 332.069552 \nL 1004.075 332.069552 \n\" style=\"fill: none; stroke: #1f77b4; stroke-width: 1.5; stroke-linecap: square\"/>\n    </g>\n    <g id=\"text_35\">\n     <!-- ax -->\n     <g transform=\"translate(1012.075 335.569552) scale(0.1 -0.1)\">\n      <use xlink:href=\"#DejaVuSans-61\"/>\n      <use xlink:href=\"#DejaVuSans-78\" x=\"61.279297\"/>\n     </g>\n    </g>\n    <g id=\"line2d_46\">\n     <path d=\"M 984.075 346.747677 \nL 994.075 346.747677 \nL 1004.075 346.747677 \n\" style=\"fill: none; stroke: #ff7f0e; stroke-width: 1.5; stroke-linecap: square\"/>\n    </g>\n    <g id=\"text_36\">\n     <!-- ay -->\n     <g transform=\"translate(1012.075 350.247677) scale(0.1 -0.1)\">\n      <use xlink:href=\"#DejaVuSans-61\"/>\n      <use xlink:href=\"#DejaVuSans-79\" x=\"61.279297\"/>\n     </g>\n    </g>\n    <g id=\"line2d_47\">\n     <path d=\"M 984.075 361.425802 \nL 994.075 361.425802 \nL 1004.075 361.425802 \n\" style=\"fill: none; stroke: #2ca02c; stroke-width: 1.5; stroke-linecap: square\"/>\n    </g>\n    <g id=\"text_37\">\n     <!-- az -->\n     <g transform=\"translate(1012.075 364.925802) scale(0.1 -0.1)\">\n      <use xlink:href=\"#DejaVuSans-61\"/>\n      <use xlink:href=\"#DejaVuSans-7a\" x=\"61.279297\"/>\n     </g>\n    </g>\n    <g id=\"line2d_48\">\n     <path d=\"M 984.075 376.103927 \nL 994.075 376.103927 \nL 1004.075 376.103927 \n\" style=\"fill: none; stroke: #d62728; stroke-width: 1.5; stroke-linecap: square\"/>\n    </g>\n    <g id=\"text_38\">\n     <!-- gx -->\n     <g transform=\"translate(1012.075 379.603927) scale(0.1 -0.1)\">\n      <use xlink:href=\"#DejaVuSans-67\"/>\n      <use xlink:href=\"#DejaVuSans-78\" x=\"63.476562\"/>\n     </g>\n    </g>\n    <g id=\"line2d_49\">\n     <path d=\"M 984.075 390.782052 \nL 994.075 390.782052 \nL 1004.075 390.782052 \n\" style=\"fill: none; stroke: #9467bd; stroke-width: 1.5; stroke-linecap: square\"/>\n    </g>\n    <g id=\"text_39\">\n     <!-- gy -->\n     <g transform=\"translate(1012.075 394.282052) scale(0.1 -0.1)\">\n      <use xlink:href=\"#DejaVuSans-67\"/>\n      <use xlink:href=\"#DejaVuSans-79\" x=\"63.476562\"/>\n     </g>\n    </g>\n    <g id=\"line2d_50\">\n     <path d=\"M 984.075 405.460177 \nL 994.075 405.460177 \nL 1004.075 405.460177 \n\" style=\"fill: none; stroke: #8c564b; stroke-width: 1.5; stroke-linecap: square\"/>\n    </g>\n    <g id=\"text_40\">\n     <!-- gz -->\n     <g transform=\"translate(1012.075 408.960177) scale(0.1 -0.1)\">\n      <use xlink:href=\"#DejaVuSans-67\"/>\n      <use xlink:href=\"#DejaVuSans-7a\" x=\"63.476562\"/>\n     </g>\n    </g>\n   </g>\n  </g>\n  <g id=\"axes_3\">\n   <g id=\"patch_14\">\n    <path d=\"M 28.942188 636.978995 \nL 1033.342188 636.978995 \nL 1033.342188 456.196386 \nL 28.942188 456.196386 \nz\n\" style=\"fill: #ffffff\"/>\n   </g>\n   <g id=\"matplotlib.axis_5\">\n    <g id=\"xtick_13\">\n     <g id=\"line2d_51\">\n      <g>\n       <use xlink:href=\"#m2dc4b1fe51\" x=\"74.596733\" y=\"636.978995\" style=\"stroke: #000000; stroke-width: 0.8\"/>\n      </g>\n     </g>\n     <g id=\"text_41\">\n      <!-- 0 -->\n      <g transform=\"translate(71.415483 651.577432) scale(0.1 -0.1)\">\n       <use xlink:href=\"#DejaVuSans-30\"/>\n      </g>\n     </g>\n    </g>\n    <g id=\"xtick_14\">\n     <g id=\"line2d_52\">\n      <g>\n       <use xlink:href=\"#m2dc4b1fe51\" x=\"260.941816\" y=\"636.978995\" style=\"stroke: #000000; stroke-width: 0.8\"/>\n      </g>\n     </g>\n     <g id=\"text_42\">\n      <!-- 10 -->\n      <g transform=\"translate(254.579316 651.577432) scale(0.1 -0.1)\">\n       <use xlink:href=\"#DejaVuSans-31\"/>\n       <use xlink:href=\"#DejaVuSans-30\" x=\"63.623047\"/>\n      </g>\n     </g>\n    </g>\n    <g id=\"xtick_15\">\n     <g id=\"line2d_53\">\n      <g>\n       <use xlink:href=\"#m2dc4b1fe51\" x=\"447.2869\" y=\"636.978995\" style=\"stroke: #000000; stroke-width: 0.8\"/>\n      </g>\n     </g>\n     <g id=\"text_43\">\n      <!-- 20 -->\n      <g transform=\"translate(440.9244 651.577432) scale(0.1 -0.1)\">\n       <use xlink:href=\"#DejaVuSans-32\"/>\n       <use xlink:href=\"#DejaVuSans-30\" x=\"63.623047\"/>\n      </g>\n     </g>\n    </g>\n    <g id=\"xtick_16\">\n     <g id=\"line2d_54\">\n      <g>\n       <use xlink:href=\"#m2dc4b1fe51\" x=\"633.631983\" y=\"636.978995\" style=\"stroke: #000000; stroke-width: 0.8\"/>\n      </g>\n     </g>\n     <g id=\"text_44\">\n      <!-- 30 -->\n      <g transform=\"translate(627.269483 651.577432) scale(0.1 -0.1)\">\n       <use xlink:href=\"#DejaVuSans-33\"/>\n       <use xlink:href=\"#DejaVuSans-30\" x=\"63.623047\"/>\n      </g>\n     </g>\n    </g>\n    <g id=\"xtick_17\">\n     <g id=\"line2d_55\">\n      <g>\n       <use xlink:href=\"#m2dc4b1fe51\" x=\"819.977067\" y=\"636.978995\" style=\"stroke: #000000; stroke-width: 0.8\"/>\n      </g>\n     </g>\n     <g id=\"text_45\">\n      <!-- 40 -->\n      <g transform=\"translate(813.614567 651.577432) scale(0.1 -0.1)\">\n       <use xlink:href=\"#DejaVuSans-34\"/>\n       <use xlink:href=\"#DejaVuSans-30\" x=\"63.623047\"/>\n      </g>\n     </g>\n    </g>\n    <g id=\"xtick_18\">\n     <g id=\"line2d_56\">\n      <g>\n       <use xlink:href=\"#m2dc4b1fe51\" x=\"1006.32215\" y=\"636.978995\" style=\"stroke: #000000; stroke-width: 0.8\"/>\n      </g>\n     </g>\n     <g id=\"text_46\">\n      <!-- 50 -->\n      <g transform=\"translate(999.95965 651.577432) scale(0.1 -0.1)\">\n       <use xlink:href=\"#DejaVuSans-35\"/>\n       <use xlink:href=\"#DejaVuSans-30\" x=\"63.623047\"/>\n      </g>\n     </g>\n    </g>\n   </g>\n   <g id=\"matplotlib.axis_6\">\n    <g id=\"ytick_15\">\n     <g id=\"line2d_57\">\n      <g>\n       <use xlink:href=\"#mddd56038ee\" x=\"28.942188\" y=\"617.45386\" style=\"stroke: #000000; stroke-width: 0.8\"/>\n      </g>\n     </g>\n     <g id=\"text_47\">\n      <!-- −8 -->\n      <g transform=\"translate(7.2 621.253079) scale(0.1 -0.1)\">\n       <defs>\n        <path id=\"DejaVuSans-38\" d=\"M 2034 2216 \nQ 1584 2216 1326 1975 \nQ 1069 1734 1069 1313 \nQ 1069 891 1326 650 \nQ 1584 409 2034 409 \nQ 2484 409 2743 651 \nQ 3003 894 3003 1313 \nQ 3003 1734 2745 1975 \nQ 2488 2216 2034 2216 \nz\nM 1403 2484 \nQ 997 2584 770 2862 \nQ 544 3141 544 3541 \nQ 544 4100 942 4425 \nQ 1341 4750 2034 4750 \nQ 2731 4750 3128 4425 \nQ 3525 4100 3525 3541 \nQ 3525 3141 3298 2862 \nQ 3072 2584 2669 2484 \nQ 3125 2378 3379 2068 \nQ 3634 1759 3634 1313 \nQ 3634 634 3220 271 \nQ 2806 -91 2034 -91 \nQ 1263 -91 848 271 \nQ 434 634 434 1313 \nQ 434 1759 690 2068 \nQ 947 2378 1403 2484 \nz\nM 1172 3481 \nQ 1172 3119 1398 2916 \nQ 1625 2713 2034 2713 \nQ 2441 2713 2670 2916 \nQ 2900 3119 2900 3481 \nQ 2900 3844 2670 4047 \nQ 2441 4250 2034 4250 \nQ 1625 4250 1398 4047 \nQ 1172 3844 1172 3481 \nz\n\" transform=\"scale(0.015625)\"/>\n       </defs>\n       <use xlink:href=\"#DejaVuSans-2212\"/>\n       <use xlink:href=\"#DejaVuSans-38\" x=\"83.789062\"/>\n      </g>\n     </g>\n    </g>\n    <g id=\"ytick_16\">\n     <g id=\"line2d_58\">\n      <g>\n       <use xlink:href=\"#mddd56038ee\" x=\"28.942188\" y=\"594.418182\" style=\"stroke: #000000; stroke-width: 0.8\"/>\n      </g>\n     </g>\n     <g id=\"text_48\">\n      <!-- −6 -->\n      <g transform=\"translate(7.2 598.217401) scale(0.1 -0.1)\">\n       <defs>\n        <path id=\"DejaVuSans-36\" d=\"M 2113 2584 \nQ 1688 2584 1439 2293 \nQ 1191 2003 1191 1497 \nQ 1191 994 1439 701 \nQ 1688 409 2113 409 \nQ 2538 409 2786 701 \nQ 3034 994 3034 1497 \nQ 3034 2003 2786 2293 \nQ 2538 2584 2113 2584 \nz\nM 3366 4563 \nL 3366 3988 \nQ 3128 4100 2886 4159 \nQ 2644 4219 2406 4219 \nQ 1781 4219 1451 3797 \nQ 1122 3375 1075 2522 \nQ 1259 2794 1537 2939 \nQ 1816 3084 2150 3084 \nQ 2853 3084 3261 2657 \nQ 3669 2231 3669 1497 \nQ 3669 778 3244 343 \nQ 2819 -91 2113 -91 \nQ 1303 -91 875 529 \nQ 447 1150 447 2328 \nQ 447 3434 972 4092 \nQ 1497 4750 2381 4750 \nQ 2619 4750 2861 4703 \nQ 3103 4656 3366 4563 \nz\n\" transform=\"scale(0.015625)\"/>\n       </defs>\n       <use xlink:href=\"#DejaVuSans-2212\"/>\n       <use xlink:href=\"#DejaVuSans-36\" x=\"83.789062\"/>\n      </g>\n     </g>\n    </g>\n    <g id=\"ytick_17\">\n     <g id=\"line2d_59\">\n      <g>\n       <use xlink:href=\"#mddd56038ee\" x=\"28.942188\" y=\"571.382504\" style=\"stroke: #000000; stroke-width: 0.8\"/>\n      </g>\n     </g>\n     <g id=\"text_49\">\n      <!-- −4 -->\n      <g transform=\"translate(7.2 575.181723) scale(0.1 -0.1)\">\n       <use xlink:href=\"#DejaVuSans-2212\"/>\n       <use xlink:href=\"#DejaVuSans-34\" x=\"83.789062\"/>\n      </g>\n     </g>\n    </g>\n    <g id=\"ytick_18\">\n     <g id=\"line2d_60\">\n      <g>\n       <use xlink:href=\"#mddd56038ee\" x=\"28.942188\" y=\"548.346826\" style=\"stroke: #000000; stroke-width: 0.8\"/>\n      </g>\n     </g>\n     <g id=\"text_50\">\n      <!-- −2 -->\n      <g transform=\"translate(7.2 552.146045) scale(0.1 -0.1)\">\n       <use xlink:href=\"#DejaVuSans-2212\"/>\n       <use xlink:href=\"#DejaVuSans-32\" x=\"83.789062\"/>\n      </g>\n     </g>\n    </g>\n    <g id=\"ytick_19\">\n     <g id=\"line2d_61\">\n      <g>\n       <use xlink:href=\"#mddd56038ee\" x=\"28.942188\" y=\"525.311148\" style=\"stroke: #000000; stroke-width: 0.8\"/>\n      </g>\n     </g>\n     <g id=\"text_51\">\n      <!-- 0 -->\n      <g transform=\"translate(15.579688 529.110367) scale(0.1 -0.1)\">\n       <use xlink:href=\"#DejaVuSans-30\"/>\n      </g>\n     </g>\n    </g>\n    <g id=\"ytick_20\">\n     <g id=\"line2d_62\">\n      <g>\n       <use xlink:href=\"#mddd56038ee\" x=\"28.942188\" y=\"502.27547\" style=\"stroke: #000000; stroke-width: 0.8\"/>\n      </g>\n     </g>\n     <g id=\"text_52\">\n      <!-- 2 -->\n      <g transform=\"translate(15.579688 506.074689) scale(0.1 -0.1)\">\n       <use xlink:href=\"#DejaVuSans-32\"/>\n      </g>\n     </g>\n    </g>\n    <g id=\"ytick_21\">\n     <g id=\"line2d_63\">\n      <g>\n       <use xlink:href=\"#mddd56038ee\" x=\"28.942188\" y=\"479.239792\" style=\"stroke: #000000; stroke-width: 0.8\"/>\n      </g>\n     </g>\n     <g id=\"text_53\">\n      <!-- 4 -->\n      <g transform=\"translate(15.579688 483.039011) scale(0.1 -0.1)\">\n       <use xlink:href=\"#DejaVuSans-34\"/>\n      </g>\n     </g>\n    </g>\n    <g id=\"ytick_22\">\n     <g id=\"line2d_64\">\n      <g>\n       <use xlink:href=\"#mddd56038ee\" x=\"28.942188\" y=\"456.204114\" style=\"stroke: #000000; stroke-width: 0.8\"/>\n      </g>\n     </g>\n     <g id=\"text_54\">\n      <!-- 6 -->\n      <g transform=\"translate(15.579688 460.003333) scale(0.1 -0.1)\">\n       <use xlink:href=\"#DejaVuSans-36\"/>\n      </g>\n     </g>\n    </g>\n   </g>\n   <g id=\"line2d_65\">\n    <path d=\"M 74.596733 528.298002 \nL 93.231241 525.793907 \nL 111.86575 524.473153 \nL 130.500258 522.996613 \nL 149.134766 521.225318 \nL 167.769275 519.484725 \nL 186.403783 518.150609 \nL 205.038291 517.678981 \nL 223.6728 517.010967 \nL 242.307308 515.671894 \nL 260.941816 515.2926 \nL 279.576325 514.539592 \nL 298.210833 513.636734 \nL 316.845341 512.60686 \nL 335.47985 513.08503 \nL 354.114358 514.889123 \nL 372.748867 516.520238 \nL 391.383375 516.758004 \nL 410.017883 517.715118 \nL 428.652392 522.540531 \nL 447.2869 529.043303 \nL 465.921408 538.283172 \nL 484.555917 546.170263 \nL 503.190425 547.8432 \nL 521.824933 546.94056 \nL 540.459442 546.489669 \nL 559.09395 545.09712 \nL 577.728458 541.867127 \nL 596.362967 540.351823 \nL 614.997475 541.663905 \nL 633.631983 542.359195 \nL 652.266492 542.064541 \nL 670.901 542.162754 \nL 689.535508 540.243996 \nL 708.170017 537.387099 \nL 726.804525 534.558212 \nL 745.439034 531.894256 \nL 764.073542 529.356374 \nL 782.70805 526.057948 \nL 801.342559 523.523532 \nL 819.977067 522.641093 \nL 838.611575 520.633479 \nL 857.246084 518.399187 \nL 875.880592 516.401445 \nL 894.5151 515.529308 \nL 913.149609 515.51739 \nL 931.784117 514.425874 \nL 950.418625 513.445956 \nL 969.053134 513.326645 \nL 987.687642 512.602086 \n\" clip-path=\"url(#pc5cee0eea0)\" style=\"fill: none; stroke: #1f77b4; stroke-width: 1.5; stroke-linecap: square\"/>\n   </g>\n   <g id=\"line2d_66\">\n    <path d=\"M 74.596733 512.389687 \nL 93.231241 512.211742 \nL 111.86575 512.68297 \nL 130.500258 513.084423 \nL 149.134766 512.643455 \nL 167.769275 512.478064 \nL 186.403783 512.825765 \nL 205.038291 512.306172 \nL 223.6728 512.089232 \nL 242.307308 511.431059 \nL 260.941816 511.298671 \nL 279.576325 511.382021 \nL 298.210833 510.881113 \nL 316.845341 509.569898 \nL 335.47985 508.886796 \nL 354.114358 508.512763 \nL 372.748867 507.968437 \nL 391.383375 507.564369 \nL 410.017883 508.489282 \nL 428.652392 508.114072 \nL 447.2869 502.774535 \nL 465.921408 502.397391 \nL 484.555917 511.840853 \nL 503.190425 519.1714 \nL 521.824933 523.192515 \nL 540.459442 526.913342 \nL 559.09395 529.615622 \nL 577.728458 529.724751 \nL 596.362967 528.444765 \nL 614.997475 526.981222 \nL 633.631983 525.463446 \nL 652.266492 523.469201 \nL 670.901 522.105525 \nL 689.535508 519.93626 \nL 708.170017 517.195768 \nL 726.804525 515.292966 \nL 745.439034 513.648978 \nL 764.073542 512.51158 \nL 782.70805 510.988253 \nL 801.342559 510.845988 \nL 819.977067 511.0995 \nL 838.611575 510.940516 \nL 857.246084 510.765696 \nL 875.880592 510.939753 \nL 894.5151 511.171227 \nL 913.149609 511.009956 \nL 931.784117 510.960027 \nL 950.418625 510.972516 \nL 969.053134 512.054197 \nL 987.687642 511.83022 \n\" clip-path=\"url(#pc5cee0eea0)\" style=\"fill: none; stroke: #ff7f0e; stroke-width: 1.5; stroke-linecap: square\"/>\n   </g>\n   <g id=\"line2d_67\">\n    <path d=\"M 74.596733 522.677813 \nL 93.231241 521.268276 \nL 111.86575 521.349753 \nL 130.500258 522.416066 \nL 149.134766 521.50619 \nL 167.769275 519.408239 \nL 186.403783 517.141726 \nL 205.038291 516.39667 \nL 223.6728 515.517048 \nL 242.307308 513.114517 \nL 260.941816 511.169813 \nL 279.576325 509.72367 \nL 298.210833 508.648392 \nL 316.845341 507.524534 \nL 335.47985 506.375011 \nL 354.114358 506.69161 \nL 372.748867 507.914716 \nL 391.383375 509.757892 \nL 410.017883 513.778906 \nL 428.652392 518.441396 \nL 447.2869 527.09669 \nL 465.921408 546.632292 \nL 484.555917 562.117799 \nL 503.190425 556.96673 \nL 521.824933 547.699072 \nL 540.459442 545.404388 \nL 559.09395 544.484773 \nL 577.728458 541.45988 \nL 596.362967 538.597634 \nL 614.997475 537.778777 \nL 633.631983 539.621333 \nL 652.266492 540.468657 \nL 670.901 538.733594 \nL 689.535508 536.348435 \nL 708.170017 534.432817 \nL 726.804525 532.832979 \nL 745.439034 530.655645 \nL 764.073542 528.263142 \nL 782.70805 524.840809 \nL 801.342559 522.615896 \nL 819.977067 521.766211 \nL 838.611575 521.352923 \nL 857.246084 521.375591 \nL 875.880592 519.656026 \nL 894.5151 517.683479 \nL 913.149609 516.34453 \nL 931.784117 514.411642 \nL 950.418625 509.879702 \nL 969.053134 505.668328 \nL 987.687642 504.563042 \n\" clip-path=\"url(#pc5cee0eea0)\" style=\"fill: none; stroke: #2ca02c; stroke-width: 1.5; stroke-linecap: square\"/>\n   </g>\n   <g id=\"line2d_68\">\n    <path d=\"M 74.596733 464.413777 \nL 93.231241 469.08643 \nL 111.86575 471.02869 \nL 130.500258 471.435421 \nL 149.134766 473.333749 \nL 167.769275 478.677727 \nL 186.403783 486.945986 \nL 205.038291 493.925156 \nL 223.6728 500.58118 \nL 242.307308 510.196897 \nL 260.941816 521.447619 \nL 279.576325 531.868816 \nL 298.210833 541.239717 \nL 316.845341 550.939451 \nL 335.47985 561.467838 \nL 354.114358 573.019511 \nL 372.748867 585.910302 \nL 391.383375 598.456279 \nL 410.017883 610.142051 \nL 428.652392 624.436987 \nL 447.2869 628.761603 \nL 465.921408 598.207507 \nL 484.555917 554.398427 \nL 503.190425 540.925837 \nL 521.824933 541.734613 \nL 540.459442 534.952007 \nL 559.09395 526.36206 \nL 577.728458 520.729546 \nL 596.362967 517.953787 \nL 614.997475 513.247127 \nL 633.631983 502.370772 \nL 652.266492 490.95663 \nL 670.901 484.797581 \nL 689.535508 482.055161 \nL 708.170017 478.613963 \nL 726.804525 472.787046 \nL 745.439034 468.41751 \nL 764.073542 467.277579 \nL 782.70805 470.698261 \nL 801.342559 474.54371 \nL 819.977067 478.553193 \nL 838.611575 483.057253 \nL 857.246084 486.739224 \nL 875.880592 491.771646 \nL 894.5151 496.199978 \nL 913.149609 498.586558 \nL 931.784117 501.422764 \nL 950.418625 511.39384 \nL 969.053134 528.193443 \nL 987.687642 545.300585 \n\" clip-path=\"url(#pc5cee0eea0)\" style=\"fill: none; stroke: #d62728; stroke-width: 1.5; stroke-linecap: square\"/>\n   </g>\n   <g id=\"line2d_69\">\n    <path d=\"M 74.596733 521.213114 \nL 93.231241 525.340894 \nL 111.86575 529.629773 \nL 130.500258 530.123778 \nL 149.134766 530.25092 \nL 167.769275 530.660228 \nL 186.403783 529.530245 \nL 205.038291 528.048587 \nL 223.6728 526.541297 \nL 242.307308 523.892131 \nL 260.941816 521.176745 \nL 279.576325 520.672199 \nL 298.210833 521.666297 \nL 316.845341 524.723181 \nL 335.47985 530.67451 \nL 354.114358 535.365949 \nL 372.748867 536.71982 \nL 391.383375 536.287177 \nL 410.017883 534.452513 \nL 428.652392 531.889983 \nL 447.2869 539.581662 \nL 465.921408 558.034675 \nL 484.555917 562.780021 \nL 503.190425 539.103457 \nL 521.824933 518.192685 \nL 540.459442 515.954977 \nL 559.09395 517.91776 \nL 577.728458 517.415536 \nL 596.362967 516.351768 \nL 614.997475 518.212183 \nL 633.631983 524.63214 \nL 652.266492 530.687464 \nL 670.901 530.104463 \nL 689.535508 524.935508 \nL 708.170017 520.789839 \nL 726.804525 521.027024 \nL 745.439034 521.302091 \nL 764.073542 519.964576 \nL 782.70805 520.060539 \nL 801.342559 523.011053 \nL 819.977067 525.319965 \nL 838.611575 523.892781 \nL 857.246084 519.576999 \nL 875.880592 516.330736 \nL 894.5151 514.927516 \nL 913.149609 514.286512 \nL 931.784117 513.764948 \nL 950.418625 514.019832 \nL 969.053134 512.2221 \nL 987.687642 510.20081 \n\" clip-path=\"url(#pc5cee0eea0)\" style=\"fill: none; stroke: #9467bd; stroke-width: 1.5; stroke-linecap: square\"/>\n   </g>\n   <g id=\"line2d_70\">\n    <path d=\"M 74.596733 552.175662 \nL 93.231241 550.329747 \nL 111.86575 549.924219 \nL 130.500258 548.950758 \nL 149.134766 546.619665 \nL 167.769275 543.250428 \nL 186.403783 539.499942 \nL 205.038291 536.147919 \nL 223.6728 532.916977 \nL 242.307308 528.088657 \nL 260.941816 523.696863 \nL 279.576325 519.588727 \nL 298.210833 514.211797 \nL 316.845341 506.90484 \nL 335.47985 500.448171 \nL 354.114358 495.751518 \nL 372.748867 491.862961 \nL 391.383375 485.773179 \nL 410.017883 480.491474 \nL 428.652392 478.23259 \nL 447.2869 475.878892 \nL 465.921408 480.515189 \nL 484.555917 488.897061 \nL 503.190425 494.094904 \nL 521.824933 499.79344 \nL 540.459442 510.055492 \nL 559.09395 520.363471 \nL 577.728458 525.91562 \nL 596.362967 529.643689 \nL 614.997475 535.539994 \nL 633.631983 542.605689 \nL 652.266492 550.018266 \nL 670.901 558.204712 \nL 689.535508 563.957197 \nL 708.170017 566.859845 \nL 726.804525 569.414741 \nL 745.439034 571.649817 \nL 764.073542 572.530953 \nL 782.70805 569.614982 \nL 801.342559 566.701734 \nL 819.977067 564.880142 \nL 838.611575 562.070553 \nL 857.246084 557.204256 \nL 875.880592 550.898125 \nL 894.5151 544.829135 \nL 913.149609 539.865891 \nL 931.784117 534.108242 \nL 950.418625 528.793313 \nL 969.053134 525.170171 \nL 987.687642 520.261128 \n\" clip-path=\"url(#pc5cee0eea0)\" style=\"fill: none; stroke: #8c564b; stroke-width: 1.5; stroke-linecap: square\"/>\n   </g>\n   <g id=\"patch_15\">\n    <path d=\"M 28.942188 636.978995 \nL 28.942188 456.196386 \n\" style=\"fill: none; stroke: #000000; stroke-width: 0.8; stroke-linejoin: miter; stroke-linecap: square\"/>\n   </g>\n   <g id=\"patch_16\">\n    <path d=\"M 1033.342188 636.978995 \nL 1033.342188 456.196386 \n\" style=\"fill: none; stroke: #000000; stroke-width: 0.8; stroke-linejoin: miter; stroke-linecap: square\"/>\n   </g>\n   <g id=\"patch_17\">\n    <path d=\"M 28.942188 636.978995 \nL 1033.342187 636.978995 \n\" style=\"fill: none; stroke: #000000; stroke-width: 0.8; stroke-linejoin: miter; stroke-linecap: square\"/>\n   </g>\n   <g id=\"patch_18\">\n    <path d=\"M 28.942188 456.196386 \nL 1033.342187 456.196386 \n\" style=\"fill: none; stroke: #000000; stroke-width: 0.8; stroke-linejoin: miter; stroke-linecap: square\"/>\n   </g>\n   <g id=\"text_55\">\n    <!-- Sample 20 Class:['Right'] -->\n    <g transform=\"translate(455.609688 450.196386) scale(0.12 -0.12)\">\n     <defs>\n      <path id=\"DejaVuSans-52\" d=\"M 2841 2188 \nQ 3044 2119 3236 1894 \nQ 3428 1669 3622 1275 \nL 4263 0 \nL 3584 0 \nL 2988 1197 \nQ 2756 1666 2539 1819 \nQ 2322 1972 1947 1972 \nL 1259 1972 \nL 1259 0 \nL 628 0 \nL 628 4666 \nL 2053 4666 \nQ 2853 4666 3247 4331 \nQ 3641 3997 3641 3322 \nQ 3641 2881 3436 2590 \nQ 3231 2300 2841 2188 \nz\nM 1259 4147 \nL 1259 2491 \nL 2053 2491 \nQ 2509 2491 2742 2702 \nQ 2975 2913 2975 3322 \nQ 2975 3731 2742 3939 \nQ 2509 4147 2053 4147 \nL 1259 4147 \nz\n\" transform=\"scale(0.015625)\"/>\n      <path id=\"DejaVuSans-69\" d=\"M 603 3500 \nL 1178 3500 \nL 1178 0 \nL 603 0 \nL 603 3500 \nz\nM 603 4863 \nL 1178 4863 \nL 1178 4134 \nL 603 4134 \nL 603 4863 \nz\n\" transform=\"scale(0.015625)\"/>\n      <path id=\"DejaVuSans-68\" d=\"M 3513 2113 \nL 3513 0 \nL 2938 0 \nL 2938 2094 \nQ 2938 2591 2744 2837 \nQ 2550 3084 2163 3084 \nQ 1697 3084 1428 2787 \nQ 1159 2491 1159 1978 \nL 1159 0 \nL 581 0 \nL 581 4863 \nL 1159 4863 \nL 1159 2956 \nQ 1366 3272 1645 3428 \nQ 1925 3584 2291 3584 \nQ 2894 3584 3203 3211 \nQ 3513 2838 3513 2113 \nz\n\" transform=\"scale(0.015625)\"/>\n     </defs>\n     <use xlink:href=\"#DejaVuSans-53\"/>\n     <use xlink:href=\"#DejaVuSans-61\" x=\"63.476562\"/>\n     <use xlink:href=\"#DejaVuSans-6d\" x=\"124.755859\"/>\n     <use xlink:href=\"#DejaVuSans-70\" x=\"222.167969\"/>\n     <use xlink:href=\"#DejaVuSans-6c\" x=\"285.644531\"/>\n     <use xlink:href=\"#DejaVuSans-65\" x=\"313.427734\"/>\n     <use xlink:href=\"#DejaVuSans-20\" x=\"374.951172\"/>\n     <use xlink:href=\"#DejaVuSans-32\" x=\"406.738281\"/>\n     <use xlink:href=\"#DejaVuSans-30\" x=\"470.361328\"/>\n     <use xlink:href=\"#DejaVuSans-20\" x=\"533.984375\"/>\n     <use xlink:href=\"#DejaVuSans-43\" x=\"565.771484\"/>\n     <use xlink:href=\"#DejaVuSans-6c\" x=\"635.595703\"/>\n     <use xlink:href=\"#DejaVuSans-61\" x=\"663.378906\"/>\n     <use xlink:href=\"#DejaVuSans-73\" x=\"724.658203\"/>\n     <use xlink:href=\"#DejaVuSans-73\" x=\"776.757812\"/>\n     <use xlink:href=\"#DejaVuSans-3a\" x=\"828.857422\"/>\n     <use xlink:href=\"#DejaVuSans-5b\" x=\"862.548828\"/>\n     <use xlink:href=\"#DejaVuSans-27\" x=\"901.5625\"/>\n     <use xlink:href=\"#DejaVuSans-52\" x=\"929.052734\"/>\n     <use xlink:href=\"#DejaVuSans-69\" x=\"998.535156\"/>\n     <use xlink:href=\"#DejaVuSans-67\" x=\"1026.318359\"/>\n     <use xlink:href=\"#DejaVuSans-68\" x=\"1089.794922\"/>\n     <use xlink:href=\"#DejaVuSans-74\" x=\"1153.173828\"/>\n     <use xlink:href=\"#DejaVuSans-27\" x=\"1192.382812\"/>\n     <use xlink:href=\"#DejaVuSans-5d\" x=\"1219.873047\"/>\n    </g>\n   </g>\n   <g id=\"legend_3\">\n    <g id=\"patch_19\">\n     <path d=\"M 35.942188 631.978995 \nL 80.209375 631.978995 \nQ 82.209375 631.978995 82.209375 629.978995 \nL 82.209375 542.910245 \nQ 82.209375 540.910245 80.209375 540.910245 \nL 35.942188 540.910245 \nQ 33.942188 540.910245 33.942188 542.910245 \nL 33.942188 629.978995 \nQ 33.942188 631.978995 35.942188 631.978995 \nz\n\" style=\"fill: #ffffff; opacity: 0.8; stroke: #cccccc; stroke-linejoin: miter\"/>\n    </g>\n    <g id=\"line2d_71\">\n     <path d=\"M 37.942188 549.008682 \nL 47.942188 549.008682 \nL 57.942188 549.008682 \n\" style=\"fill: none; stroke: #1f77b4; stroke-width: 1.5; stroke-linecap: square\"/>\n    </g>\n    <g id=\"text_56\">\n     <!-- ax -->\n     <g transform=\"translate(65.942188 552.508682) scale(0.1 -0.1)\">\n      <use xlink:href=\"#DejaVuSans-61\"/>\n      <use xlink:href=\"#DejaVuSans-78\" x=\"61.279297\"/>\n     </g>\n    </g>\n    <g id=\"line2d_72\">\n     <path d=\"M 37.942188 563.686807 \nL 47.942188 563.686807 \nL 57.942188 563.686807 \n\" style=\"fill: none; stroke: #ff7f0e; stroke-width: 1.5; stroke-linecap: square\"/>\n    </g>\n    <g id=\"text_57\">\n     <!-- ay -->\n     <g transform=\"translate(65.942188 567.186807) scale(0.1 -0.1)\">\n      <use xlink:href=\"#DejaVuSans-61\"/>\n      <use xlink:href=\"#DejaVuSans-79\" x=\"61.279297\"/>\n     </g>\n    </g>\n    <g id=\"line2d_73\">\n     <path d=\"M 37.942188 578.364932 \nL 47.942188 578.364932 \nL 57.942188 578.364932 \n\" style=\"fill: none; stroke: #2ca02c; stroke-width: 1.5; stroke-linecap: square\"/>\n    </g>\n    <g id=\"text_58\">\n     <!-- az -->\n     <g transform=\"translate(65.942188 581.864932) scale(0.1 -0.1)\">\n      <use xlink:href=\"#DejaVuSans-61\"/>\n      <use xlink:href=\"#DejaVuSans-7a\" x=\"61.279297\"/>\n     </g>\n    </g>\n    <g id=\"line2d_74\">\n     <path d=\"M 37.942188 593.043057 \nL 47.942188 593.043057 \nL 57.942188 593.043057 \n\" style=\"fill: none; stroke: #d62728; stroke-width: 1.5; stroke-linecap: square\"/>\n    </g>\n    <g id=\"text_59\">\n     <!-- gx -->\n     <g transform=\"translate(65.942188 596.543057) scale(0.1 -0.1)\">\n      <use xlink:href=\"#DejaVuSans-67\"/>\n      <use xlink:href=\"#DejaVuSans-78\" x=\"63.476562\"/>\n     </g>\n    </g>\n    <g id=\"line2d_75\">\n     <path d=\"M 37.942188 607.721182 \nL 47.942188 607.721182 \nL 57.942188 607.721182 \n\" style=\"fill: none; stroke: #9467bd; stroke-width: 1.5; stroke-linecap: square\"/>\n    </g>\n    <g id=\"text_60\">\n     <!-- gy -->\n     <g transform=\"translate(65.942188 611.221182) scale(0.1 -0.1)\">\n      <use xlink:href=\"#DejaVuSans-67\"/>\n      <use xlink:href=\"#DejaVuSans-79\" x=\"63.476562\"/>\n     </g>\n    </g>\n    <g id=\"line2d_76\">\n     <path d=\"M 37.942188 622.399307 \nL 47.942188 622.399307 \nL 57.942188 622.399307 \n\" style=\"fill: none; stroke: #8c564b; stroke-width: 1.5; stroke-linecap: square\"/>\n    </g>\n    <g id=\"text_61\">\n     <!-- gz -->\n     <g transform=\"translate(65.942188 625.899307) scale(0.1 -0.1)\">\n      <use xlink:href=\"#DejaVuSans-67\"/>\n      <use xlink:href=\"#DejaVuSans-7a\" x=\"63.476562\"/>\n     </g>\n    </g>\n   </g>\n  </g>\n  <g id=\"axes_4\">\n   <g id=\"patch_20\">\n    <path d=\"M 28.942188 853.918125 \nL 1033.342188 853.918125 \nL 1033.342188 673.135516 \nL 28.942188 673.135516 \nz\n\" style=\"fill: #ffffff\"/>\n   </g>\n   <g id=\"matplotlib.axis_7\">\n    <g id=\"xtick_19\">\n     <g id=\"line2d_77\">\n      <g>\n       <use xlink:href=\"#m2dc4b1fe51\" x=\"74.596733\" y=\"853.918125\" style=\"stroke: #000000; stroke-width: 0.8\"/>\n      </g>\n     </g>\n     <g id=\"text_62\">\n      <!-- 0 -->\n      <g transform=\"translate(71.415483 868.516562) scale(0.1 -0.1)\">\n       <use xlink:href=\"#DejaVuSans-30\"/>\n      </g>\n     </g>\n    </g>\n    <g id=\"xtick_20\">\n     <g id=\"line2d_78\">\n      <g>\n       <use xlink:href=\"#m2dc4b1fe51\" x=\"260.941816\" y=\"853.918125\" style=\"stroke: #000000; stroke-width: 0.8\"/>\n      </g>\n     </g>\n     <g id=\"text_63\">\n      <!-- 10 -->\n      <g transform=\"translate(254.579316 868.516562) scale(0.1 -0.1)\">\n       <use xlink:href=\"#DejaVuSans-31\"/>\n       <use xlink:href=\"#DejaVuSans-30\" x=\"63.623047\"/>\n      </g>\n     </g>\n    </g>\n    <g id=\"xtick_21\">\n     <g id=\"line2d_79\">\n      <g>\n       <use xlink:href=\"#m2dc4b1fe51\" x=\"447.2869\" y=\"853.918125\" style=\"stroke: #000000; stroke-width: 0.8\"/>\n      </g>\n     </g>\n     <g id=\"text_64\">\n      <!-- 20 -->\n      <g transform=\"translate(440.9244 868.516562) scale(0.1 -0.1)\">\n       <use xlink:href=\"#DejaVuSans-32\"/>\n       <use xlink:href=\"#DejaVuSans-30\" x=\"63.623047\"/>\n      </g>\n     </g>\n    </g>\n    <g id=\"xtick_22\">\n     <g id=\"line2d_80\">\n      <g>\n       <use xlink:href=\"#m2dc4b1fe51\" x=\"633.631983\" y=\"853.918125\" style=\"stroke: #000000; stroke-width: 0.8\"/>\n      </g>\n     </g>\n     <g id=\"text_65\">\n      <!-- 30 -->\n      <g transform=\"translate(627.269483 868.516562) scale(0.1 -0.1)\">\n       <use xlink:href=\"#DejaVuSans-33\"/>\n       <use xlink:href=\"#DejaVuSans-30\" x=\"63.623047\"/>\n      </g>\n     </g>\n    </g>\n    <g id=\"xtick_23\">\n     <g id=\"line2d_81\">\n      <g>\n       <use xlink:href=\"#m2dc4b1fe51\" x=\"819.977067\" y=\"853.918125\" style=\"stroke: #000000; stroke-width: 0.8\"/>\n      </g>\n     </g>\n     <g id=\"text_66\">\n      <!-- 40 -->\n      <g transform=\"translate(813.614567 868.516562) scale(0.1 -0.1)\">\n       <use xlink:href=\"#DejaVuSans-34\"/>\n       <use xlink:href=\"#DejaVuSans-30\" x=\"63.623047\"/>\n      </g>\n     </g>\n    </g>\n    <g id=\"xtick_24\">\n     <g id=\"line2d_82\">\n      <g>\n       <use xlink:href=\"#m2dc4b1fe51\" x=\"1006.32215\" y=\"853.918125\" style=\"stroke: #000000; stroke-width: 0.8\"/>\n      </g>\n     </g>\n     <g id=\"text_67\">\n      <!-- 50 -->\n      <g transform=\"translate(999.95965 868.516562) scale(0.1 -0.1)\">\n       <use xlink:href=\"#DejaVuSans-35\"/>\n       <use xlink:href=\"#DejaVuSans-30\" x=\"63.623047\"/>\n      </g>\n     </g>\n    </g>\n   </g>\n   <g id=\"matplotlib.axis_8\">\n    <g id=\"ytick_23\">\n     <g id=\"line2d_83\">\n      <g>\n       <use xlink:href=\"#mddd56038ee\" x=\"28.942188\" y=\"837.354454\" style=\"stroke: #000000; stroke-width: 0.8\"/>\n      </g>\n     </g>\n     <g id=\"text_68\">\n      <!-- −6 -->\n      <g transform=\"translate(7.2 841.153673) scale(0.1 -0.1)\">\n       <use xlink:href=\"#DejaVuSans-2212\"/>\n       <use xlink:href=\"#DejaVuSans-36\" x=\"83.789062\"/>\n      </g>\n     </g>\n    </g>\n    <g id=\"ytick_24\">\n     <g id=\"line2d_84\">\n      <g>\n       <use xlink:href=\"#mddd56038ee\" x=\"28.942188\" y=\"806.150535\" style=\"stroke: #000000; stroke-width: 0.8\"/>\n      </g>\n     </g>\n     <g id=\"text_69\">\n      <!-- −4 -->\n      <g transform=\"translate(7.2 809.949754) scale(0.1 -0.1)\">\n       <use xlink:href=\"#DejaVuSans-2212\"/>\n       <use xlink:href=\"#DejaVuSans-34\" x=\"83.789062\"/>\n      </g>\n     </g>\n    </g>\n    <g id=\"ytick_25\">\n     <g id=\"line2d_85\">\n      <g>\n       <use xlink:href=\"#mddd56038ee\" x=\"28.942188\" y=\"774.946616\" style=\"stroke: #000000; stroke-width: 0.8\"/>\n      </g>\n     </g>\n     <g id=\"text_70\">\n      <!-- −2 -->\n      <g transform=\"translate(7.2 778.745835) scale(0.1 -0.1)\">\n       <use xlink:href=\"#DejaVuSans-2212\"/>\n       <use xlink:href=\"#DejaVuSans-32\" x=\"83.789062\"/>\n      </g>\n     </g>\n    </g>\n    <g id=\"ytick_26\">\n     <g id=\"line2d_86\">\n      <g>\n       <use xlink:href=\"#mddd56038ee\" x=\"28.942188\" y=\"743.742697\" style=\"stroke: #000000; stroke-width: 0.8\"/>\n      </g>\n     </g>\n     <g id=\"text_71\">\n      <!-- 0 -->\n      <g transform=\"translate(15.579688 747.541916) scale(0.1 -0.1)\">\n       <use xlink:href=\"#DejaVuSans-30\"/>\n      </g>\n     </g>\n    </g>\n    <g id=\"ytick_27\">\n     <g id=\"line2d_87\">\n      <g>\n       <use xlink:href=\"#mddd56038ee\" x=\"28.942188\" y=\"712.538778\" style=\"stroke: #000000; stroke-width: 0.8\"/>\n      </g>\n     </g>\n     <g id=\"text_72\">\n      <!-- 2 -->\n      <g transform=\"translate(15.579688 716.337997) scale(0.1 -0.1)\">\n       <use xlink:href=\"#DejaVuSans-32\"/>\n      </g>\n     </g>\n    </g>\n    <g id=\"ytick_28\">\n     <g id=\"line2d_88\">\n      <g>\n       <use xlink:href=\"#mddd56038ee\" x=\"28.942188\" y=\"681.334859\" style=\"stroke: #000000; stroke-width: 0.8\"/>\n      </g>\n     </g>\n     <g id=\"text_73\">\n      <!-- 4 -->\n      <g transform=\"translate(15.579688 685.134078) scale(0.1 -0.1)\">\n       <use xlink:href=\"#DejaVuSans-34\"/>\n      </g>\n     </g>\n    </g>\n   </g>\n   <g id=\"line2d_89\">\n    <path d=\"M 74.596733 731.032789 \nL 93.231241 729.64922 \nL 111.86575 729.812127 \nL 130.500258 731.72225 \nL 149.134766 732.280577 \nL 167.769275 733.722966 \nL 186.403783 736.549538 \nL 205.038291 739.196957 \nL 223.6728 742.296062 \nL 242.307308 744.292502 \nL 260.941816 746.54897 \nL 279.576325 747.803912 \nL 298.210833 748.195921 \nL 316.845341 748.925113 \nL 335.47985 755.046461 \nL 354.114358 762.202231 \nL 372.748867 763.340903 \nL 391.383375 760.816993 \nL 410.017883 762.272589 \nL 428.652392 766.856236 \nL 447.2869 772.306085 \nL 465.921408 776.517665 \nL 484.555917 775.462403 \nL 503.190425 771.785596 \nL 521.824933 771.148064 \nL 540.459442 767.211317 \nL 559.09395 767.012778 \nL 577.728458 767.598635 \nL 596.362967 767.807528 \nL 614.997475 766.034726 \nL 633.631983 767.344919 \nL 652.266492 765.443329 \nL 670.901 759.730251 \nL 689.535508 752.090228 \nL 708.170017 748.742249 \nL 726.804525 737.123303 \nL 745.439034 719.325393 \nL 764.073542 699.685194 \nL 782.70805 684.95963 \nL 801.342559 681.352908 \nL 819.977067 689.820743 \nL 838.611575 705.730627 \nL 857.246084 718.271395 \nL 875.880592 727.801792 \nL 894.5151 732.634515 \nL 913.149609 736.067539 \nL 931.784117 736.784175 \nL 950.418625 736.475796 \nL 969.053134 735.391244 \nL 987.687642 736.189904 \n\" clip-path=\"url(#p659c1eb3dd)\" style=\"fill: none; stroke: #1f77b4; stroke-width: 1.5; stroke-linecap: square\"/>\n   </g>\n   <g id=\"line2d_90\">\n    <path d=\"M 74.596733 735.499376 \nL 93.231241 736.438797 \nL 111.86575 736.977771 \nL 130.500258 737.371069 \nL 149.134766 737.091128 \nL 167.769275 736.978362 \nL 186.403783 739.710144 \nL 205.038291 741.313975 \nL 223.6728 742.455346 \nL 242.307308 743.476157 \nL 260.941816 743.30438 \nL 279.576325 741.84922 \nL 298.210833 741.257121 \nL 316.845341 738.902061 \nL 335.47985 740.543862 \nL 354.114358 743.347329 \nL 372.748867 742.353087 \nL 391.383375 740.663018 \nL 410.017883 740.729382 \nL 428.652392 741.198971 \nL 447.2869 740.331807 \nL 465.921408 741.004941 \nL 484.555917 742.237797 \nL 503.190425 741.652564 \nL 521.824933 741.466937 \nL 540.459442 738.902746 \nL 559.09395 737.236795 \nL 577.728458 736.035153 \nL 596.362967 738.843716 \nL 614.997475 742.632825 \nL 633.631983 744.727437 \nL 652.266492 740.86567 \nL 670.901 733.683716 \nL 689.535508 727.557762 \nL 708.170017 728.688513 \nL 726.804525 726.803262 \nL 745.439034 723.096421 \nL 764.073542 716.316987 \nL 782.70805 715.688527 \nL 801.342559 721.895007 \nL 819.977067 726.059969 \nL 838.611575 729.5941 \nL 857.246084 731.076214 \nL 875.880592 733.657688 \nL 894.5151 734.474487 \nL 913.149609 735.839569 \nL 931.784117 735.396179 \nL 950.418625 735.835762 \nL 969.053134 736.00261 \nL 987.687642 737.141678 \n\" clip-path=\"url(#p659c1eb3dd)\" style=\"fill: none; stroke: #ff7f0e; stroke-width: 1.5; stroke-linecap: square\"/>\n   </g>\n   <g id=\"line2d_91\">\n    <path d=\"M 74.596733 747.369729 \nL 93.231241 746.510443 \nL 111.86575 745.029039 \nL 130.500258 746.79892 \nL 149.134766 749.762249 \nL 167.769275 753.936706 \nL 186.403783 753.495611 \nL 205.038291 751.857728 \nL 223.6728 751.011391 \nL 242.307308 749.610654 \nL 260.941816 750.720697 \nL 279.576325 750.809623 \nL 298.210833 749.562941 \nL 316.845341 751.032576 \nL 335.47985 753.503802 \nL 354.114358 752.325334 \nL 372.748867 749.852137 \nL 391.383375 750.772413 \nL 410.017883 752.745311 \nL 428.652392 752.61485 \nL 447.2869 753.926146 \nL 465.921408 755.333407 \nL 484.555917 752.656479 \nL 503.190425 749.848474 \nL 521.824933 750.893756 \nL 540.459442 753.296687 \nL 559.09395 757.190347 \nL 577.728458 761.362464 \nL 596.362967 755.336177 \nL 614.997475 743.094425 \nL 633.631983 743.371456 \nL 652.266492 752.332079 \nL 670.901 760.735624 \nL 689.535508 761.649655 \nL 708.170017 766.443339 \nL 726.804525 771.189604 \nL 745.439034 778.721991 \nL 764.073542 784.243088 \nL 782.70805 774.723666 \nL 801.342559 757.197854 \nL 819.977067 745.872753 \nL 838.611575 738.050924 \nL 857.246084 734.695221 \nL 875.880592 735.371238 \nL 894.5151 738.360712 \nL 913.149609 742.207167 \nL 931.784117 745.111801 \nL 950.418625 746.340725 \nL 969.053134 748.308072 \nL 987.687642 751.288994 \n\" clip-path=\"url(#p659c1eb3dd)\" style=\"fill: none; stroke: #2ca02c; stroke-width: 1.5; stroke-linecap: square\"/>\n   </g>\n   <g id=\"line2d_92\">\n    <path d=\"M 74.596733 739.912203 \nL 93.231241 741.196681 \nL 111.86575 744.324863 \nL 130.500258 747.7179 \nL 149.134766 749.47217 \nL 167.769275 745.857388 \nL 186.403783 746.158177 \nL 205.038291 750.628854 \nL 223.6728 753.142709 \nL 242.307308 756.12971 \nL 260.941816 762.359024 \nL 279.576325 774.552241 \nL 298.210833 783.593976 \nL 316.845341 780.596787 \nL 335.47985 769.244372 \nL 354.114358 767.552962 \nL 372.748867 775.123667 \nL 391.383375 770.488211 \nL 410.017883 751.653786 \nL 428.652392 740.809711 \nL 447.2869 738.202675 \nL 465.921408 733.776766 \nL 484.555917 730.804981 \nL 503.190425 731.33948 \nL 521.824933 731.381508 \nL 540.459442 729.767953 \nL 559.09395 718.825542 \nL 577.728458 703.297556 \nL 596.362967 701.31528 \nL 614.997475 727.736411 \nL 633.631983 754.31643 \nL 652.266492 766.657928 \nL 670.901 766.438527 \nL 689.535508 770.677247 \nL 708.170017 775.525986 \nL 726.804525 776.17855 \nL 745.439034 762.621221 \nL 764.073542 741.39048 \nL 782.70805 722.447272 \nL 801.342559 714.468906 \nL 819.977067 713.067597 \nL 838.611575 717.167495 \nL 857.246084 724.455176 \nL 875.880592 730.193905 \nL 894.5151 734.817338 \nL 913.149609 738.134101 \nL 931.784117 741.490887 \nL 950.418625 743.472711 \nL 969.053134 744.15992 \nL 987.687642 741.877189 \n\" clip-path=\"url(#p659c1eb3dd)\" style=\"fill: none; stroke: #d62728; stroke-width: 1.5; stroke-linecap: square\"/>\n   </g>\n   <g id=\"line2d_93\">\n    <path d=\"M 74.596733 703.035281 \nL 93.231241 697.477655 \nL 111.86575 698.396266 \nL 130.500258 697.183742 \nL 149.134766 692.624008 \nL 167.769275 688.982985 \nL 186.403783 685.832231 \nL 205.038291 682.957226 \nL 223.6728 689.159292 \nL 242.307308 698.376161 \nL 260.941816 695.399508 \nL 279.576325 685.637842 \nL 298.210833 690.038991 \nL 316.845341 709.220258 \nL 335.47985 730.148756 \nL 354.114358 726.97486 \nL 372.748867 706.110515 \nL 391.383375 707.65092 \nL 410.017883 736.359082 \nL 428.652392 750.675971 \nL 447.2869 739.027644 \nL 465.921408 730.793942 \nL 484.555917 734.923948 \nL 503.190425 742.203954 \nL 521.824933 751.261605 \nL 540.459442 755.823587 \nL 559.09395 770.099023 \nL 577.728458 789.711097 \nL 596.362967 817.581628 \nL 614.997475 832.105962 \nL 633.631983 841.242869 \nL 652.266492 845.700734 \nL 670.901 845.032725 \nL 689.535508 837.611827 \nL 708.170017 820.538055 \nL 726.804525 807.015239 \nL 745.439034 796.533614 \nL 764.073542 768.094332 \nL 782.70805 749.522069 \nL 801.342559 747.212082 \nL 819.977067 745.261925 \nL 838.611575 740.990665 \nL 857.246084 733.028625 \nL 875.880592 728.264546 \nL 894.5151 722.05571 \nL 913.149609 714.473906 \nL 931.784117 704.894294 \nL 950.418625 700.035915 \nL 969.053134 695.732538 \nL 987.687642 692.972248 \n\" clip-path=\"url(#p659c1eb3dd)\" style=\"fill: none; stroke: #9467bd; stroke-width: 1.5; stroke-linecap: square\"/>\n   </g>\n   <g id=\"line2d_94\">\n    <path d=\"M 74.596733 720.675356 \nL 93.231241 715.423834 \nL 111.86575 711.834554 \nL 130.500258 711.67346 \nL 149.134766 709.038423 \nL 167.769275 707.368666 \nL 186.403783 709.919379 \nL 205.038291 714.968882 \nL 223.6728 721.425996 \nL 242.307308 726.570903 \nL 260.941816 731.940422 \nL 279.576325 735.96927 \nL 298.210833 734.591662 \nL 316.845341 725.483216 \nL 335.47985 723.229802 \nL 354.114358 728.990896 \nL 372.748867 731.305124 \nL 391.383375 726.810678 \nL 410.017883 723.639798 \nL 428.652392 723.140906 \nL 447.2869 725.106988 \nL 465.921408 733.201497 \nL 484.555917 742.045591 \nL 503.190425 748.103182 \nL 521.824933 757.138561 \nL 540.459442 759.73098 \nL 559.09395 756.066312 \nL 577.728458 750.453751 \nL 596.362967 751.760681 \nL 614.997475 758.535372 \nL 633.631983 774.304404 \nL 652.266492 790.125791 \nL 670.901 797.315147 \nL 689.535508 802.721485 \nL 708.170017 820.22464 \nL 726.804525 836.007129 \nL 745.439034 840.752496 \nL 764.073542 824.579778 \nL 782.70805 790.898683 \nL 801.342559 752.284235 \nL 819.977067 721.404818 \nL 838.611575 705.66434 \nL 857.246084 699.547331 \nL 875.880592 701.96485 \nL 894.5151 706.952313 \nL 913.149609 714.169662 \nL 931.784117 719.461588 \nL 950.418625 722.086137 \nL 969.053134 721.6138 \nL 987.687642 720.850127 \n\" clip-path=\"url(#p659c1eb3dd)\" style=\"fill: none; stroke: #8c564b; stroke-width: 1.5; stroke-linecap: square\"/>\n   </g>\n   <g id=\"patch_21\">\n    <path d=\"M 28.942188 853.918125 \nL 28.942188 673.135516 \n\" style=\"fill: none; stroke: #000000; stroke-width: 0.8; stroke-linejoin: miter; stroke-linecap: square\"/>\n   </g>\n   <g id=\"patch_22\">\n    <path d=\"M 1033.342188 853.918125 \nL 1033.342188 673.135516 \n\" style=\"fill: none; stroke: #000000; stroke-width: 0.8; stroke-linejoin: miter; stroke-linecap: square\"/>\n   </g>\n   <g id=\"patch_23\">\n    <path d=\"M 28.942188 853.918125 \nL 1033.342187 853.918125 \n\" style=\"fill: none; stroke: #000000; stroke-width: 0.8; stroke-linejoin: miter; stroke-linecap: square\"/>\n   </g>\n   <g id=\"patch_24\">\n    <path d=\"M 28.942188 673.135516 \nL 1033.342187 673.135516 \n\" style=\"fill: none; stroke: #000000; stroke-width: 0.8; stroke-linejoin: miter; stroke-linecap: square\"/>\n   </g>\n   <g id=\"text_74\">\n    <!-- Sample 42 Class:['Right'] -->\n    <g transform=\"translate(455.609688 667.135516) scale(0.12 -0.12)\">\n     <use xlink:href=\"#DejaVuSans-53\"/>\n     <use xlink:href=\"#DejaVuSans-61\" x=\"63.476562\"/>\n     <use xlink:href=\"#DejaVuSans-6d\" x=\"124.755859\"/>\n     <use xlink:href=\"#DejaVuSans-70\" x=\"222.167969\"/>\n     <use xlink:href=\"#DejaVuSans-6c\" x=\"285.644531\"/>\n     <use xlink:href=\"#DejaVuSans-65\" x=\"313.427734\"/>\n     <use xlink:href=\"#DejaVuSans-20\" x=\"374.951172\"/>\n     <use xlink:href=\"#DejaVuSans-34\" x=\"406.738281\"/>\n     <use xlink:href=\"#DejaVuSans-32\" x=\"470.361328\"/>\n     <use xlink:href=\"#DejaVuSans-20\" x=\"533.984375\"/>\n     <use xlink:href=\"#DejaVuSans-43\" x=\"565.771484\"/>\n     <use xlink:href=\"#DejaVuSans-6c\" x=\"635.595703\"/>\n     <use xlink:href=\"#DejaVuSans-61\" x=\"663.378906\"/>\n     <use xlink:href=\"#DejaVuSans-73\" x=\"724.658203\"/>\n     <use xlink:href=\"#DejaVuSans-73\" x=\"776.757812\"/>\n     <use xlink:href=\"#DejaVuSans-3a\" x=\"828.857422\"/>\n     <use xlink:href=\"#DejaVuSans-5b\" x=\"862.548828\"/>\n     <use xlink:href=\"#DejaVuSans-27\" x=\"901.5625\"/>\n     <use xlink:href=\"#DejaVuSans-52\" x=\"929.052734\"/>\n     <use xlink:href=\"#DejaVuSans-69\" x=\"998.535156\"/>\n     <use xlink:href=\"#DejaVuSans-67\" x=\"1026.318359\"/>\n     <use xlink:href=\"#DejaVuSans-68\" x=\"1089.794922\"/>\n     <use xlink:href=\"#DejaVuSans-74\" x=\"1153.173828\"/>\n     <use xlink:href=\"#DejaVuSans-27\" x=\"1192.382812\"/>\n     <use xlink:href=\"#DejaVuSans-5d\" x=\"1219.873047\"/>\n    </g>\n   </g>\n   <g id=\"legend_4\">\n    <g id=\"patch_25\">\n     <path d=\"M 35.942188 848.918125 \nL 80.209375 848.918125 \nQ 82.209375 848.918125 82.209375 846.918125 \nL 82.209375 759.849375 \nQ 82.209375 757.849375 80.209375 757.849375 \nL 35.942188 757.849375 \nQ 33.942188 757.849375 33.942188 759.849375 \nL 33.942188 846.918125 \nQ 33.942188 848.918125 35.942188 848.918125 \nz\n\" style=\"fill: #ffffff; opacity: 0.8; stroke: #cccccc; stroke-linejoin: miter\"/>\n    </g>\n    <g id=\"line2d_95\">\n     <path d=\"M 37.942188 765.947812 \nL 47.942188 765.947812 \nL 57.942188 765.947812 \n\" style=\"fill: none; stroke: #1f77b4; stroke-width: 1.5; stroke-linecap: square\"/>\n    </g>\n    <g id=\"text_75\">\n     <!-- ax -->\n     <g transform=\"translate(65.942188 769.447812) scale(0.1 -0.1)\">\n      <use xlink:href=\"#DejaVuSans-61\"/>\n      <use xlink:href=\"#DejaVuSans-78\" x=\"61.279297\"/>\n     </g>\n    </g>\n    <g id=\"line2d_96\">\n     <path d=\"M 37.942188 780.625937 \nL 47.942188 780.625937 \nL 57.942188 780.625937 \n\" style=\"fill: none; stroke: #ff7f0e; stroke-width: 1.5; stroke-linecap: square\"/>\n    </g>\n    <g id=\"text_76\">\n     <!-- ay -->\n     <g transform=\"translate(65.942188 784.125937) scale(0.1 -0.1)\">\n      <use xlink:href=\"#DejaVuSans-61\"/>\n      <use xlink:href=\"#DejaVuSans-79\" x=\"61.279297\"/>\n     </g>\n    </g>\n    <g id=\"line2d_97\">\n     <path d=\"M 37.942188 795.304062 \nL 47.942188 795.304062 \nL 57.942188 795.304062 \n\" style=\"fill: none; stroke: #2ca02c; stroke-width: 1.5; stroke-linecap: square\"/>\n    </g>\n    <g id=\"text_77\">\n     <!-- az -->\n     <g transform=\"translate(65.942188 798.804062) scale(0.1 -0.1)\">\n      <use xlink:href=\"#DejaVuSans-61\"/>\n      <use xlink:href=\"#DejaVuSans-7a\" x=\"61.279297\"/>\n     </g>\n    </g>\n    <g id=\"line2d_98\">\n     <path d=\"M 37.942188 809.982187 \nL 47.942188 809.982187 \nL 57.942188 809.982187 \n\" style=\"fill: none; stroke: #d62728; stroke-width: 1.5; stroke-linecap: square\"/>\n    </g>\n    <g id=\"text_78\">\n     <!-- gx -->\n     <g transform=\"translate(65.942188 813.482187) scale(0.1 -0.1)\">\n      <use xlink:href=\"#DejaVuSans-67\"/>\n      <use xlink:href=\"#DejaVuSans-78\" x=\"63.476562\"/>\n     </g>\n    </g>\n    <g id=\"line2d_99\">\n     <path d=\"M 37.942188 824.660312 \nL 47.942188 824.660312 \nL 57.942188 824.660312 \n\" style=\"fill: none; stroke: #9467bd; stroke-width: 1.5; stroke-linecap: square\"/>\n    </g>\n    <g id=\"text_79\">\n     <!-- gy -->\n     <g transform=\"translate(65.942188 828.160312) scale(0.1 -0.1)\">\n      <use xlink:href=\"#DejaVuSans-67\"/>\n      <use xlink:href=\"#DejaVuSans-79\" x=\"63.476562\"/>\n     </g>\n    </g>\n    <g id=\"line2d_100\">\n     <path d=\"M 37.942188 839.338437 \nL 47.942188 839.338437 \nL 57.942188 839.338437 \n\" style=\"fill: none; stroke: #8c564b; stroke-width: 1.5; stroke-linecap: square\"/>\n    </g>\n    <g id=\"text_80\">\n     <!-- gz -->\n     <g transform=\"translate(65.942188 842.838437) scale(0.1 -0.1)\">\n      <use xlink:href=\"#DejaVuSans-67\"/>\n      <use xlink:href=\"#DejaVuSans-7a\" x=\"63.476562\"/>\n     </g>\n    </g>\n   </g>\n  </g>\n </g>\n <defs>\n  <clipPath id=\"p8648be612d\">\n   <rect x=\"28.942188\" y=\"22.318125\" width=\"1004.4\" height=\"180.782609\"/>\n  </clipPath>\n  <clipPath id=\"pa68118774c\">\n   <rect x=\"28.942188\" y=\"239.257255\" width=\"1004.4\" height=\"180.782609\"/>\n  </clipPath>\n  <clipPath id=\"pc5cee0eea0\">\n   <rect x=\"28.942188\" y=\"456.196386\" width=\"1004.4\" height=\"180.782609\"/>\n  </clipPath>\n  <clipPath id=\"p659c1eb3dd\">\n   <rect x=\"28.942188\" y=\"673.135516\" width=\"1004.4\" height=\"180.782609\"/>\n  </clipPath>\n </defs>\n</svg>\n"
          },
          "metadata": {}
        }
      ],
      "source": [
        "%matplotlib inline\n",
        "%config InlineBackend.figure_format = 'svg'\n",
        "\n",
        "import numpy as np\n",
        "from matplotlib import pyplot as plt\n",
        "\n",
        "sample = next(iter(train_loader))\n",
        "sample_data = sample[0].permute(0, 2, 1)\n",
        "sample_label = sample[1]\n",
        "\n",
        "num_samples_to_plot = 4\n",
        "indices = np.random.choice(sample_data.shape[0], num_samples_to_plot, replace=False)\n",
        "\n",
        "plt.figure(figsize=(18, 15))\n",
        "\n",
        "for i, index in enumerate(indices, 1):\n",
        "    plt.subplot(num_samples_to_plot, 1, i)\n",
        "    for j in range(sample_data.shape[2]):\n",
        "        plt.plot(sample_data[index, :, j].cpu().numpy(), label=f'{feature_names[j]}')\n",
        "    plt.legend()\n",
        "    plt.title(f'Sample {index} Class:{encoder.inverse_transform([sample_label[index]])}')\n",
        "    # plt.tight_layout()\n",
        "\n",
        "plt.show()"
      ]
    },
    {
      "cell_type": "code",
      "execution_count": 140,
      "metadata": {
        "id": "Wuuieya0smzW"
      },
      "outputs": [],
      "source": []
    },
    {
      "cell_type": "markdown",
      "metadata": {
        "id": "dVqOOX3zA4aQ"
      },
      "source": [
        "## Define model"
      ]
    },
    {
      "cell_type": "code",
      "execution_count": 141,
      "metadata": {
        "id": "CN9xfw6aA6Ob"
      },
      "outputs": [],
      "source": [
        "from torch import nn\n",
        "import torch\n",
        "from torch.nn.parameter import Parameter\n",
        "import torch.nn.functional as F\n",
        "\n",
        "import torch\n",
        "import torch.nn as nn\n",
        "import torch.nn.functional as F\n",
        "\n",
        "class SimpleTimeSeriesCNN(nn.Module):\n",
        "    def __init__(self, num_classes=5):\n",
        "        super(SimpleTimeSeriesCNN, self).__init__()\n",
        "\n",
        "        self.conv_block= nn.Sequential(\n",
        "            nn.Conv1d(in_channels=6, out_channels=32, kernel_size=5, stride=1, padding=2),\n",
        "            # 1x50x32\n",
        "            nn.BatchNorm1d(32),\n",
        "            nn.ReLU(),\n",
        "            nn.MaxPool1d(kernel_size=2),\n",
        "            # 1x25x32\n",
        "\n",
        "            #\n",
        "            nn.Conv1d(in_channels=32, out_channels=16, kernel_size=4, stride=3, padding=1),\n",
        "            # 1x8x32\n",
        "            nn.BatchNorm1d(16),\n",
        "            nn.ReLU(),\n",
        "            nn.MaxPool1d(kernel_size=2),\n",
        "            # 1x4x32\n",
        "\n",
        "            #\n",
        "            # nn.Conv1d(in_channels=32, out_channels=16, kernel_size=3),\n",
        "            # nn.BatchNorm1d(16),\n",
        "            # nn.ReLU(),\n",
        "            # nn.MaxPool1d(kernel_size=2),\n",
        "        )\n",
        "\n",
        "        self.fc = nn.Sequential(\n",
        "            nn.Linear(4 * 16, num_classes), # 59\n",
        "            # nn.ReLU(),\n",
        "            # nn.Linear(64, num_classes)\n",
        "        )\n",
        "\n",
        "    def forward(self, x):\n",
        "        x = self.conv_block(x)\n",
        "        x = torch.flatten(x, 1)\n",
        "        x = self.fc(x)\n",
        "        return x\n",
        "\n"
      ]
    },
    {
      "cell_type": "code",
      "source": [
        "from torch import nn\n",
        "import torch\n",
        "from torch.nn.parameter import Parameter\n",
        "import torch.nn.functional as F\n",
        "\n",
        "class SimpleTimeSeriesCNN(nn.Module):\n",
        "    def __init__(self, num_classes=5):\n",
        "        super(SimpleTimeSeriesCNN, self).__init__()\n",
        "        self.conv_block= nn.Sequential(\n",
        "            nn.Conv1d(in_channels=6, out_channels=32, kernel_size=5, stride=1, padding=2),\n",
        "            # 1x50x32\n",
        "            nn.BatchNorm1d(32),\n",
        "            nn.ReLU(),\n",
        "            nn.MaxPool1d(kernel_size=2),\n",
        "            # 1x25x32\n",
        "            nn.Conv1d(in_channels=32, out_channels=16, kernel_size=4, stride=3, padding=1),\n",
        "            # 1x8x32\n",
        "            nn.BatchNorm1d(16),\n",
        "            nn.ReLU(),\n",
        "            nn.MaxPool1d(kernel_size=2),\n",
        "            # 1x4x32\n",
        "        )\n",
        "\n",
        "        self.fc = nn.Sequential(\n",
        "            nn.Linear(4 * 16, num_classes), # 59\n",
        "        )\n",
        "\n",
        "    def forward(self, x):\n",
        "        x = self.conv_block(x)\n",
        "        x = torch.flatten(x, 1)\n",
        "        x = self.fc(x)\n",
        "        return x"
      ],
      "metadata": {
        "id": "rbx9QbfJav8O"
      },
      "execution_count": 142,
      "outputs": []
    },
    {
      "cell_type": "markdown",
      "metadata": {
        "id": "DAJDan9OBGBh"
      },
      "source": [
        "## Define training functions"
      ]
    },
    {
      "cell_type": "code",
      "execution_count": 143,
      "metadata": {
        "id": "Gy4hJZsgBGiG"
      },
      "outputs": [],
      "source": [
        "from tqdm import tqdm\n",
        "import random\n",
        "import torchvision.transforms.functional as TF\n",
        "def train(train_loader, model, criterion, optimizer, epoch, device):\n",
        "    model.train()\n",
        "\n",
        "    train_loss = 0.0\n",
        "    train_correct = 0\n",
        "    train_total = 0\n",
        "\n",
        "    for inputs, labels in tqdm(train_loader, \"training\"):\n",
        "        inputs = inputs.to(device)\n",
        "        labels = labels.to(device)\n",
        "\n",
        "        outputs = model(inputs)\n",
        "\n",
        "        loss = criterion(outputs, labels)\n",
        "        optimizer.zero_grad()\n",
        "        loss.backward()\n",
        "        optimizer.step()\n",
        "\n",
        "        train_loss += loss.item()\n",
        "        _, predicted = outputs.max(1)\n",
        "        train_total += labels.size(0)\n",
        "        train_correct += (predicted == labels).sum().item()\n",
        "\n",
        "\n",
        "    train_accuracy = 100 * train_correct / train_total\n",
        "    avg_train_loss = train_loss / len(train_loader)\n",
        "    print(f\"Epoch {epoch+1}, Training Loss: {avg_train_loss:.4f}, Training Accuracy: {train_accuracy:.2f}%\")\n",
        "\n",
        "def test(test_loader, model, criterion, optimizer, epoch, device):\n",
        "\n",
        "    test_loss = 0.0\n",
        "    test_correct = 0\n",
        "    test_total = 0\n",
        "    with torch.no_grad():\n",
        "      for inputs,  labels in tqdm(test_loader, \"testing\"):\n",
        "          inputs = inputs.to(device)\n",
        "          labels = labels.to(device)\n",
        "\n",
        "          outputs = model(inputs)\n",
        "\n",
        "          loss = criterion(outputs, labels)\n",
        "          test_loss += loss.item()\n",
        "\n",
        "          _, predicted = outputs.max(1)\n",
        "          test_total += labels.size(0)\n",
        "          test_correct += (predicted == labels).sum().item()\n",
        "\n",
        "\n",
        "      test_accuracy = 100 * test_correct / test_total\n",
        "      avg_test_loss = test_loss / len(test_loader)\n",
        "      print(f\"Epoch {epoch+1}, Test Loss: {avg_test_loss:.4f}, Test Accuracy: {test_accuracy:.2f}%\\n\")\n",
        "      return test_accuracy/100\n"
      ]
    },
    {
      "cell_type": "markdown",
      "metadata": {
        "id": "2IVmZLC3qNdx"
      },
      "source": [
        "## Define helpers"
      ]
    },
    {
      "cell_type": "code",
      "execution_count": 144,
      "metadata": {
        "id": "X0DG0rl_qPc5"
      },
      "outputs": [],
      "source": [
        "def count_parameters(model):\n",
        "    return sum(p.numel() for p in model.parameters() if p.requires_grad)"
      ]
    },
    {
      "cell_type": "markdown",
      "metadata": {
        "id": "wyATHdUiuV4e"
      },
      "source": [
        "## Train models"
      ]
    },
    {
      "cell_type": "code",
      "execution_count": 145,
      "metadata": {
        "id": "Z3iJLhPFuYMp"
      },
      "outputs": [],
      "source": [
        "import time"
      ]
    },
    {
      "cell_type": "code",
      "execution_count": 146,
      "metadata": {
        "id": "sZPVLvYhBR92",
        "colab": {
          "base_uri": "https://localhost:8080/"
        },
        "outputId": "40e2f9b7-5d24-4381-f741-7b04449b7873"
      },
      "outputs": [
        {
          "output_type": "stream",
          "name": "stdout",
          "text": [
            "SimpleTimeSeriesCNN(\n",
            "  (conv_block): Sequential(\n",
            "    (0): Conv1d(6, 32, kernel_size=(5,), stride=(1,), padding=(2,))\n",
            "    (1): BatchNorm1d(32, eps=1e-05, momentum=0.1, affine=True, track_running_stats=True)\n",
            "    (2): ReLU()\n",
            "    (3): MaxPool1d(kernel_size=2, stride=2, padding=0, dilation=1, ceil_mode=False)\n",
            "    (4): Conv1d(32, 16, kernel_size=(4,), stride=(3,), padding=(1,))\n",
            "    (5): BatchNorm1d(16, eps=1e-05, momentum=0.1, affine=True, track_running_stats=True)\n",
            "    (6): ReLU()\n",
            "    (7): MaxPool1d(kernel_size=2, stride=2, padding=0, dilation=1, ceil_mode=False)\n",
            "  )\n",
            "  (fc): Sequential(\n",
            "    (0): Linear(in_features=64, out_features=4, bias=True)\n",
            "  )\n",
            ")\n",
            "The number of model parameters:3412\n"
          ]
        },
        {
          "output_type": "stream",
          "name": "stderr",
          "text": [
            "training: 100%|██████████| 4/4 [00:00<00:00, 219.12it/s]\n"
          ]
        },
        {
          "output_type": "stream",
          "name": "stdout",
          "text": [
            "Epoch 1, Training Loss: 1.3201, Training Accuracy: 33.88%\n"
          ]
        },
        {
          "output_type": "stream",
          "name": "stderr",
          "text": [
            "testing:   0%|          | 0/1 [00:00<?, ?it/s]/usr/local/lib/python3.10/dist-packages/torch/nn/modules/conv.py:306: UserWarning: Plan failed with a cudnnException: CUDNN_BACKEND_EXECUTION_PLAN_DESCRIPTOR: cudnnFinalize Descriptor Failed cudnn_status: CUDNN_STATUS_NOT_SUPPORTED (Triggered internally at ../aten/src/ATen/native/cudnn/Conv_v8.cpp:919.)\n",
            "  return F.conv1d(input, weight, bias, self.stride,\n",
            "testing: 100%|██████████| 1/1 [00:00<00:00, 196.22it/s]\n"
          ]
        },
        {
          "output_type": "stream",
          "name": "stdout",
          "text": [
            "Epoch 1, Test Loss: 1.3249, Test Accuracy: 37.50%\n",
            "\n"
          ]
        },
        {
          "output_type": "stream",
          "name": "stderr",
          "text": [
            "training: 100%|██████████| 4/4 [00:00<00:00, 324.56it/s]\n"
          ]
        },
        {
          "output_type": "stream",
          "name": "stdout",
          "text": [
            "Epoch 2, Training Loss: 1.1090, Training Accuracy: 62.75%\n"
          ]
        },
        {
          "output_type": "stream",
          "name": "stderr",
          "text": [
            "testing: 100%|██████████| 1/1 [00:00<00:00, 397.53it/s]\n"
          ]
        },
        {
          "output_type": "stream",
          "name": "stdout",
          "text": [
            "Epoch 2, Test Loss: 1.1758, Test Accuracy: 55.00%\n",
            "\n"
          ]
        },
        {
          "output_type": "stream",
          "name": "stderr",
          "text": [
            "training: 100%|██████████| 4/4 [00:00<00:00, 319.00it/s]\n"
          ]
        },
        {
          "output_type": "stream",
          "name": "stdout",
          "text": [
            "Epoch 3, Training Loss: 0.9771, Training Accuracy: 78.88%\n"
          ]
        },
        {
          "output_type": "stream",
          "name": "stderr",
          "text": [
            "testing: 100%|██████████| 1/1 [00:00<00:00, 303.91it/s]\n"
          ]
        },
        {
          "output_type": "stream",
          "name": "stdout",
          "text": [
            "Epoch 3, Test Loss: 1.0739, Test Accuracy: 66.00%\n",
            "\n"
          ]
        },
        {
          "output_type": "stream",
          "name": "stderr",
          "text": [
            "training: 100%|██████████| 4/4 [00:00<00:00, 312.34it/s]\n"
          ]
        },
        {
          "output_type": "stream",
          "name": "stdout",
          "text": [
            "Epoch 4, Training Loss: 0.8881, Training Accuracy: 89.25%\n"
          ]
        },
        {
          "output_type": "stream",
          "name": "stderr",
          "text": [
            "testing: 100%|██████████| 1/1 [00:00<00:00, 371.05it/s]\n"
          ]
        },
        {
          "output_type": "stream",
          "name": "stdout",
          "text": [
            "Epoch 4, Test Loss: 0.9946, Test Accuracy: 72.50%\n",
            "\n"
          ]
        },
        {
          "output_type": "stream",
          "name": "stderr",
          "text": [
            "training: 100%|██████████| 4/4 [00:00<00:00, 320.81it/s]\n"
          ]
        },
        {
          "output_type": "stream",
          "name": "stdout",
          "text": [
            "Epoch 5, Training Loss: 0.8037, Training Accuracy: 91.38%\n"
          ]
        },
        {
          "output_type": "stream",
          "name": "stderr",
          "text": [
            "testing: 100%|██████████| 1/1 [00:00<00:00, 631.48it/s]\n"
          ]
        },
        {
          "output_type": "stream",
          "name": "stdout",
          "text": [
            "Epoch 5, Test Loss: 0.9153, Test Accuracy: 79.50%\n",
            "\n"
          ]
        },
        {
          "output_type": "stream",
          "name": "stderr",
          "text": [
            "training: 100%|██████████| 4/4 [00:00<00:00, 313.38it/s]\n"
          ]
        },
        {
          "output_type": "stream",
          "name": "stdout",
          "text": [
            "Epoch 6, Training Loss: 0.7050, Training Accuracy: 92.62%\n"
          ]
        },
        {
          "output_type": "stream",
          "name": "stderr",
          "text": [
            "testing: 100%|██████████| 1/1 [00:00<00:00, 349.96it/s]\n"
          ]
        },
        {
          "output_type": "stream",
          "name": "stdout",
          "text": [
            "Epoch 6, Test Loss: 0.8437, Test Accuracy: 82.50%\n",
            "\n"
          ]
        },
        {
          "output_type": "stream",
          "name": "stderr",
          "text": [
            "training: 100%|██████████| 4/4 [00:00<00:00, 273.61it/s]\n"
          ]
        },
        {
          "output_type": "stream",
          "name": "stdout",
          "text": [
            "Epoch 7, Training Loss: 0.6339, Training Accuracy: 93.88%\n"
          ]
        },
        {
          "output_type": "stream",
          "name": "stderr",
          "text": [
            "testing: 100%|██████████| 1/1 [00:00<00:00, 378.17it/s]\n"
          ]
        },
        {
          "output_type": "stream",
          "name": "stdout",
          "text": [
            "Epoch 7, Test Loss: 0.7804, Test Accuracy: 84.00%\n",
            "\n"
          ]
        },
        {
          "output_type": "stream",
          "name": "stderr",
          "text": [
            "training: 100%|██████████| 4/4 [00:00<00:00, 297.68it/s]\n"
          ]
        },
        {
          "output_type": "stream",
          "name": "stdout",
          "text": [
            "Epoch 8, Training Loss: 0.5735, Training Accuracy: 94.25%\n"
          ]
        },
        {
          "output_type": "stream",
          "name": "stderr",
          "text": [
            "testing: 100%|██████████| 1/1 [00:00<00:00, 310.41it/s]\n"
          ]
        },
        {
          "output_type": "stream",
          "name": "stdout",
          "text": [
            "Epoch 8, Test Loss: 0.7206, Test Accuracy: 86.50%\n",
            "\n"
          ]
        },
        {
          "output_type": "stream",
          "name": "stderr",
          "text": [
            "training: 100%|██████████| 4/4 [00:00<00:00, 293.97it/s]"
          ]
        },
        {
          "output_type": "stream",
          "name": "stdout",
          "text": [
            "Epoch 9, Training Loss: 0.5061, Training Accuracy: 94.62%\n"
          ]
        },
        {
          "output_type": "stream",
          "name": "stderr",
          "text": [
            "\n",
            "testing: 100%|██████████| 1/1 [00:00<00:00, 417.47it/s]\n"
          ]
        },
        {
          "output_type": "stream",
          "name": "stdout",
          "text": [
            "Epoch 9, Test Loss: 0.6634, Test Accuracy: 86.50%\n",
            "\n"
          ]
        },
        {
          "output_type": "stream",
          "name": "stderr",
          "text": [
            "training: 100%|██████████| 4/4 [00:00<00:00, 288.07it/s]\n"
          ]
        },
        {
          "output_type": "stream",
          "name": "stdout",
          "text": [
            "Epoch 10, Training Loss: 0.4720, Training Accuracy: 95.50%\n"
          ]
        },
        {
          "output_type": "stream",
          "name": "stderr",
          "text": [
            "testing: 100%|██████████| 1/1 [00:00<00:00, 310.44it/s]\n"
          ]
        },
        {
          "output_type": "stream",
          "name": "stdout",
          "text": [
            "Epoch 10, Test Loss: 0.6074, Test Accuracy: 86.50%\n",
            "\n"
          ]
        },
        {
          "output_type": "stream",
          "name": "stderr",
          "text": [
            "training: 100%|██████████| 4/4 [00:00<00:00, 287.61it/s]\n"
          ]
        },
        {
          "output_type": "stream",
          "name": "stdout",
          "text": [
            "Epoch 11, Training Loss: 0.3870, Training Accuracy: 95.88%\n"
          ]
        },
        {
          "output_type": "stream",
          "name": "stderr",
          "text": [
            "testing: 100%|██████████| 1/1 [00:00<00:00, 289.38it/s]\n"
          ]
        },
        {
          "output_type": "stream",
          "name": "stdout",
          "text": [
            "Epoch 11, Test Loss: 0.5543, Test Accuracy: 93.00%\n",
            "\n"
          ]
        },
        {
          "output_type": "stream",
          "name": "stderr",
          "text": [
            "training: 100%|██████████| 4/4 [00:00<00:00, 275.85it/s]\n"
          ]
        },
        {
          "output_type": "stream",
          "name": "stdout",
          "text": [
            "Epoch 12, Training Loss: 0.3471, Training Accuracy: 96.50%\n"
          ]
        },
        {
          "output_type": "stream",
          "name": "stderr",
          "text": [
            "testing: 100%|██████████| 1/1 [00:00<00:00, 319.18it/s]\n"
          ]
        },
        {
          "output_type": "stream",
          "name": "stdout",
          "text": [
            "Epoch 12, Test Loss: 0.5001, Test Accuracy: 94.00%\n",
            "\n"
          ]
        },
        {
          "output_type": "stream",
          "name": "stderr",
          "text": [
            "training: 100%|██████████| 4/4 [00:00<00:00, 272.18it/s]\n"
          ]
        },
        {
          "output_type": "stream",
          "name": "stdout",
          "text": [
            "Epoch 13, Training Loss: 0.3236, Training Accuracy: 96.88%\n"
          ]
        },
        {
          "output_type": "stream",
          "name": "stderr",
          "text": [
            "testing: 100%|██████████| 1/1 [00:00<00:00, 341.72it/s]"
          ]
        },
        {
          "output_type": "stream",
          "name": "stdout",
          "text": [
            "Epoch 13, Test Loss: 0.4501, Test Accuracy: 94.00%\n",
            "\n"
          ]
        },
        {
          "output_type": "stream",
          "name": "stderr",
          "text": [
            "\n",
            "training: 100%|██████████| 4/4 [00:00<00:00, 288.28it/s]\n"
          ]
        },
        {
          "output_type": "stream",
          "name": "stdout",
          "text": [
            "Epoch 14, Training Loss: 0.2698, Training Accuracy: 97.38%\n"
          ]
        },
        {
          "output_type": "stream",
          "name": "stderr",
          "text": [
            "testing: 100%|██████████| 1/1 [00:00<00:00, 277.11it/s]\n"
          ]
        },
        {
          "output_type": "stream",
          "name": "stdout",
          "text": [
            "Epoch 14, Test Loss: 0.4056, Test Accuracy: 95.00%\n",
            "\n"
          ]
        },
        {
          "output_type": "stream",
          "name": "stderr",
          "text": [
            "training: 100%|██████████| 4/4 [00:00<00:00, 275.49it/s]\n"
          ]
        },
        {
          "output_type": "stream",
          "name": "stdout",
          "text": [
            "Epoch 15, Training Loss: 0.2374, Training Accuracy: 98.38%\n"
          ]
        },
        {
          "output_type": "stream",
          "name": "stderr",
          "text": [
            "testing: 100%|██████████| 1/1 [00:00<00:00, 329.25it/s]\n"
          ]
        },
        {
          "output_type": "stream",
          "name": "stdout",
          "text": [
            "Epoch 15, Test Loss: 0.3617, Test Accuracy: 96.00%\n",
            "\n"
          ]
        },
        {
          "output_type": "stream",
          "name": "stderr",
          "text": [
            "training: 100%|██████████| 4/4 [00:00<00:00, 263.47it/s]\n"
          ]
        },
        {
          "output_type": "stream",
          "name": "stdout",
          "text": [
            "Epoch 16, Training Loss: 0.2145, Training Accuracy: 99.00%\n"
          ]
        },
        {
          "output_type": "stream",
          "name": "stderr",
          "text": [
            "testing: 100%|██████████| 1/1 [00:00<00:00, 349.29it/s]\n"
          ]
        },
        {
          "output_type": "stream",
          "name": "stdout",
          "text": [
            "Epoch 16, Test Loss: 0.3273, Test Accuracy: 96.50%\n",
            "\n"
          ]
        },
        {
          "output_type": "stream",
          "name": "stderr",
          "text": [
            "training: 100%|██████████| 4/4 [00:00<00:00, 315.53it/s]\n"
          ]
        },
        {
          "output_type": "stream",
          "name": "stdout",
          "text": [
            "Epoch 17, Training Loss: 0.1769, Training Accuracy: 99.25%\n"
          ]
        },
        {
          "output_type": "stream",
          "name": "stderr",
          "text": [
            "testing: 100%|██████████| 1/1 [00:00<00:00, 376.98it/s]\n"
          ]
        },
        {
          "output_type": "stream",
          "name": "stdout",
          "text": [
            "Epoch 17, Test Loss: 0.3020, Test Accuracy: 99.50%\n",
            "\n"
          ]
        },
        {
          "output_type": "stream",
          "name": "stderr",
          "text": [
            "training: 100%|██████████| 4/4 [00:00<00:00, 268.71it/s]\n"
          ]
        },
        {
          "output_type": "stream",
          "name": "stdout",
          "text": [
            "Epoch 18, Training Loss: 0.1618, Training Accuracy: 99.38%\n"
          ]
        },
        {
          "output_type": "stream",
          "name": "stderr",
          "text": [
            "testing: 100%|██████████| 1/1 [00:00<00:00, 360.40it/s]\n"
          ]
        },
        {
          "output_type": "stream",
          "name": "stdout",
          "text": [
            "Epoch 18, Test Loss: 0.2748, Test Accuracy: 99.50%\n",
            "\n"
          ]
        },
        {
          "output_type": "stream",
          "name": "stderr",
          "text": [
            "training: 100%|██████████| 4/4 [00:00<00:00, 330.66it/s]\n"
          ]
        },
        {
          "output_type": "stream",
          "name": "stdout",
          "text": [
            "Epoch 19, Training Loss: 0.1412, Training Accuracy: 99.38%\n"
          ]
        },
        {
          "output_type": "stream",
          "name": "stderr",
          "text": [
            "testing: 100%|██████████| 1/1 [00:00<00:00, 359.38it/s]\n"
          ]
        },
        {
          "output_type": "stream",
          "name": "stdout",
          "text": [
            "Epoch 19, Test Loss: 0.2500, Test Accuracy: 99.50%\n",
            "\n"
          ]
        },
        {
          "output_type": "stream",
          "name": "stderr",
          "text": [
            "training: 100%|██████████| 4/4 [00:00<00:00, 303.24it/s]\n"
          ]
        },
        {
          "output_type": "stream",
          "name": "stdout",
          "text": [
            "Epoch 20, Training Loss: 0.1177, Training Accuracy: 99.50%\n"
          ]
        },
        {
          "output_type": "stream",
          "name": "stderr",
          "text": [
            "testing: 100%|██████████| 1/1 [00:00<00:00, 347.07it/s]"
          ]
        },
        {
          "output_type": "stream",
          "name": "stdout",
          "text": [
            "Epoch 20, Test Loss: 0.2294, Test Accuracy: 99.50%\n",
            "\n"
          ]
        },
        {
          "output_type": "stream",
          "name": "stderr",
          "text": [
            "\n",
            "training: 100%|██████████| 4/4 [00:00<00:00, 307.96it/s]\n"
          ]
        },
        {
          "output_type": "stream",
          "name": "stdout",
          "text": [
            "Epoch 21, Training Loss: 0.1073, Training Accuracy: 99.50%\n"
          ]
        },
        {
          "output_type": "stream",
          "name": "stderr",
          "text": [
            "testing: 100%|██████████| 1/1 [00:00<00:00, 319.01it/s]\n"
          ]
        },
        {
          "output_type": "stream",
          "name": "stdout",
          "text": [
            "Epoch 21, Test Loss: 0.2122, Test Accuracy: 99.50%\n",
            "\n"
          ]
        },
        {
          "output_type": "stream",
          "name": "stderr",
          "text": [
            "training: 100%|██████████| 4/4 [00:00<00:00, 282.15it/s]\n"
          ]
        },
        {
          "output_type": "stream",
          "name": "stdout",
          "text": [
            "Epoch 22, Training Loss: 0.1038, Training Accuracy: 99.50%\n"
          ]
        },
        {
          "output_type": "stream",
          "name": "stderr",
          "text": [
            "testing: 100%|██████████| 1/1 [00:00<00:00, 364.15it/s]\n"
          ]
        },
        {
          "output_type": "stream",
          "name": "stdout",
          "text": [
            "Epoch 22, Test Loss: 0.1987, Test Accuracy: 99.50%\n",
            "\n"
          ]
        },
        {
          "output_type": "stream",
          "name": "stderr",
          "text": [
            "training: 100%|██████████| 4/4 [00:00<00:00, 308.00it/s]\n"
          ]
        },
        {
          "output_type": "stream",
          "name": "stdout",
          "text": [
            "Epoch 23, Training Loss: 0.0968, Training Accuracy: 99.50%\n"
          ]
        },
        {
          "output_type": "stream",
          "name": "stderr",
          "text": [
            "testing: 100%|██████████| 1/1 [00:00<00:00, 321.87it/s]\n"
          ]
        },
        {
          "output_type": "stream",
          "name": "stdout",
          "text": [
            "Epoch 23, Test Loss: 0.1868, Test Accuracy: 99.50%\n",
            "\n"
          ]
        },
        {
          "output_type": "stream",
          "name": "stderr",
          "text": [
            "training: 100%|██████████| 4/4 [00:00<00:00, 298.86it/s]\n"
          ]
        },
        {
          "output_type": "stream",
          "name": "stdout",
          "text": [
            "Epoch 24, Training Loss: 0.0829, Training Accuracy: 99.50%\n"
          ]
        },
        {
          "output_type": "stream",
          "name": "stderr",
          "text": [
            "testing: 100%|██████████| 1/1 [00:00<00:00, 380.95it/s]\n"
          ]
        },
        {
          "output_type": "stream",
          "name": "stdout",
          "text": [
            "Epoch 24, Test Loss: 0.1767, Test Accuracy: 99.50%\n",
            "\n"
          ]
        },
        {
          "output_type": "stream",
          "name": "stderr",
          "text": [
            "training: 100%|██████████| 4/4 [00:00<00:00, 335.34it/s]\n"
          ]
        },
        {
          "output_type": "stream",
          "name": "stdout",
          "text": [
            "Epoch 25, Training Loss: 0.0769, Training Accuracy: 99.50%\n"
          ]
        },
        {
          "output_type": "stream",
          "name": "stderr",
          "text": [
            "testing: 100%|██████████| 1/1 [00:00<00:00, 382.20it/s]\n"
          ]
        },
        {
          "output_type": "stream",
          "name": "stdout",
          "text": [
            "Epoch 25, Test Loss: 0.1672, Test Accuracy: 99.50%\n",
            "\n"
          ]
        },
        {
          "output_type": "stream",
          "name": "stderr",
          "text": [
            "training: 100%|██████████| 4/4 [00:00<00:00, 259.51it/s]\n"
          ]
        },
        {
          "output_type": "stream",
          "name": "stdout",
          "text": [
            "Epoch 26, Training Loss: 0.0784, Training Accuracy: 99.50%\n"
          ]
        },
        {
          "output_type": "stream",
          "name": "stderr",
          "text": [
            "testing: 100%|██████████| 1/1 [00:00<00:00, 350.46it/s]\n"
          ]
        },
        {
          "output_type": "stream",
          "name": "stdout",
          "text": [
            "Epoch 26, Test Loss: 0.1571, Test Accuracy: 99.50%\n",
            "\n"
          ]
        },
        {
          "output_type": "stream",
          "name": "stderr",
          "text": [
            "training: 100%|██████████| 4/4 [00:00<00:00, 317.82it/s]\n"
          ]
        },
        {
          "output_type": "stream",
          "name": "stdout",
          "text": [
            "Epoch 27, Training Loss: 0.0768, Training Accuracy: 99.50%\n"
          ]
        },
        {
          "output_type": "stream",
          "name": "stderr",
          "text": [
            "testing: 100%|██████████| 1/1 [00:00<00:00, 456.50it/s]\n"
          ]
        },
        {
          "output_type": "stream",
          "name": "stdout",
          "text": [
            "Epoch 27, Test Loss: 0.1468, Test Accuracy: 99.50%\n",
            "\n"
          ]
        },
        {
          "output_type": "stream",
          "name": "stderr",
          "text": [
            "training: 100%|██████████| 4/4 [00:00<00:00, 271.48it/s]\n"
          ]
        },
        {
          "output_type": "stream",
          "name": "stdout",
          "text": [
            "Epoch 28, Training Loss: 0.0599, Training Accuracy: 99.50%\n"
          ]
        },
        {
          "output_type": "stream",
          "name": "stderr",
          "text": [
            "testing: 100%|██████████| 1/1 [00:00<00:00, 379.20it/s]\n"
          ]
        },
        {
          "output_type": "stream",
          "name": "stdout",
          "text": [
            "Epoch 28, Test Loss: 0.1379, Test Accuracy: 99.50%\n",
            "\n"
          ]
        },
        {
          "output_type": "stream",
          "name": "stderr",
          "text": [
            "training: 100%|██████████| 4/4 [00:00<00:00, 303.06it/s]\n"
          ]
        },
        {
          "output_type": "stream",
          "name": "stdout",
          "text": [
            "Epoch 29, Training Loss: 0.0667, Training Accuracy: 99.50%\n"
          ]
        },
        {
          "output_type": "stream",
          "name": "stderr",
          "text": [
            "testing: 100%|██████████| 1/1 [00:00<00:00, 296.84it/s]\n"
          ]
        },
        {
          "output_type": "stream",
          "name": "stdout",
          "text": [
            "Epoch 29, Test Loss: 0.1306, Test Accuracy: 99.50%\n",
            "\n"
          ]
        },
        {
          "output_type": "stream",
          "name": "stderr",
          "text": [
            "training: 100%|██████████| 4/4 [00:00<00:00, 262.48it/s]\n"
          ]
        },
        {
          "output_type": "stream",
          "name": "stdout",
          "text": [
            "Epoch 30, Training Loss: 0.0538, Training Accuracy: 99.50%\n"
          ]
        },
        {
          "output_type": "stream",
          "name": "stderr",
          "text": [
            "testing: 100%|██████████| 1/1 [00:00<00:00, 323.19it/s]\n"
          ]
        },
        {
          "output_type": "stream",
          "name": "stdout",
          "text": [
            "Epoch 30, Test Loss: 0.1253, Test Accuracy: 99.50%\n",
            "\n"
          ]
        },
        {
          "output_type": "stream",
          "name": "stderr",
          "text": [
            "training: 100%|██████████| 4/4 [00:00<00:00, 312.16it/s]\n"
          ]
        },
        {
          "output_type": "stream",
          "name": "stdout",
          "text": [
            "Epoch 31, Training Loss: 0.0545, Training Accuracy: 99.50%\n"
          ]
        },
        {
          "output_type": "stream",
          "name": "stderr",
          "text": [
            "testing: 100%|██████████| 1/1 [00:00<00:00, 421.71it/s]\n"
          ]
        },
        {
          "output_type": "stream",
          "name": "stdout",
          "text": [
            "Epoch 31, Test Loss: 0.1213, Test Accuracy: 99.50%\n",
            "\n"
          ]
        },
        {
          "output_type": "stream",
          "name": "stderr",
          "text": [
            "training: 100%|██████████| 4/4 [00:00<00:00, 273.74it/s]\n"
          ]
        },
        {
          "output_type": "stream",
          "name": "stdout",
          "text": [
            "Epoch 32, Training Loss: 0.0534, Training Accuracy: 99.38%\n"
          ]
        },
        {
          "output_type": "stream",
          "name": "stderr",
          "text": [
            "testing: 100%|██████████| 1/1 [00:00<00:00, 400.56it/s]\n"
          ]
        },
        {
          "output_type": "stream",
          "name": "stdout",
          "text": [
            "Epoch 32, Test Loss: 0.1185, Test Accuracy: 99.50%\n",
            "\n"
          ]
        },
        {
          "output_type": "stream",
          "name": "stderr",
          "text": [
            "training: 100%|██████████| 4/4 [00:00<00:00, 301.14it/s]\n"
          ]
        },
        {
          "output_type": "stream",
          "name": "stdout",
          "text": [
            "Epoch 33, Training Loss: 0.0496, Training Accuracy: 99.50%\n"
          ]
        },
        {
          "output_type": "stream",
          "name": "stderr",
          "text": [
            "testing: 100%|██████████| 1/1 [00:00<00:00, 415.40it/s]\n"
          ]
        },
        {
          "output_type": "stream",
          "name": "stdout",
          "text": [
            "Epoch 33, Test Loss: 0.1171, Test Accuracy: 99.50%\n",
            "\n"
          ]
        },
        {
          "output_type": "stream",
          "name": "stderr",
          "text": [
            "training: 100%|██████████| 4/4 [00:00<00:00, 306.03it/s]\n"
          ]
        },
        {
          "output_type": "stream",
          "name": "stdout",
          "text": [
            "Epoch 34, Training Loss: 0.0487, Training Accuracy: 99.50%\n"
          ]
        },
        {
          "output_type": "stream",
          "name": "stderr",
          "text": [
            "testing: 100%|██████████| 1/1 [00:00<00:00, 335.73it/s]\n"
          ]
        },
        {
          "output_type": "stream",
          "name": "stdout",
          "text": [
            "Epoch 34, Test Loss: 0.1133, Test Accuracy: 99.50%\n",
            "\n"
          ]
        },
        {
          "output_type": "stream",
          "name": "stderr",
          "text": [
            "training: 100%|██████████| 4/4 [00:00<00:00, 296.77it/s]\n"
          ]
        },
        {
          "output_type": "stream",
          "name": "stdout",
          "text": [
            "Epoch 35, Training Loss: 0.0410, Training Accuracy: 99.50%\n"
          ]
        },
        {
          "output_type": "stream",
          "name": "stderr",
          "text": [
            "testing: 100%|██████████| 1/1 [00:00<00:00, 319.23it/s]\n"
          ]
        },
        {
          "output_type": "stream",
          "name": "stdout",
          "text": [
            "Epoch 35, Test Loss: 0.1089, Test Accuracy: 99.50%\n",
            "\n"
          ]
        },
        {
          "output_type": "stream",
          "name": "stderr",
          "text": [
            "training: 100%|██████████| 4/4 [00:00<00:00, 303.85it/s]\n"
          ]
        },
        {
          "output_type": "stream",
          "name": "stdout",
          "text": [
            "Epoch 36, Training Loss: 0.0414, Training Accuracy: 99.50%\n"
          ]
        },
        {
          "output_type": "stream",
          "name": "stderr",
          "text": [
            "testing: 100%|██████████| 1/1 [00:00<00:00, 378.21it/s]\n"
          ]
        },
        {
          "output_type": "stream",
          "name": "stdout",
          "text": [
            "Epoch 36, Test Loss: 0.1041, Test Accuracy: 99.50%\n",
            "\n"
          ]
        },
        {
          "output_type": "stream",
          "name": "stderr",
          "text": [
            "training: 100%|██████████| 4/4 [00:00<00:00, 270.26it/s]\n"
          ]
        },
        {
          "output_type": "stream",
          "name": "stdout",
          "text": [
            "Epoch 37, Training Loss: 0.0362, Training Accuracy: 99.50%\n"
          ]
        },
        {
          "output_type": "stream",
          "name": "stderr",
          "text": [
            "testing: 100%|██████████| 1/1 [00:00<00:00, 516.16it/s]\n"
          ]
        },
        {
          "output_type": "stream",
          "name": "stdout",
          "text": [
            "Epoch 37, Test Loss: 0.0994, Test Accuracy: 99.50%\n",
            "\n"
          ]
        },
        {
          "output_type": "stream",
          "name": "stderr",
          "text": [
            "training: 100%|██████████| 4/4 [00:00<00:00, 278.60it/s]\n"
          ]
        },
        {
          "output_type": "stream",
          "name": "stdout",
          "text": [
            "Epoch 38, Training Loss: 0.0371, Training Accuracy: 99.50%\n"
          ]
        },
        {
          "output_type": "stream",
          "name": "stderr",
          "text": [
            "testing: 100%|██████████| 1/1 [00:00<00:00, 422.39it/s]\n"
          ]
        },
        {
          "output_type": "stream",
          "name": "stdout",
          "text": [
            "Epoch 38, Test Loss: 0.0953, Test Accuracy: 99.50%\n",
            "\n"
          ]
        },
        {
          "output_type": "stream",
          "name": "stderr",
          "text": [
            "training: 100%|██████████| 4/4 [00:00<00:00, 333.47it/s]\n"
          ]
        },
        {
          "output_type": "stream",
          "name": "stdout",
          "text": [
            "Epoch 39, Training Loss: 0.0389, Training Accuracy: 99.50%\n"
          ]
        },
        {
          "output_type": "stream",
          "name": "stderr",
          "text": [
            "testing: 100%|██████████| 1/1 [00:00<00:00, 379.13it/s]\n"
          ]
        },
        {
          "output_type": "stream",
          "name": "stdout",
          "text": [
            "Epoch 39, Test Loss: 0.0924, Test Accuracy: 99.50%\n",
            "\n"
          ]
        },
        {
          "output_type": "stream",
          "name": "stderr",
          "text": [
            "training: 100%|██████████| 4/4 [00:00<00:00, 309.66it/s]\n"
          ]
        },
        {
          "output_type": "stream",
          "name": "stdout",
          "text": [
            "Epoch 40, Training Loss: 0.0336, Training Accuracy: 99.50%\n"
          ]
        },
        {
          "output_type": "stream",
          "name": "stderr",
          "text": [
            "testing: 100%|██████████| 1/1 [00:00<00:00, 539.67it/s]\n"
          ]
        },
        {
          "output_type": "stream",
          "name": "stdout",
          "text": [
            "Epoch 40, Test Loss: 0.0900, Test Accuracy: 99.50%\n",
            "\n"
          ]
        },
        {
          "output_type": "stream",
          "name": "stderr",
          "text": [
            "training: 100%|██████████| 4/4 [00:00<00:00, 282.64it/s]\n"
          ]
        },
        {
          "output_type": "stream",
          "name": "stdout",
          "text": [
            "Epoch 41, Training Loss: 0.0301, Training Accuracy: 99.50%\n"
          ]
        },
        {
          "output_type": "stream",
          "name": "stderr",
          "text": [
            "testing: 100%|██████████| 1/1 [00:00<00:00, 387.18it/s]\n"
          ]
        },
        {
          "output_type": "stream",
          "name": "stdout",
          "text": [
            "Epoch 41, Test Loss: 0.0884, Test Accuracy: 99.50%\n",
            "\n"
          ]
        },
        {
          "output_type": "stream",
          "name": "stderr",
          "text": [
            "training: 100%|██████████| 4/4 [00:00<00:00, 284.33it/s]\n"
          ]
        },
        {
          "output_type": "stream",
          "name": "stdout",
          "text": [
            "Epoch 42, Training Loss: 0.0336, Training Accuracy: 99.50%\n"
          ]
        },
        {
          "output_type": "stream",
          "name": "stderr",
          "text": [
            "testing: 100%|██████████| 1/1 [00:00<00:00, 566.19it/s]\n"
          ]
        },
        {
          "output_type": "stream",
          "name": "stdout",
          "text": [
            "Epoch 42, Test Loss: 0.0869, Test Accuracy: 99.50%\n",
            "\n"
          ]
        },
        {
          "output_type": "stream",
          "name": "stderr",
          "text": [
            "training: 100%|██████████| 4/4 [00:00<00:00, 308.61it/s]\n"
          ]
        },
        {
          "output_type": "stream",
          "name": "stdout",
          "text": [
            "Epoch 43, Training Loss: 0.0314, Training Accuracy: 99.50%\n"
          ]
        },
        {
          "output_type": "stream",
          "name": "stderr",
          "text": [
            "testing: 100%|██████████| 1/1 [00:00<00:00, 352.52it/s]\n"
          ]
        },
        {
          "output_type": "stream",
          "name": "stdout",
          "text": [
            "Epoch 43, Test Loss: 0.0852, Test Accuracy: 99.50%\n",
            "\n"
          ]
        },
        {
          "output_type": "stream",
          "name": "stderr",
          "text": [
            "training: 100%|██████████| 4/4 [00:00<00:00, 229.57it/s]\n"
          ]
        },
        {
          "output_type": "stream",
          "name": "stdout",
          "text": [
            "Epoch 44, Training Loss: 0.0271, Training Accuracy: 99.62%\n"
          ]
        },
        {
          "output_type": "stream",
          "name": "stderr",
          "text": [
            "testing: 100%|██████████| 1/1 [00:00<00:00, 338.28it/s]\n"
          ]
        },
        {
          "output_type": "stream",
          "name": "stdout",
          "text": [
            "Epoch 44, Test Loss: 0.0834, Test Accuracy: 99.50%\n",
            "\n"
          ]
        },
        {
          "output_type": "stream",
          "name": "stderr",
          "text": [
            "training: 100%|██████████| 4/4 [00:00<00:00, 253.71it/s]\n"
          ]
        },
        {
          "output_type": "stream",
          "name": "stdout",
          "text": [
            "Epoch 45, Training Loss: 0.0252, Training Accuracy: 99.62%\n"
          ]
        },
        {
          "output_type": "stream",
          "name": "stderr",
          "text": [
            "testing: 100%|██████████| 1/1 [00:00<00:00, 401.98it/s]\n"
          ]
        },
        {
          "output_type": "stream",
          "name": "stdout",
          "text": [
            "Epoch 45, Test Loss: 0.0821, Test Accuracy: 99.50%\n",
            "\n"
          ]
        },
        {
          "output_type": "stream",
          "name": "stderr",
          "text": [
            "training: 100%|██████████| 4/4 [00:00<00:00, 300.27it/s]\n"
          ]
        },
        {
          "output_type": "stream",
          "name": "stdout",
          "text": [
            "Epoch 46, Training Loss: 0.0250, Training Accuracy: 99.75%\n"
          ]
        },
        {
          "output_type": "stream",
          "name": "stderr",
          "text": [
            "testing: 100%|██████████| 1/1 [00:00<00:00, 319.66it/s]\n"
          ]
        },
        {
          "output_type": "stream",
          "name": "stdout",
          "text": [
            "Epoch 46, Test Loss: 0.0807, Test Accuracy: 99.50%\n",
            "\n"
          ]
        },
        {
          "output_type": "stream",
          "name": "stderr",
          "text": [
            "training: 100%|██████████| 4/4 [00:00<00:00, 272.86it/s]\n"
          ]
        },
        {
          "output_type": "stream",
          "name": "stdout",
          "text": [
            "Epoch 47, Training Loss: 0.0244, Training Accuracy: 99.75%\n"
          ]
        },
        {
          "output_type": "stream",
          "name": "stderr",
          "text": [
            "testing: 100%|██████████| 1/1 [00:00<00:00, 429.04it/s]"
          ]
        },
        {
          "output_type": "stream",
          "name": "stdout",
          "text": [
            "Epoch 47, Test Loss: 0.0797, Test Accuracy: 100.00%\n",
            "\n"
          ]
        },
        {
          "output_type": "stream",
          "name": "stderr",
          "text": [
            "\n",
            "training: 100%|██████████| 4/4 [00:00<00:00, 279.03it/s]\n"
          ]
        },
        {
          "output_type": "stream",
          "name": "stdout",
          "text": [
            "Epoch 48, Training Loss: 0.0236, Training Accuracy: 99.75%\n"
          ]
        },
        {
          "output_type": "stream",
          "name": "stderr",
          "text": [
            "testing: 100%|██████████| 1/1 [00:00<00:00, 307.57it/s]\n"
          ]
        },
        {
          "output_type": "stream",
          "name": "stdout",
          "text": [
            "Epoch 48, Test Loss: 0.0789, Test Accuracy: 100.00%\n",
            "\n"
          ]
        },
        {
          "output_type": "stream",
          "name": "stderr",
          "text": [
            "training: 100%|██████████| 4/4 [00:00<00:00, 319.95it/s]\n"
          ]
        },
        {
          "output_type": "stream",
          "name": "stdout",
          "text": [
            "Epoch 49, Training Loss: 0.0242, Training Accuracy: 99.88%\n"
          ]
        },
        {
          "output_type": "stream",
          "name": "stderr",
          "text": [
            "testing: 100%|██████████| 1/1 [00:00<00:00, 391.63it/s]\n"
          ]
        },
        {
          "output_type": "stream",
          "name": "stdout",
          "text": [
            "Epoch 49, Test Loss: 0.0776, Test Accuracy: 97.50%\n",
            "\n"
          ]
        },
        {
          "output_type": "stream",
          "name": "stderr",
          "text": [
            "training: 100%|██████████| 4/4 [00:00<00:00, 291.46it/s]\n"
          ]
        },
        {
          "output_type": "stream",
          "name": "stdout",
          "text": [
            "Epoch 50, Training Loss: 0.0288, Training Accuracy: 99.88%\n"
          ]
        },
        {
          "output_type": "stream",
          "name": "stderr",
          "text": [
            "testing: 100%|██████████| 1/1 [00:00<00:00, 320.67it/s]\n"
          ]
        },
        {
          "output_type": "stream",
          "name": "stdout",
          "text": [
            "Epoch 50, Test Loss: 0.0782, Test Accuracy: 97.50%\n",
            "\n"
          ]
        },
        {
          "output_type": "stream",
          "name": "stderr",
          "text": [
            "training: 100%|██████████| 4/4 [00:00<00:00, 254.25it/s]\n"
          ]
        },
        {
          "output_type": "stream",
          "name": "stdout",
          "text": [
            "Epoch 51, Training Loss: 0.0206, Training Accuracy: 100.00%\n"
          ]
        },
        {
          "output_type": "stream",
          "name": "stderr",
          "text": [
            "testing: 100%|██████████| 1/1 [00:00<00:00, 306.20it/s]\n"
          ]
        },
        {
          "output_type": "stream",
          "name": "stdout",
          "text": [
            "Epoch 51, Test Loss: 0.0812, Test Accuracy: 97.50%\n",
            "\n"
          ]
        },
        {
          "output_type": "stream",
          "name": "stderr",
          "text": [
            "training: 100%|██████████| 4/4 [00:00<00:00, 303.93it/s]\n"
          ]
        },
        {
          "output_type": "stream",
          "name": "stdout",
          "text": [
            "Epoch 52, Training Loss: 0.0212, Training Accuracy: 100.00%\n"
          ]
        },
        {
          "output_type": "stream",
          "name": "stderr",
          "text": [
            "testing: 100%|██████████| 1/1 [00:00<00:00, 293.27it/s]\n"
          ]
        },
        {
          "output_type": "stream",
          "name": "stdout",
          "text": [
            "Epoch 52, Test Loss: 0.0824, Test Accuracy: 97.50%\n",
            "\n"
          ]
        },
        {
          "output_type": "stream",
          "name": "stderr",
          "text": [
            "training: 100%|██████████| 4/4 [00:00<00:00, 278.93it/s]\n"
          ]
        },
        {
          "output_type": "stream",
          "name": "stdout",
          "text": [
            "Epoch 53, Training Loss: 0.0196, Training Accuracy: 100.00%\n"
          ]
        },
        {
          "output_type": "stream",
          "name": "stderr",
          "text": [
            "testing: 100%|██████████| 1/1 [00:00<00:00, 376.81it/s]\n"
          ]
        },
        {
          "output_type": "stream",
          "name": "stdout",
          "text": [
            "Epoch 53, Test Loss: 0.0811, Test Accuracy: 97.50%\n",
            "\n"
          ]
        },
        {
          "output_type": "stream",
          "name": "stderr",
          "text": [
            "training: 100%|██████████| 4/4 [00:00<00:00, 263.22it/s]\n"
          ]
        },
        {
          "output_type": "stream",
          "name": "stdout",
          "text": [
            "Epoch 54, Training Loss: 0.0197, Training Accuracy: 100.00%\n"
          ]
        },
        {
          "output_type": "stream",
          "name": "stderr",
          "text": [
            "testing: 100%|██████████| 1/1 [00:00<00:00, 427.60it/s]\n"
          ]
        },
        {
          "output_type": "stream",
          "name": "stdout",
          "text": [
            "Epoch 54, Test Loss: 0.0785, Test Accuracy: 97.50%\n",
            "\n"
          ]
        },
        {
          "output_type": "stream",
          "name": "stderr",
          "text": [
            "training: 100%|██████████| 4/4 [00:00<00:00, 333.20it/s]\n"
          ]
        },
        {
          "output_type": "stream",
          "name": "stdout",
          "text": [
            "Epoch 55, Training Loss: 0.0189, Training Accuracy: 100.00%\n"
          ]
        },
        {
          "output_type": "stream",
          "name": "stderr",
          "text": [
            "testing: 100%|██████████| 1/1 [00:00<00:00, 399.50it/s]\n"
          ]
        },
        {
          "output_type": "stream",
          "name": "stdout",
          "text": [
            "Epoch 55, Test Loss: 0.0756, Test Accuracy: 97.50%\n",
            "\n"
          ]
        },
        {
          "output_type": "stream",
          "name": "stderr",
          "text": [
            "training: 100%|██████████| 4/4 [00:00<00:00, 254.67it/s]\n"
          ]
        },
        {
          "output_type": "stream",
          "name": "stdout",
          "text": [
            "Epoch 56, Training Loss: 0.0167, Training Accuracy: 100.00%\n"
          ]
        },
        {
          "output_type": "stream",
          "name": "stderr",
          "text": [
            "testing: 100%|██████████| 1/1 [00:00<00:00, 314.37it/s]\n"
          ]
        },
        {
          "output_type": "stream",
          "name": "stdout",
          "text": [
            "Epoch 56, Test Loss: 0.0739, Test Accuracy: 97.50%\n",
            "\n"
          ]
        },
        {
          "output_type": "stream",
          "name": "stderr",
          "text": [
            "training: 100%|██████████| 4/4 [00:00<00:00, 266.78it/s]\n"
          ]
        },
        {
          "output_type": "stream",
          "name": "stdout",
          "text": [
            "Epoch 57, Training Loss: 0.0215, Training Accuracy: 100.00%\n"
          ]
        },
        {
          "output_type": "stream",
          "name": "stderr",
          "text": [
            "testing: 100%|██████████| 1/1 [00:00<00:00, 401.10it/s]\n"
          ]
        },
        {
          "output_type": "stream",
          "name": "stdout",
          "text": [
            "Epoch 57, Test Loss: 0.0743, Test Accuracy: 97.50%\n",
            "\n"
          ]
        },
        {
          "output_type": "stream",
          "name": "stderr",
          "text": [
            "training: 100%|██████████| 4/4 [00:00<00:00, 298.98it/s]\n"
          ]
        },
        {
          "output_type": "stream",
          "name": "stdout",
          "text": [
            "Epoch 58, Training Loss: 0.0168, Training Accuracy: 100.00%\n"
          ]
        },
        {
          "output_type": "stream",
          "name": "stderr",
          "text": [
            "testing: 100%|██████████| 1/1 [00:00<00:00, 527.98it/s]\n"
          ]
        },
        {
          "output_type": "stream",
          "name": "stdout",
          "text": [
            "Epoch 58, Test Loss: 0.0787, Test Accuracy: 97.50%\n",
            "\n"
          ]
        },
        {
          "output_type": "stream",
          "name": "stderr",
          "text": [
            "training: 100%|██████████| 4/4 [00:00<00:00, 286.50it/s]\n"
          ]
        },
        {
          "output_type": "stream",
          "name": "stdout",
          "text": [
            "Epoch 59, Training Loss: 0.0168, Training Accuracy: 100.00%\n"
          ]
        },
        {
          "output_type": "stream",
          "name": "stderr",
          "text": [
            "testing: 100%|██████████| 1/1 [00:00<00:00, 324.31it/s]\n"
          ]
        },
        {
          "output_type": "stream",
          "name": "stdout",
          "text": [
            "Epoch 59, Test Loss: 0.0801, Test Accuracy: 97.50%\n",
            "\n"
          ]
        },
        {
          "output_type": "stream",
          "name": "stderr",
          "text": [
            "training: 100%|██████████| 4/4 [00:00<00:00, 291.62it/s]\n"
          ]
        },
        {
          "output_type": "stream",
          "name": "stdout",
          "text": [
            "Epoch 60, Training Loss: 0.0174, Training Accuracy: 100.00%\n"
          ]
        },
        {
          "output_type": "stream",
          "name": "stderr",
          "text": [
            "testing: 100%|██████████| 1/1 [00:00<00:00, 354.55it/s]\n"
          ]
        },
        {
          "output_type": "stream",
          "name": "stdout",
          "text": [
            "Epoch 60, Test Loss: 0.0797, Test Accuracy: 97.50%\n",
            "\n"
          ]
        },
        {
          "output_type": "stream",
          "name": "stderr",
          "text": [
            "training: 100%|██████████| 4/4 [00:00<00:00, 311.03it/s]\n"
          ]
        },
        {
          "output_type": "stream",
          "name": "stdout",
          "text": [
            "Epoch 61, Training Loss: 0.0154, Training Accuracy: 100.00%\n"
          ]
        },
        {
          "output_type": "stream",
          "name": "stderr",
          "text": [
            "testing: 100%|██████████| 1/1 [00:00<00:00, 337.65it/s]\n"
          ]
        },
        {
          "output_type": "stream",
          "name": "stdout",
          "text": [
            "Epoch 61, Test Loss: 0.0782, Test Accuracy: 97.50%\n",
            "\n"
          ]
        },
        {
          "output_type": "stream",
          "name": "stderr",
          "text": [
            "training: 100%|██████████| 4/4 [00:00<00:00, 292.27it/s]\n"
          ]
        },
        {
          "output_type": "stream",
          "name": "stdout",
          "text": [
            "Epoch 62, Training Loss: 0.0133, Training Accuracy: 100.00%\n"
          ]
        },
        {
          "output_type": "stream",
          "name": "stderr",
          "text": [
            "testing: 100%|██████████| 1/1 [00:00<00:00, 375.40it/s]\n"
          ]
        },
        {
          "output_type": "stream",
          "name": "stdout",
          "text": [
            "Epoch 62, Test Loss: 0.0766, Test Accuracy: 97.50%\n",
            "\n"
          ]
        },
        {
          "output_type": "stream",
          "name": "stderr",
          "text": [
            "training: 100%|██████████| 4/4 [00:00<00:00, 276.56it/s]\n"
          ]
        },
        {
          "output_type": "stream",
          "name": "stdout",
          "text": [
            "Epoch 63, Training Loss: 0.0150, Training Accuracy: 100.00%\n"
          ]
        },
        {
          "output_type": "stream",
          "name": "stderr",
          "text": [
            "testing: 100%|██████████| 1/1 [00:00<00:00, 325.39it/s]\n"
          ]
        },
        {
          "output_type": "stream",
          "name": "stdout",
          "text": [
            "Epoch 63, Test Loss: 0.0746, Test Accuracy: 97.50%\n",
            "\n"
          ]
        },
        {
          "output_type": "stream",
          "name": "stderr",
          "text": [
            "training: 100%|██████████| 4/4 [00:00<00:00, 271.02it/s]\n"
          ]
        },
        {
          "output_type": "stream",
          "name": "stdout",
          "text": [
            "Epoch 64, Training Loss: 0.0155, Training Accuracy: 100.00%\n"
          ]
        },
        {
          "output_type": "stream",
          "name": "stderr",
          "text": [
            "testing: 100%|██████████| 1/1 [00:00<00:00, 389.30it/s]\n"
          ]
        },
        {
          "output_type": "stream",
          "name": "stdout",
          "text": [
            "Epoch 64, Test Loss: 0.0706, Test Accuracy: 97.50%\n",
            "\n"
          ]
        },
        {
          "output_type": "stream",
          "name": "stderr",
          "text": [
            "training: 100%|██████████| 4/4 [00:00<00:00, 280.82it/s]\n"
          ]
        },
        {
          "output_type": "stream",
          "name": "stdout",
          "text": [
            "Epoch 65, Training Loss: 0.0155, Training Accuracy: 100.00%\n"
          ]
        },
        {
          "output_type": "stream",
          "name": "stderr",
          "text": [
            "testing: 100%|██████████| 1/1 [00:00<00:00, 355.75it/s]\n"
          ]
        },
        {
          "output_type": "stream",
          "name": "stdout",
          "text": [
            "Epoch 65, Test Loss: 0.0673, Test Accuracy: 97.50%\n",
            "\n"
          ]
        },
        {
          "output_type": "stream",
          "name": "stderr",
          "text": [
            "training: 100%|██████████| 4/4 [00:00<00:00, 285.84it/s]\n"
          ]
        },
        {
          "output_type": "stream",
          "name": "stdout",
          "text": [
            "Epoch 66, Training Loss: 0.0128, Training Accuracy: 100.00%\n"
          ]
        },
        {
          "output_type": "stream",
          "name": "stderr",
          "text": [
            "testing: 100%|██████████| 1/1 [00:00<00:00, 431.16it/s]\n"
          ]
        },
        {
          "output_type": "stream",
          "name": "stdout",
          "text": [
            "Epoch 66, Test Loss: 0.0665, Test Accuracy: 97.50%\n",
            "\n"
          ]
        },
        {
          "output_type": "stream",
          "name": "stderr",
          "text": [
            "training: 100%|██████████| 4/4 [00:00<00:00, 294.25it/s]\n"
          ]
        },
        {
          "output_type": "stream",
          "name": "stdout",
          "text": [
            "Epoch 67, Training Loss: 0.0165, Training Accuracy: 100.00%\n"
          ]
        },
        {
          "output_type": "stream",
          "name": "stderr",
          "text": [
            "testing: 100%|██████████| 1/1 [00:00<00:00, 404.74it/s]\n"
          ]
        },
        {
          "output_type": "stream",
          "name": "stdout",
          "text": [
            "Epoch 67, Test Loss: 0.0671, Test Accuracy: 97.50%\n",
            "\n"
          ]
        },
        {
          "output_type": "stream",
          "name": "stderr",
          "text": [
            "training: 100%|██████████| 4/4 [00:00<00:00, 299.84it/s]\n"
          ]
        },
        {
          "output_type": "stream",
          "name": "stdout",
          "text": [
            "Epoch 68, Training Loss: 0.0112, Training Accuracy: 100.00%\n"
          ]
        },
        {
          "output_type": "stream",
          "name": "stderr",
          "text": [
            "testing: 100%|██████████| 1/1 [00:00<00:00, 367.50it/s]\n"
          ]
        },
        {
          "output_type": "stream",
          "name": "stdout",
          "text": [
            "Epoch 68, Test Loss: 0.0671, Test Accuracy: 97.50%\n",
            "\n"
          ]
        },
        {
          "output_type": "stream",
          "name": "stderr",
          "text": [
            "training: 100%|██████████| 4/4 [00:00<00:00, 295.57it/s]\n"
          ]
        },
        {
          "output_type": "stream",
          "name": "stdout",
          "text": [
            "Epoch 69, Training Loss: 0.0138, Training Accuracy: 100.00%\n"
          ]
        },
        {
          "output_type": "stream",
          "name": "stderr",
          "text": [
            "testing: 100%|██████████| 1/1 [00:00<00:00, 448.06it/s]\n"
          ]
        },
        {
          "output_type": "stream",
          "name": "stdout",
          "text": [
            "Epoch 69, Test Loss: 0.0675, Test Accuracy: 97.50%\n",
            "\n"
          ]
        },
        {
          "output_type": "stream",
          "name": "stderr",
          "text": [
            "training: 100%|██████████| 4/4 [00:00<00:00, 307.35it/s]\n"
          ]
        },
        {
          "output_type": "stream",
          "name": "stdout",
          "text": [
            "Epoch 70, Training Loss: 0.0112, Training Accuracy: 100.00%\n"
          ]
        },
        {
          "output_type": "stream",
          "name": "stderr",
          "text": [
            "testing: 100%|██████████| 1/1 [00:00<00:00, 332.04it/s]\n"
          ]
        },
        {
          "output_type": "stream",
          "name": "stdout",
          "text": [
            "Epoch 70, Test Loss: 0.0667, Test Accuracy: 97.50%\n",
            "\n"
          ]
        },
        {
          "output_type": "stream",
          "name": "stderr",
          "text": [
            "training: 100%|██████████| 4/4 [00:00<00:00, 292.00it/s]\n"
          ]
        },
        {
          "output_type": "stream",
          "name": "stdout",
          "text": [
            "Epoch 71, Training Loss: 0.0114, Training Accuracy: 100.00%\n"
          ]
        },
        {
          "output_type": "stream",
          "name": "stderr",
          "text": [
            "testing: 100%|██████████| 1/1 [00:00<00:00, 370.29it/s]\n"
          ]
        },
        {
          "output_type": "stream",
          "name": "stdout",
          "text": [
            "Epoch 71, Test Loss: 0.0671, Test Accuracy: 97.50%\n",
            "\n"
          ]
        },
        {
          "output_type": "stream",
          "name": "stderr",
          "text": [
            "training: 100%|██████████| 4/4 [00:00<00:00, 261.66it/s]\n"
          ]
        },
        {
          "output_type": "stream",
          "name": "stdout",
          "text": [
            "Epoch 72, Training Loss: 0.0119, Training Accuracy: 100.00%\n"
          ]
        },
        {
          "output_type": "stream",
          "name": "stderr",
          "text": [
            "testing: 100%|██████████| 1/1 [00:00<00:00, 333.65it/s]\n"
          ]
        },
        {
          "output_type": "stream",
          "name": "stdout",
          "text": [
            "Epoch 72, Test Loss: 0.0681, Test Accuracy: 97.50%\n",
            "\n"
          ]
        },
        {
          "output_type": "stream",
          "name": "stderr",
          "text": [
            "training: 100%|██████████| 4/4 [00:00<00:00, 265.45it/s]\n"
          ]
        },
        {
          "output_type": "stream",
          "name": "stdout",
          "text": [
            "Epoch 73, Training Loss: 0.0143, Training Accuracy: 100.00%\n"
          ]
        },
        {
          "output_type": "stream",
          "name": "stderr",
          "text": [
            "testing: 100%|██████████| 1/1 [00:00<00:00, 353.71it/s]\n"
          ]
        },
        {
          "output_type": "stream",
          "name": "stdout",
          "text": [
            "Epoch 73, Test Loss: 0.0665, Test Accuracy: 97.50%\n",
            "\n"
          ]
        },
        {
          "output_type": "stream",
          "name": "stderr",
          "text": [
            "training: 100%|██████████| 4/4 [00:00<00:00, 282.54it/s]\n"
          ]
        },
        {
          "output_type": "stream",
          "name": "stdout",
          "text": [
            "Epoch 74, Training Loss: 0.0100, Training Accuracy: 100.00%\n"
          ]
        },
        {
          "output_type": "stream",
          "name": "stderr",
          "text": [
            "testing: 100%|██████████| 1/1 [00:00<00:00, 315.05it/s]\n"
          ]
        },
        {
          "output_type": "stream",
          "name": "stdout",
          "text": [
            "Epoch 74, Test Loss: 0.0646, Test Accuracy: 97.50%\n",
            "\n"
          ]
        },
        {
          "output_type": "stream",
          "name": "stderr",
          "text": [
            "training: 100%|██████████| 4/4 [00:00<00:00, 270.75it/s]\n"
          ]
        },
        {
          "output_type": "stream",
          "name": "stdout",
          "text": [
            "Epoch 75, Training Loss: 0.0111, Training Accuracy: 100.00%\n"
          ]
        },
        {
          "output_type": "stream",
          "name": "stderr",
          "text": [
            "testing: 100%|██████████| 1/1 [00:00<00:00, 338.44it/s]\n"
          ]
        },
        {
          "output_type": "stream",
          "name": "stdout",
          "text": [
            "Epoch 75, Test Loss: 0.0646, Test Accuracy: 97.50%\n",
            "\n"
          ]
        },
        {
          "output_type": "stream",
          "name": "stderr",
          "text": [
            "training: 100%|██████████| 4/4 [00:00<00:00, 302.63it/s]\n"
          ]
        },
        {
          "output_type": "stream",
          "name": "stdout",
          "text": [
            "Epoch 76, Training Loss: 0.0109, Training Accuracy: 100.00%\n"
          ]
        },
        {
          "output_type": "stream",
          "name": "stderr",
          "text": [
            "testing: 100%|██████████| 1/1 [00:00<00:00, 231.55it/s]\n"
          ]
        },
        {
          "output_type": "stream",
          "name": "stdout",
          "text": [
            "Epoch 76, Test Loss: 0.0651, Test Accuracy: 97.50%\n",
            "\n"
          ]
        },
        {
          "output_type": "stream",
          "name": "stderr",
          "text": [
            "training: 100%|██████████| 4/4 [00:00<00:00, 233.38it/s]\n"
          ]
        },
        {
          "output_type": "stream",
          "name": "stdout",
          "text": [
            "Epoch 77, Training Loss: 0.0099, Training Accuracy: 100.00%\n"
          ]
        },
        {
          "output_type": "stream",
          "name": "stderr",
          "text": [
            "testing: 100%|██████████| 1/1 [00:00<00:00, 313.66it/s]\n"
          ]
        },
        {
          "output_type": "stream",
          "name": "stdout",
          "text": [
            "Epoch 77, Test Loss: 0.0658, Test Accuracy: 97.50%\n",
            "\n"
          ]
        },
        {
          "output_type": "stream",
          "name": "stderr",
          "text": [
            "training: 100%|██████████| 4/4 [00:00<00:00, 294.47it/s]\n"
          ]
        },
        {
          "output_type": "stream",
          "name": "stdout",
          "text": [
            "Epoch 78, Training Loss: 0.0091, Training Accuracy: 100.00%\n"
          ]
        },
        {
          "output_type": "stream",
          "name": "stderr",
          "text": [
            "testing: 100%|██████████| 1/1 [00:00<00:00, 293.47it/s]\n"
          ]
        },
        {
          "output_type": "stream",
          "name": "stdout",
          "text": [
            "Epoch 78, Test Loss: 0.0654, Test Accuracy: 97.50%\n",
            "\n"
          ]
        },
        {
          "output_type": "stream",
          "name": "stderr",
          "text": [
            "training: 100%|██████████| 4/4 [00:00<00:00, 273.78it/s]\n"
          ]
        },
        {
          "output_type": "stream",
          "name": "stdout",
          "text": [
            "Epoch 79, Training Loss: 0.0086, Training Accuracy: 100.00%\n"
          ]
        },
        {
          "output_type": "stream",
          "name": "stderr",
          "text": [
            "testing: 100%|██████████| 1/1 [00:00<00:00, 321.50it/s]\n"
          ]
        },
        {
          "output_type": "stream",
          "name": "stdout",
          "text": [
            "Epoch 79, Test Loss: 0.0664, Test Accuracy: 97.50%\n",
            "\n"
          ]
        },
        {
          "output_type": "stream",
          "name": "stderr",
          "text": [
            "training: 100%|██████████| 4/4 [00:00<00:00, 270.35it/s]\n"
          ]
        },
        {
          "output_type": "stream",
          "name": "stdout",
          "text": [
            "Epoch 80, Training Loss: 0.0088, Training Accuracy: 100.00%\n"
          ]
        },
        {
          "output_type": "stream",
          "name": "stderr",
          "text": [
            "testing: 100%|██████████| 1/1 [00:00<00:00, 332.22it/s]\n"
          ]
        },
        {
          "output_type": "stream",
          "name": "stdout",
          "text": [
            "Epoch 80, Test Loss: 0.0675, Test Accuracy: 97.50%\n",
            "\n"
          ]
        },
        {
          "output_type": "stream",
          "name": "stderr",
          "text": [
            "training: 100%|██████████| 4/4 [00:00<00:00, 293.89it/s]\n"
          ]
        },
        {
          "output_type": "stream",
          "name": "stdout",
          "text": [
            "Epoch 81, Training Loss: 0.0094, Training Accuracy: 100.00%\n"
          ]
        },
        {
          "output_type": "stream",
          "name": "stderr",
          "text": [
            "testing: 100%|██████████| 1/1 [00:00<00:00, 340.45it/s]\n"
          ]
        },
        {
          "output_type": "stream",
          "name": "stdout",
          "text": [
            "Epoch 81, Test Loss: 0.0688, Test Accuracy: 97.50%\n",
            "\n"
          ]
        },
        {
          "output_type": "stream",
          "name": "stderr",
          "text": [
            "training: 100%|██████████| 4/4 [00:00<00:00, 284.66it/s]\n"
          ]
        },
        {
          "output_type": "stream",
          "name": "stdout",
          "text": [
            "Epoch 82, Training Loss: 0.0078, Training Accuracy: 100.00%\n"
          ]
        },
        {
          "output_type": "stream",
          "name": "stderr",
          "text": [
            "testing: 100%|██████████| 1/1 [00:00<00:00, 374.29it/s]\n"
          ]
        },
        {
          "output_type": "stream",
          "name": "stdout",
          "text": [
            "Epoch 82, Test Loss: 0.0717, Test Accuracy: 97.50%\n",
            "\n"
          ]
        },
        {
          "output_type": "stream",
          "name": "stderr",
          "text": [
            "training: 100%|██████████| 4/4 [00:00<00:00, 272.61it/s]\n"
          ]
        },
        {
          "output_type": "stream",
          "name": "stdout",
          "text": [
            "Epoch 83, Training Loss: 0.0088, Training Accuracy: 100.00%\n"
          ]
        },
        {
          "output_type": "stream",
          "name": "stderr",
          "text": [
            "testing: 100%|██████████| 1/1 [00:00<00:00, 358.06it/s]"
          ]
        },
        {
          "output_type": "stream",
          "name": "stdout",
          "text": [
            "Epoch 83, Test Loss: 0.0728, Test Accuracy: 97.50%\n",
            "\n"
          ]
        },
        {
          "output_type": "stream",
          "name": "stderr",
          "text": [
            "\n",
            "training: 100%|██████████| 4/4 [00:00<00:00, 304.22it/s]\n"
          ]
        },
        {
          "output_type": "stream",
          "name": "stdout",
          "text": [
            "Epoch 84, Training Loss: 0.0086, Training Accuracy: 100.00%\n"
          ]
        },
        {
          "output_type": "stream",
          "name": "stderr",
          "text": [
            "testing: 100%|██████████| 1/1 [00:00<00:00, 369.77it/s]\n"
          ]
        },
        {
          "output_type": "stream",
          "name": "stdout",
          "text": [
            "Epoch 84, Test Loss: 0.0710, Test Accuracy: 97.50%\n",
            "\n"
          ]
        },
        {
          "output_type": "stream",
          "name": "stderr",
          "text": [
            "training: 100%|██████████| 4/4 [00:00<00:00, 266.94it/s]\n"
          ]
        },
        {
          "output_type": "stream",
          "name": "stdout",
          "text": [
            "Epoch 85, Training Loss: 0.0070, Training Accuracy: 100.00%\n"
          ]
        },
        {
          "output_type": "stream",
          "name": "stderr",
          "text": [
            "testing: 100%|██████████| 1/1 [00:00<00:00, 310.00it/s]\n"
          ]
        },
        {
          "output_type": "stream",
          "name": "stdout",
          "text": [
            "Epoch 85, Test Loss: 0.0693, Test Accuracy: 97.50%\n",
            "\n"
          ]
        },
        {
          "output_type": "stream",
          "name": "stderr",
          "text": [
            "training: 100%|██████████| 4/4 [00:00<00:00, 271.90it/s]\n"
          ]
        },
        {
          "output_type": "stream",
          "name": "stdout",
          "text": [
            "Epoch 86, Training Loss: 0.0079, Training Accuracy: 100.00%\n"
          ]
        },
        {
          "output_type": "stream",
          "name": "stderr",
          "text": [
            "testing: 100%|██████████| 1/1 [00:00<00:00, 370.88it/s]\n"
          ]
        },
        {
          "output_type": "stream",
          "name": "stdout",
          "text": [
            "Epoch 86, Test Loss: 0.0681, Test Accuracy: 97.50%\n",
            "\n"
          ]
        },
        {
          "output_type": "stream",
          "name": "stderr",
          "text": [
            "training: 100%|██████████| 4/4 [00:00<00:00, 260.67it/s]\n"
          ]
        },
        {
          "output_type": "stream",
          "name": "stdout",
          "text": [
            "Epoch 87, Training Loss: 0.0067, Training Accuracy: 100.00%\n"
          ]
        },
        {
          "output_type": "stream",
          "name": "stderr",
          "text": [
            "testing: 100%|██████████| 1/1 [00:00<00:00, 493.62it/s]\n"
          ]
        },
        {
          "output_type": "stream",
          "name": "stdout",
          "text": [
            "Epoch 87, Test Loss: 0.0683, Test Accuracy: 97.50%\n",
            "\n"
          ]
        },
        {
          "output_type": "stream",
          "name": "stderr",
          "text": [
            "training: 100%|██████████| 4/4 [00:00<00:00, 268.02it/s]\n"
          ]
        },
        {
          "output_type": "stream",
          "name": "stdout",
          "text": [
            "Epoch 88, Training Loss: 0.0072, Training Accuracy: 100.00%\n"
          ]
        },
        {
          "output_type": "stream",
          "name": "stderr",
          "text": [
            "testing: 100%|██████████| 1/1 [00:00<00:00, 482.66it/s]\n"
          ]
        },
        {
          "output_type": "stream",
          "name": "stdout",
          "text": [
            "Epoch 88, Test Loss: 0.0689, Test Accuracy: 97.50%\n",
            "\n"
          ]
        },
        {
          "output_type": "stream",
          "name": "stderr",
          "text": [
            "training: 100%|██████████| 4/4 [00:00<00:00, 267.16it/s]\n"
          ]
        },
        {
          "output_type": "stream",
          "name": "stdout",
          "text": [
            "Epoch 89, Training Loss: 0.0064, Training Accuracy: 100.00%\n"
          ]
        },
        {
          "output_type": "stream",
          "name": "stderr",
          "text": [
            "testing: 100%|██████████| 1/1 [00:00<00:00, 388.54it/s]\n"
          ]
        },
        {
          "output_type": "stream",
          "name": "stdout",
          "text": [
            "Epoch 89, Test Loss: 0.0692, Test Accuracy: 97.50%\n",
            "\n"
          ]
        },
        {
          "output_type": "stream",
          "name": "stderr",
          "text": [
            "training: 100%|██████████| 4/4 [00:00<00:00, 264.74it/s]\n"
          ]
        },
        {
          "output_type": "stream",
          "name": "stdout",
          "text": [
            "Epoch 90, Training Loss: 0.0067, Training Accuracy: 100.00%\n"
          ]
        },
        {
          "output_type": "stream",
          "name": "stderr",
          "text": [
            "testing: 100%|██████████| 1/1 [00:00<00:00, 356.75it/s]\n"
          ]
        },
        {
          "output_type": "stream",
          "name": "stdout",
          "text": [
            "Epoch 90, Test Loss: 0.0686, Test Accuracy: 97.50%\n",
            "\n"
          ]
        },
        {
          "output_type": "stream",
          "name": "stderr",
          "text": [
            "training: 100%|██████████| 4/4 [00:00<00:00, 250.36it/s]\n"
          ]
        },
        {
          "output_type": "stream",
          "name": "stdout",
          "text": [
            "Epoch 91, Training Loss: 0.0066, Training Accuracy: 100.00%\n"
          ]
        },
        {
          "output_type": "stream",
          "name": "stderr",
          "text": [
            "testing: 100%|██████████| 1/1 [00:00<00:00, 387.29it/s]\n"
          ]
        },
        {
          "output_type": "stream",
          "name": "stdout",
          "text": [
            "Epoch 91, Test Loss: 0.0681, Test Accuracy: 97.50%\n",
            "\n"
          ]
        },
        {
          "output_type": "stream",
          "name": "stderr",
          "text": [
            "training: 100%|██████████| 4/4 [00:00<00:00, 279.90it/s]\n"
          ]
        },
        {
          "output_type": "stream",
          "name": "stdout",
          "text": [
            "Epoch 92, Training Loss: 0.0075, Training Accuracy: 100.00%\n"
          ]
        },
        {
          "output_type": "stream",
          "name": "stderr",
          "text": [
            "testing: 100%|██████████| 1/1 [00:00<00:00, 352.08it/s]\n"
          ]
        },
        {
          "output_type": "stream",
          "name": "stdout",
          "text": [
            "Epoch 92, Test Loss: 0.0673, Test Accuracy: 97.50%\n",
            "\n"
          ]
        },
        {
          "output_type": "stream",
          "name": "stderr",
          "text": [
            "training: 100%|██████████| 4/4 [00:00<00:00, 280.44it/s]\n"
          ]
        },
        {
          "output_type": "stream",
          "name": "stdout",
          "text": [
            "Epoch 93, Training Loss: 0.0072, Training Accuracy: 100.00%\n"
          ]
        },
        {
          "output_type": "stream",
          "name": "stderr",
          "text": [
            "testing: 100%|██████████| 1/1 [00:00<00:00, 361.92it/s]\n"
          ]
        },
        {
          "output_type": "stream",
          "name": "stdout",
          "text": [
            "Epoch 93, Test Loss: 0.0662, Test Accuracy: 97.50%\n",
            "\n"
          ]
        },
        {
          "output_type": "stream",
          "name": "stderr",
          "text": [
            "training: 100%|██████████| 4/4 [00:00<00:00, 302.34it/s]\n"
          ]
        },
        {
          "output_type": "stream",
          "name": "stdout",
          "text": [
            "Epoch 94, Training Loss: 0.0069, Training Accuracy: 100.00%\n"
          ]
        },
        {
          "output_type": "stream",
          "name": "stderr",
          "text": [
            "testing: 100%|██████████| 1/1 [00:00<00:00, 527.98it/s]\n"
          ]
        },
        {
          "output_type": "stream",
          "name": "stdout",
          "text": [
            "Epoch 94, Test Loss: 0.0707, Test Accuracy: 97.50%\n",
            "\n"
          ]
        },
        {
          "output_type": "stream",
          "name": "stderr",
          "text": [
            "training: 100%|██████████| 4/4 [00:00<00:00, 234.76it/s]\n"
          ]
        },
        {
          "output_type": "stream",
          "name": "stdout",
          "text": [
            "Epoch 95, Training Loss: 0.0079, Training Accuracy: 100.00%\n"
          ]
        },
        {
          "output_type": "stream",
          "name": "stderr",
          "text": [
            "testing: 100%|██████████| 1/1 [00:00<00:00, 295.27it/s]\n"
          ]
        },
        {
          "output_type": "stream",
          "name": "stdout",
          "text": [
            "Epoch 95, Test Loss: 0.0730, Test Accuracy: 97.50%\n",
            "\n"
          ]
        },
        {
          "output_type": "stream",
          "name": "stderr",
          "text": [
            "training: 100%|██████████| 4/4 [00:00<00:00, 245.14it/s]\n"
          ]
        },
        {
          "output_type": "stream",
          "name": "stdout",
          "text": [
            "Epoch 96, Training Loss: 0.0058, Training Accuracy: 100.00%\n"
          ]
        },
        {
          "output_type": "stream",
          "name": "stderr",
          "text": [
            "testing: 100%|██████████| 1/1 [00:00<00:00, 257.13it/s]\n"
          ]
        },
        {
          "output_type": "stream",
          "name": "stdout",
          "text": [
            "Epoch 96, Test Loss: 0.0797, Test Accuracy: 97.50%\n",
            "\n"
          ]
        },
        {
          "output_type": "stream",
          "name": "stderr",
          "text": [
            "training: 100%|██████████| 4/4 [00:00<00:00, 268.26it/s]\n"
          ]
        },
        {
          "output_type": "stream",
          "name": "stdout",
          "text": [
            "Epoch 97, Training Loss: 0.0054, Training Accuracy: 100.00%\n"
          ]
        },
        {
          "output_type": "stream",
          "name": "stderr",
          "text": [
            "testing: 100%|██████████| 1/1 [00:00<00:00, 422.39it/s]\n"
          ]
        },
        {
          "output_type": "stream",
          "name": "stdout",
          "text": [
            "Epoch 97, Test Loss: 0.0818, Test Accuracy: 97.50%\n",
            "\n"
          ]
        },
        {
          "output_type": "stream",
          "name": "stderr",
          "text": [
            "training: 100%|██████████| 4/4 [00:00<00:00, 299.16it/s]\n"
          ]
        },
        {
          "output_type": "stream",
          "name": "stdout",
          "text": [
            "Epoch 98, Training Loss: 0.0061, Training Accuracy: 100.00%\n"
          ]
        },
        {
          "output_type": "stream",
          "name": "stderr",
          "text": [
            "testing: 100%|██████████| 1/1 [00:00<00:00, 311.87it/s]\n"
          ]
        },
        {
          "output_type": "stream",
          "name": "stdout",
          "text": [
            "Epoch 98, Test Loss: 0.0802, Test Accuracy: 97.50%\n",
            "\n"
          ]
        },
        {
          "output_type": "stream",
          "name": "stderr",
          "text": [
            "training: 100%|██████████| 4/4 [00:00<00:00, 279.55it/s]\n"
          ]
        },
        {
          "output_type": "stream",
          "name": "stdout",
          "text": [
            "Epoch 99, Training Loss: 0.0063, Training Accuracy: 100.00%\n"
          ]
        },
        {
          "output_type": "stream",
          "name": "stderr",
          "text": [
            "testing: 100%|██████████| 1/1 [00:00<00:00, 323.04it/s]\n"
          ]
        },
        {
          "output_type": "stream",
          "name": "stdout",
          "text": [
            "Epoch 99, Test Loss: 0.0774, Test Accuracy: 97.50%\n",
            "\n"
          ]
        },
        {
          "output_type": "stream",
          "name": "stderr",
          "text": [
            "training: 100%|██████████| 4/4 [00:00<00:00, 252.36it/s]\n"
          ]
        },
        {
          "output_type": "stream",
          "name": "stdout",
          "text": [
            "Epoch 100, Training Loss: 0.0056, Training Accuracy: 100.00%\n"
          ]
        },
        {
          "output_type": "stream",
          "name": "stderr",
          "text": [
            "testing: 100%|██████████| 1/1 [00:00<00:00, 349.55it/s]"
          ]
        },
        {
          "output_type": "stream",
          "name": "stdout",
          "text": [
            "Epoch 100, Test Loss: 0.0731, Test Accuracy: 97.50%\n",
            "\n",
            "Running time: 2.749995470046997 s\n",
            "Test accuracy :97.5%\n",
            "Done\n"
          ]
        },
        {
          "output_type": "stream",
          "name": "stderr",
          "text": [
            "\n"
          ]
        }
      ],
      "source": [
        "lr = 1e-3\n",
        "epochs =100\n",
        "\n",
        "set_seed(42)\n",
        "model = SimpleTimeSeriesCNN(num_classes=num_classes).to(device)\n",
        "print(model)\n",
        "print(f'The number of model parameters:{count_parameters(model)}')\n",
        "\n",
        "criterion = nn.CrossEntropyLoss().to(device)\n",
        "optimizer = torch.optim.Adam(model.parameters(), lr=lr)\n",
        "\n",
        "start_time = time.time()\n",
        "for epoch in range(epochs):\n",
        "  train(train_loader, model, criterion, optimizer, epoch, device)\n",
        "  test_accuracy = test(test_loader, model, criterion, optimizer, epoch, device)\n",
        "end_time = time.time()\n",
        "elapsed_time = end_time - start_time\n",
        "print(f\"Running time: {elapsed_time} s\")\n",
        "\n",
        "print(f\"Test accuracy :{test_accuracy*100}%\")\n",
        "print(\"Done\")"
      ]
    },
    {
      "cell_type": "markdown",
      "metadata": {
        "id": "vEMuhawBumWF"
      },
      "source": [
        "## Model profile"
      ]
    },
    {
      "cell_type": "code",
      "execution_count": 147,
      "metadata": {
        "id": "e6FYVeIb6Kwm"
      },
      "outputs": [],
      "source": [
        "from sklearn.metrics import confusion_matrix\n",
        "import seaborn as sns"
      ]
    },
    {
      "cell_type": "code",
      "execution_count": 148,
      "metadata": {
        "id": "xbed6LwCsTok",
        "colab": {
          "base_uri": "https://localhost:8080/"
        },
        "outputId": "726e0ed9-2dd8-4881-80d5-649de512b416"
      },
      "outputs": [
        {
          "output_type": "stream",
          "name": "stdout",
          "text": [
            "[[30  0  0  0]\n",
            " [ 0 70  0  5]\n",
            " [ 0  0 45  0]\n",
            " [ 0  0  0 50]]\n"
          ]
        }
      ],
      "source": [
        "model.eval()\n",
        "\n",
        "true_labels = []\n",
        "predicted_labels = []\n",
        "\n",
        "with torch.no_grad():\n",
        "    for data, target in test_loader:\n",
        "        outputs = model(data)\n",
        "        _, predicted = torch.max(outputs.data, 1)\n",
        "\n",
        "        true_labels.extend(target.cpu().numpy())\n",
        "        predicted_labels.extend(predicted.cpu().numpy())\n",
        "\n",
        "conf_matrix = confusion_matrix(true_labels, predicted_labels)\n",
        "\n",
        "print(conf_matrix)"
      ]
    },
    {
      "cell_type": "code",
      "execution_count": 149,
      "metadata": {
        "id": "K7EaRCJl6hZ1",
        "colab": {
          "base_uri": "https://localhost:8080/",
          "height": 618
        },
        "outputId": "212889a6-55b9-4d23-bff6-1a4fed012e9b"
      },
      "outputs": [
        {
          "output_type": "display_data",
          "data": {
            "text/plain": [
              "<Figure size 1000x700 with 2 Axes>"
            ],
            "image/svg+xml": "<?xml version=\"1.0\" encoding=\"utf-8\" standalone=\"no\"?>\n<!DOCTYPE svg PUBLIC \"-//W3C//DTD SVG 1.1//EN\"\n  \"http://www.w3.org/Graphics/SVG/1.1/DTD/svg11.dtd\">\n<svg xmlns:xlink=\"http://www.w3.org/1999/xlink\" width=\"558.18525pt\" height=\"447.954375pt\" viewBox=\"0 0 558.18525 447.954375\" xmlns=\"http://www.w3.org/2000/svg\" version=\"1.1\">\n <metadata>\n  <rdf:RDF xmlns:dc=\"http://purl.org/dc/elements/1.1/\" xmlns:cc=\"http://creativecommons.org/ns#\" xmlns:rdf=\"http://www.w3.org/1999/02/22-rdf-syntax-ns#\">\n   <cc:Work>\n    <dc:type rdf:resource=\"http://purl.org/dc/dcmitype/StillImage\"/>\n    <dc:date>2024-06-17T20:26:06.131301</dc:date>\n    <dc:format>image/svg+xml</dc:format>\n    <dc:creator>\n     <cc:Agent>\n      <dc:title>Matplotlib v3.7.1, https://matplotlib.org/</dc:title>\n     </cc:Agent>\n    </dc:creator>\n   </cc:Work>\n  </rdf:RDF>\n </metadata>\n <defs>\n  <style type=\"text/css\">*{stroke-linejoin: round; stroke-linecap: butt}</style>\n </defs>\n <g id=\"figure_1\">\n  <g id=\"patch_1\">\n   <path d=\"M 0 447.954375 \nL 558.18525 447.954375 \nL 558.18525 0 \nL 0 0 \nz\n\" style=\"fill: #ffffff\"/>\n  </g>\n  <g id=\"axes_1\">\n   <g id=\"patch_2\">\n    <path d=\"M 37.55625 410.398125 \nL 483.95625 410.398125 \nL 483.95625 22.318125 \nL 37.55625 22.318125 \nz\n\" style=\"fill: #ffffff\"/>\n   </g>\n   <g id=\"QuadMesh_1\">\n    <path d=\"M 37.55625 22.318125 \nL 149.15625 22.318125 \nL 149.15625 119.338125 \nL 37.55625 119.338125 \nL 37.55625 22.318125 \n\" clip-path=\"url(#pb6aba3ea1e)\" style=\"fill: #ad1759\"/>\n    <path d=\"M 149.15625 22.318125 \nL 260.75625 22.318125 \nL 260.75625 119.338125 \nL 149.15625 119.338125 \nL 149.15625 22.318125 \n\" clip-path=\"url(#pb6aba3ea1e)\" style=\"fill: #03051a\"/>\n    <path d=\"M 260.75625 22.318125 \nL 372.35625 22.318125 \nL 372.35625 119.338125 \nL 260.75625 119.338125 \nL 260.75625 22.318125 \n\" clip-path=\"url(#pb6aba3ea1e)\" style=\"fill: #03051a\"/>\n    <path d=\"M 372.35625 22.318125 \nL 483.95625 22.318125 \nL 483.95625 119.338125 \nL 372.35625 119.338125 \nL 372.35625 22.318125 \n\" clip-path=\"url(#pb6aba3ea1e)\" style=\"fill: #03051a\"/>\n    <path d=\"M 37.55625 119.338125 \nL 149.15625 119.338125 \nL 149.15625 216.358125 \nL 37.55625 216.358125 \nL 37.55625 119.338125 \n\" clip-path=\"url(#pb6aba3ea1e)\" style=\"fill: #03051a\"/>\n    <path d=\"M 149.15625 119.338125 \nL 260.75625 119.338125 \nL 260.75625 216.358125 \nL 149.15625 216.358125 \nL 149.15625 119.338125 \n\" clip-path=\"url(#pb6aba3ea1e)\" style=\"fill: #faebdd\"/>\n    <path d=\"M 260.75625 119.338125 \nL 372.35625 119.338125 \nL 372.35625 216.358125 \nL 260.75625 216.358125 \nL 260.75625 119.338125 \n\" clip-path=\"url(#pb6aba3ea1e)\" style=\"fill: #03051a\"/>\n    <path d=\"M 372.35625 119.338125 \nL 483.95625 119.338125 \nL 483.95625 216.358125 \nL 372.35625 216.358125 \nL 372.35625 119.338125 \n\" clip-path=\"url(#pb6aba3ea1e)\" style=\"fill: #1b112b\"/>\n    <path d=\"M 37.55625 216.358125 \nL 149.15625 216.358125 \nL 149.15625 313.378125 \nL 37.55625 313.378125 \nL 37.55625 216.358125 \n\" clip-path=\"url(#pb6aba3ea1e)\" style=\"fill: #03051a\"/>\n    <path d=\"M 149.15625 216.358125 \nL 260.75625 216.358125 \nL 260.75625 313.378125 \nL 149.15625 313.378125 \nL 149.15625 216.358125 \n\" clip-path=\"url(#pb6aba3ea1e)\" style=\"fill: #03051a\"/>\n    <path d=\"M 260.75625 216.358125 \nL 372.35625 216.358125 \nL 372.35625 313.378125 \nL 260.75625 313.378125 \nL 260.75625 216.358125 \n\" clip-path=\"url(#pb6aba3ea1e)\" style=\"fill: #ee543f\"/>\n    <path d=\"M 372.35625 216.358125 \nL 483.95625 216.358125 \nL 483.95625 313.378125 \nL 372.35625 313.378125 \nL 372.35625 216.358125 \n\" clip-path=\"url(#pb6aba3ea1e)\" style=\"fill: #03051a\"/>\n    <path d=\"M 37.55625 313.378125 \nL 149.15625 313.378125 \nL 149.15625 410.398125 \nL 37.55625 410.398125 \nL 37.55625 313.378125 \n\" clip-path=\"url(#pb6aba3ea1e)\" style=\"fill: #03051a\"/>\n    <path d=\"M 149.15625 313.378125 \nL 260.75625 313.378125 \nL 260.75625 410.398125 \nL 149.15625 410.398125 \nL 149.15625 313.378125 \n\" clip-path=\"url(#pb6aba3ea1e)\" style=\"fill: #03051a\"/>\n    <path d=\"M 260.75625 313.378125 \nL 372.35625 313.378125 \nL 372.35625 410.398125 \nL 260.75625 410.398125 \nL 260.75625 313.378125 \n\" clip-path=\"url(#pb6aba3ea1e)\" style=\"fill: #03051a\"/>\n    <path d=\"M 372.35625 313.378125 \nL 483.95625 313.378125 \nL 483.95625 410.398125 \nL 372.35625 410.398125 \nL 372.35625 313.378125 \n\" clip-path=\"url(#pb6aba3ea1e)\" style=\"fill: #f37651\"/>\n   </g>\n   <g id=\"matplotlib.axis_1\">\n    <g id=\"xtick_1\">\n     <g id=\"line2d_1\">\n      <defs>\n       <path id=\"m29abbbe3b0\" d=\"M 0 0 \nL 0 3.5 \n\" style=\"stroke: #000000; stroke-width: 0.8\"/>\n      </defs>\n      <g>\n       <use xlink:href=\"#m29abbbe3b0\" x=\"93.35625\" y=\"410.398125\" style=\"stroke: #000000; stroke-width: 0.8\"/>\n      </g>\n     </g>\n     <g id=\"text_1\">\n      <!-- Attack -->\n      <g transform=\"translate(77.394531 424.996562) scale(0.1 -0.1)\">\n       <defs>\n        <path id=\"DejaVuSans-41\" d=\"M 2188 4044 \nL 1331 1722 \nL 3047 1722 \nL 2188 4044 \nz\nM 1831 4666 \nL 2547 4666 \nL 4325 0 \nL 3669 0 \nL 3244 1197 \nL 1141 1197 \nL 716 0 \nL 50 0 \nL 1831 4666 \nz\n\" transform=\"scale(0.015625)\"/>\n        <path id=\"DejaVuSans-74\" d=\"M 1172 4494 \nL 1172 3500 \nL 2356 3500 \nL 2356 3053 \nL 1172 3053 \nL 1172 1153 \nQ 1172 725 1289 603 \nQ 1406 481 1766 481 \nL 2356 481 \nL 2356 0 \nL 1766 0 \nQ 1100 0 847 248 \nQ 594 497 594 1153 \nL 594 3053 \nL 172 3053 \nL 172 3500 \nL 594 3500 \nL 594 4494 \nL 1172 4494 \nz\n\" transform=\"scale(0.015625)\"/>\n        <path id=\"DejaVuSans-61\" d=\"M 2194 1759 \nQ 1497 1759 1228 1600 \nQ 959 1441 959 1056 \nQ 959 750 1161 570 \nQ 1363 391 1709 391 \nQ 2188 391 2477 730 \nQ 2766 1069 2766 1631 \nL 2766 1759 \nL 2194 1759 \nz\nM 3341 1997 \nL 3341 0 \nL 2766 0 \nL 2766 531 \nQ 2569 213 2275 61 \nQ 1981 -91 1556 -91 \nQ 1019 -91 701 211 \nQ 384 513 384 1019 \nQ 384 1609 779 1909 \nQ 1175 2209 1959 2209 \nL 2766 2209 \nL 2766 2266 \nQ 2766 2663 2505 2880 \nQ 2244 3097 1772 3097 \nQ 1472 3097 1187 3025 \nQ 903 2953 641 2809 \nL 641 3341 \nQ 956 3463 1253 3523 \nQ 1550 3584 1831 3584 \nQ 2591 3584 2966 3190 \nQ 3341 2797 3341 1997 \nz\n\" transform=\"scale(0.015625)\"/>\n        <path id=\"DejaVuSans-63\" d=\"M 3122 3366 \nL 3122 2828 \nQ 2878 2963 2633 3030 \nQ 2388 3097 2138 3097 \nQ 1578 3097 1268 2742 \nQ 959 2388 959 1747 \nQ 959 1106 1268 751 \nQ 1578 397 2138 397 \nQ 2388 397 2633 464 \nQ 2878 531 3122 666 \nL 3122 134 \nQ 2881 22 2623 -34 \nQ 2366 -91 2075 -91 \nQ 1284 -91 818 406 \nQ 353 903 353 1747 \nQ 353 2603 823 3093 \nQ 1294 3584 2113 3584 \nQ 2378 3584 2631 3529 \nQ 2884 3475 3122 3366 \nz\n\" transform=\"scale(0.015625)\"/>\n        <path id=\"DejaVuSans-6b\" d=\"M 581 4863 \nL 1159 4863 \nL 1159 1991 \nL 2875 3500 \nL 3609 3500 \nL 1753 1863 \nL 3688 0 \nL 2938 0 \nL 1159 1709 \nL 1159 0 \nL 581 0 \nL 581 4863 \nz\n\" transform=\"scale(0.015625)\"/>\n       </defs>\n       <use xlink:href=\"#DejaVuSans-41\"/>\n       <use xlink:href=\"#DejaVuSans-74\" x=\"66.658203\"/>\n       <use xlink:href=\"#DejaVuSans-74\" x=\"105.867188\"/>\n       <use xlink:href=\"#DejaVuSans-61\" x=\"145.076172\"/>\n       <use xlink:href=\"#DejaVuSans-63\" x=\"206.355469\"/>\n       <use xlink:href=\"#DejaVuSans-6b\" x=\"261.335938\"/>\n      </g>\n     </g>\n    </g>\n    <g id=\"xtick_2\">\n     <g id=\"line2d_2\">\n      <g>\n       <use xlink:href=\"#m29abbbe3b0\" x=\"204.95625\" y=\"410.398125\" style=\"stroke: #000000; stroke-width: 0.8\"/>\n      </g>\n     </g>\n     <g id=\"text_2\">\n      <!-- Jump -->\n      <g transform=\"translate(192.267969 424.996562) scale(0.1 -0.1)\">\n       <defs>\n        <path id=\"DejaVuSans-4a\" d=\"M 628 4666 \nL 1259 4666 \nL 1259 325 \nQ 1259 -519 939 -900 \nQ 619 -1281 -91 -1281 \nL -331 -1281 \nL -331 -750 \nL -134 -750 \nQ 284 -750 456 -515 \nQ 628 -281 628 325 \nL 628 4666 \nz\n\" transform=\"scale(0.015625)\"/>\n        <path id=\"DejaVuSans-75\" d=\"M 544 1381 \nL 544 3500 \nL 1119 3500 \nL 1119 1403 \nQ 1119 906 1312 657 \nQ 1506 409 1894 409 \nQ 2359 409 2629 706 \nQ 2900 1003 2900 1516 \nL 2900 3500 \nL 3475 3500 \nL 3475 0 \nL 2900 0 \nL 2900 538 \nQ 2691 219 2414 64 \nQ 2138 -91 1772 -91 \nQ 1169 -91 856 284 \nQ 544 659 544 1381 \nz\nM 1991 3584 \nL 1991 3584 \nz\n\" transform=\"scale(0.015625)\"/>\n        <path id=\"DejaVuSans-6d\" d=\"M 3328 2828 \nQ 3544 3216 3844 3400 \nQ 4144 3584 4550 3584 \nQ 5097 3584 5394 3201 \nQ 5691 2819 5691 2113 \nL 5691 0 \nL 5113 0 \nL 5113 2094 \nQ 5113 2597 4934 2840 \nQ 4756 3084 4391 3084 \nQ 3944 3084 3684 2787 \nQ 3425 2491 3425 1978 \nL 3425 0 \nL 2847 0 \nL 2847 2094 \nQ 2847 2600 2669 2842 \nQ 2491 3084 2119 3084 \nQ 1678 3084 1418 2786 \nQ 1159 2488 1159 1978 \nL 1159 0 \nL 581 0 \nL 581 3500 \nL 1159 3500 \nL 1159 2956 \nQ 1356 3278 1631 3431 \nQ 1906 3584 2284 3584 \nQ 2666 3584 2933 3390 \nQ 3200 3197 3328 2828 \nz\n\" transform=\"scale(0.015625)\"/>\n        <path id=\"DejaVuSans-70\" d=\"M 1159 525 \nL 1159 -1331 \nL 581 -1331 \nL 581 3500 \nL 1159 3500 \nL 1159 2969 \nQ 1341 3281 1617 3432 \nQ 1894 3584 2278 3584 \nQ 2916 3584 3314 3078 \nQ 3713 2572 3713 1747 \nQ 3713 922 3314 415 \nQ 2916 -91 2278 -91 \nQ 1894 -91 1617 61 \nQ 1341 213 1159 525 \nz\nM 3116 1747 \nQ 3116 2381 2855 2742 \nQ 2594 3103 2138 3103 \nQ 1681 3103 1420 2742 \nQ 1159 2381 1159 1747 \nQ 1159 1113 1420 752 \nQ 1681 391 2138 391 \nQ 2594 391 2855 752 \nQ 3116 1113 3116 1747 \nz\n\" transform=\"scale(0.015625)\"/>\n       </defs>\n       <use xlink:href=\"#DejaVuSans-4a\"/>\n       <use xlink:href=\"#DejaVuSans-75\" x=\"29.492188\"/>\n       <use xlink:href=\"#DejaVuSans-6d\" x=\"92.871094\"/>\n       <use xlink:href=\"#DejaVuSans-70\" x=\"190.283203\"/>\n      </g>\n     </g>\n    </g>\n    <g id=\"xtick_3\">\n     <g id=\"line2d_3\">\n      <g>\n       <use xlink:href=\"#m29abbbe3b0\" x=\"316.55625\" y=\"410.398125\" style=\"stroke: #000000; stroke-width: 0.8\"/>\n      </g>\n     </g>\n     <g id=\"text_3\">\n      <!-- Left -->\n      <g transform=\"translate(307.148438 424.996562) scale(0.1 -0.1)\">\n       <defs>\n        <path id=\"DejaVuSans-4c\" d=\"M 628 4666 \nL 1259 4666 \nL 1259 531 \nL 3531 531 \nL 3531 0 \nL 628 0 \nL 628 4666 \nz\n\" transform=\"scale(0.015625)\"/>\n        <path id=\"DejaVuSans-65\" d=\"M 3597 1894 \nL 3597 1613 \nL 953 1613 \nQ 991 1019 1311 708 \nQ 1631 397 2203 397 \nQ 2534 397 2845 478 \nQ 3156 559 3463 722 \nL 3463 178 \nQ 3153 47 2828 -22 \nQ 2503 -91 2169 -91 \nQ 1331 -91 842 396 \nQ 353 884 353 1716 \nQ 353 2575 817 3079 \nQ 1281 3584 2069 3584 \nQ 2775 3584 3186 3129 \nQ 3597 2675 3597 1894 \nz\nM 3022 2063 \nQ 3016 2534 2758 2815 \nQ 2500 3097 2075 3097 \nQ 1594 3097 1305 2825 \nQ 1016 2553 972 2059 \nL 3022 2063 \nz\n\" transform=\"scale(0.015625)\"/>\n        <path id=\"DejaVuSans-66\" d=\"M 2375 4863 \nL 2375 4384 \nL 1825 4384 \nQ 1516 4384 1395 4259 \nQ 1275 4134 1275 3809 \nL 1275 3500 \nL 2222 3500 \nL 2222 3053 \nL 1275 3053 \nL 1275 0 \nL 697 0 \nL 697 3053 \nL 147 3053 \nL 147 3500 \nL 697 3500 \nL 697 3744 \nQ 697 4328 969 4595 \nQ 1241 4863 1831 4863 \nL 2375 4863 \nz\n\" transform=\"scale(0.015625)\"/>\n       </defs>\n       <use xlink:href=\"#DejaVuSans-4c\"/>\n       <use xlink:href=\"#DejaVuSans-65\" x=\"53.962891\"/>\n       <use xlink:href=\"#DejaVuSans-66\" x=\"115.486328\"/>\n       <use xlink:href=\"#DejaVuSans-74\" x=\"148.941406\"/>\n      </g>\n     </g>\n    </g>\n    <g id=\"xtick_4\">\n     <g id=\"line2d_4\">\n      <g>\n       <use xlink:href=\"#m29abbbe3b0\" x=\"428.15625\" y=\"410.398125\" style=\"stroke: #000000; stroke-width: 0.8\"/>\n      </g>\n     </g>\n     <g id=\"text_4\">\n      <!-- Right -->\n      <g transform=\"translate(414.989844 424.996562) scale(0.1 -0.1)\">\n       <defs>\n        <path id=\"DejaVuSans-52\" d=\"M 2841 2188 \nQ 3044 2119 3236 1894 \nQ 3428 1669 3622 1275 \nL 4263 0 \nL 3584 0 \nL 2988 1197 \nQ 2756 1666 2539 1819 \nQ 2322 1972 1947 1972 \nL 1259 1972 \nL 1259 0 \nL 628 0 \nL 628 4666 \nL 2053 4666 \nQ 2853 4666 3247 4331 \nQ 3641 3997 3641 3322 \nQ 3641 2881 3436 2590 \nQ 3231 2300 2841 2188 \nz\nM 1259 4147 \nL 1259 2491 \nL 2053 2491 \nQ 2509 2491 2742 2702 \nQ 2975 2913 2975 3322 \nQ 2975 3731 2742 3939 \nQ 2509 4147 2053 4147 \nL 1259 4147 \nz\n\" transform=\"scale(0.015625)\"/>\n        <path id=\"DejaVuSans-69\" d=\"M 603 3500 \nL 1178 3500 \nL 1178 0 \nL 603 0 \nL 603 3500 \nz\nM 603 4863 \nL 1178 4863 \nL 1178 4134 \nL 603 4134 \nL 603 4863 \nz\n\" transform=\"scale(0.015625)\"/>\n        <path id=\"DejaVuSans-67\" d=\"M 2906 1791 \nQ 2906 2416 2648 2759 \nQ 2391 3103 1925 3103 \nQ 1463 3103 1205 2759 \nQ 947 2416 947 1791 \nQ 947 1169 1205 825 \nQ 1463 481 1925 481 \nQ 2391 481 2648 825 \nQ 2906 1169 2906 1791 \nz\nM 3481 434 \nQ 3481 -459 3084 -895 \nQ 2688 -1331 1869 -1331 \nQ 1566 -1331 1297 -1286 \nQ 1028 -1241 775 -1147 \nL 775 -588 \nQ 1028 -725 1275 -790 \nQ 1522 -856 1778 -856 \nQ 2344 -856 2625 -561 \nQ 2906 -266 2906 331 \nL 2906 616 \nQ 2728 306 2450 153 \nQ 2172 0 1784 0 \nQ 1141 0 747 490 \nQ 353 981 353 1791 \nQ 353 2603 747 3093 \nQ 1141 3584 1784 3584 \nQ 2172 3584 2450 3431 \nQ 2728 3278 2906 2969 \nL 2906 3500 \nL 3481 3500 \nL 3481 434 \nz\n\" transform=\"scale(0.015625)\"/>\n        <path id=\"DejaVuSans-68\" d=\"M 3513 2113 \nL 3513 0 \nL 2938 0 \nL 2938 2094 \nQ 2938 2591 2744 2837 \nQ 2550 3084 2163 3084 \nQ 1697 3084 1428 2787 \nQ 1159 2491 1159 1978 \nL 1159 0 \nL 581 0 \nL 581 4863 \nL 1159 4863 \nL 1159 2956 \nQ 1366 3272 1645 3428 \nQ 1925 3584 2291 3584 \nQ 2894 3584 3203 3211 \nQ 3513 2838 3513 2113 \nz\n\" transform=\"scale(0.015625)\"/>\n       </defs>\n       <use xlink:href=\"#DejaVuSans-52\"/>\n       <use xlink:href=\"#DejaVuSans-69\" x=\"69.482422\"/>\n       <use xlink:href=\"#DejaVuSans-67\" x=\"97.265625\"/>\n       <use xlink:href=\"#DejaVuSans-68\" x=\"160.742188\"/>\n       <use xlink:href=\"#DejaVuSans-74\" x=\"224.121094\"/>\n      </g>\n     </g>\n    </g>\n    <g id=\"text_5\">\n     <!-- Prediction -->\n     <g transform=\"translate(235.919531 438.674687) scale(0.1 -0.1)\">\n      <defs>\n       <path id=\"DejaVuSans-50\" d=\"M 1259 4147 \nL 1259 2394 \nL 2053 2394 \nQ 2494 2394 2734 2622 \nQ 2975 2850 2975 3272 \nQ 2975 3691 2734 3919 \nQ 2494 4147 2053 4147 \nL 1259 4147 \nz\nM 628 4666 \nL 2053 4666 \nQ 2838 4666 3239 4311 \nQ 3641 3956 3641 3272 \nQ 3641 2581 3239 2228 \nQ 2838 1875 2053 1875 \nL 1259 1875 \nL 1259 0 \nL 628 0 \nL 628 4666 \nz\n\" transform=\"scale(0.015625)\"/>\n       <path id=\"DejaVuSans-72\" d=\"M 2631 2963 \nQ 2534 3019 2420 3045 \nQ 2306 3072 2169 3072 \nQ 1681 3072 1420 2755 \nQ 1159 2438 1159 1844 \nL 1159 0 \nL 581 0 \nL 581 3500 \nL 1159 3500 \nL 1159 2956 \nQ 1341 3275 1631 3429 \nQ 1922 3584 2338 3584 \nQ 2397 3584 2469 3576 \nQ 2541 3569 2628 3553 \nL 2631 2963 \nz\n\" transform=\"scale(0.015625)\"/>\n       <path id=\"DejaVuSans-64\" d=\"M 2906 2969 \nL 2906 4863 \nL 3481 4863 \nL 3481 0 \nL 2906 0 \nL 2906 525 \nQ 2725 213 2448 61 \nQ 2172 -91 1784 -91 \nQ 1150 -91 751 415 \nQ 353 922 353 1747 \nQ 353 2572 751 3078 \nQ 1150 3584 1784 3584 \nQ 2172 3584 2448 3432 \nQ 2725 3281 2906 2969 \nz\nM 947 1747 \nQ 947 1113 1208 752 \nQ 1469 391 1925 391 \nQ 2381 391 2643 752 \nQ 2906 1113 2906 1747 \nQ 2906 2381 2643 2742 \nQ 2381 3103 1925 3103 \nQ 1469 3103 1208 2742 \nQ 947 2381 947 1747 \nz\n\" transform=\"scale(0.015625)\"/>\n       <path id=\"DejaVuSans-6f\" d=\"M 1959 3097 \nQ 1497 3097 1228 2736 \nQ 959 2375 959 1747 \nQ 959 1119 1226 758 \nQ 1494 397 1959 397 \nQ 2419 397 2687 759 \nQ 2956 1122 2956 1747 \nQ 2956 2369 2687 2733 \nQ 2419 3097 1959 3097 \nz\nM 1959 3584 \nQ 2709 3584 3137 3096 \nQ 3566 2609 3566 1747 \nQ 3566 888 3137 398 \nQ 2709 -91 1959 -91 \nQ 1206 -91 779 398 \nQ 353 888 353 1747 \nQ 353 2609 779 3096 \nQ 1206 3584 1959 3584 \nz\n\" transform=\"scale(0.015625)\"/>\n       <path id=\"DejaVuSans-6e\" d=\"M 3513 2113 \nL 3513 0 \nL 2938 0 \nL 2938 2094 \nQ 2938 2591 2744 2837 \nQ 2550 3084 2163 3084 \nQ 1697 3084 1428 2787 \nQ 1159 2491 1159 1978 \nL 1159 0 \nL 581 0 \nL 581 3500 \nL 1159 3500 \nL 1159 2956 \nQ 1366 3272 1645 3428 \nQ 1925 3584 2291 3584 \nQ 2894 3584 3203 3211 \nQ 3513 2838 3513 2113 \nz\n\" transform=\"scale(0.015625)\"/>\n      </defs>\n      <use xlink:href=\"#DejaVuSans-50\"/>\n      <use xlink:href=\"#DejaVuSans-72\" x=\"58.552734\"/>\n      <use xlink:href=\"#DejaVuSans-65\" x=\"97.416016\"/>\n      <use xlink:href=\"#DejaVuSans-64\" x=\"158.939453\"/>\n      <use xlink:href=\"#DejaVuSans-69\" x=\"222.416016\"/>\n      <use xlink:href=\"#DejaVuSans-63\" x=\"250.199219\"/>\n      <use xlink:href=\"#DejaVuSans-74\" x=\"305.179688\"/>\n      <use xlink:href=\"#DejaVuSans-69\" x=\"344.388672\"/>\n      <use xlink:href=\"#DejaVuSans-6f\" x=\"372.171875\"/>\n      <use xlink:href=\"#DejaVuSans-6e\" x=\"433.353516\"/>\n     </g>\n    </g>\n   </g>\n   <g id=\"matplotlib.axis_2\">\n    <g id=\"ytick_1\">\n     <g id=\"line2d_5\">\n      <defs>\n       <path id=\"m8219159aca\" d=\"M 0 0 \nL -3.5 0 \n\" style=\"stroke: #000000; stroke-width: 0.8\"/>\n      </defs>\n      <g>\n       <use xlink:href=\"#m8219159aca\" x=\"37.55625\" y=\"70.828125\" style=\"stroke: #000000; stroke-width: 0.8\"/>\n      </g>\n     </g>\n     <g id=\"text_6\">\n      <!-- Attack -->\n      <g transform=\"translate(28.476563 86.789844) rotate(-90) scale(0.1 -0.1)\">\n       <use xlink:href=\"#DejaVuSans-41\"/>\n       <use xlink:href=\"#DejaVuSans-74\" x=\"66.658203\"/>\n       <use xlink:href=\"#DejaVuSans-74\" x=\"105.867188\"/>\n       <use xlink:href=\"#DejaVuSans-61\" x=\"145.076172\"/>\n       <use xlink:href=\"#DejaVuSans-63\" x=\"206.355469\"/>\n       <use xlink:href=\"#DejaVuSans-6b\" x=\"261.335938\"/>\n      </g>\n     </g>\n    </g>\n    <g id=\"ytick_2\">\n     <g id=\"line2d_6\">\n      <g>\n       <use xlink:href=\"#m8219159aca\" x=\"37.55625\" y=\"167.848125\" style=\"stroke: #000000; stroke-width: 0.8\"/>\n      </g>\n     </g>\n     <g id=\"text_7\">\n      <!-- Jump -->\n      <g transform=\"translate(28.476563 180.536406) rotate(-90) scale(0.1 -0.1)\">\n       <use xlink:href=\"#DejaVuSans-4a\"/>\n       <use xlink:href=\"#DejaVuSans-75\" x=\"29.492188\"/>\n       <use xlink:href=\"#DejaVuSans-6d\" x=\"92.871094\"/>\n       <use xlink:href=\"#DejaVuSans-70\" x=\"190.283203\"/>\n      </g>\n     </g>\n    </g>\n    <g id=\"ytick_3\">\n     <g id=\"line2d_7\">\n      <g>\n       <use xlink:href=\"#m8219159aca\" x=\"37.55625\" y=\"264.868125\" style=\"stroke: #000000; stroke-width: 0.8\"/>\n      </g>\n     </g>\n     <g id=\"text_8\">\n      <!-- Left -->\n      <g transform=\"translate(28.476563 274.275937) rotate(-90) scale(0.1 -0.1)\">\n       <use xlink:href=\"#DejaVuSans-4c\"/>\n       <use xlink:href=\"#DejaVuSans-65\" x=\"53.962891\"/>\n       <use xlink:href=\"#DejaVuSans-66\" x=\"115.486328\"/>\n       <use xlink:href=\"#DejaVuSans-74\" x=\"148.941406\"/>\n      </g>\n     </g>\n    </g>\n    <g id=\"ytick_4\">\n     <g id=\"line2d_8\">\n      <g>\n       <use xlink:href=\"#m8219159aca\" x=\"37.55625\" y=\"361.888125\" style=\"stroke: #000000; stroke-width: 0.8\"/>\n      </g>\n     </g>\n     <g id=\"text_9\">\n      <!-- Right -->\n      <g transform=\"translate(28.476563 375.054531) rotate(-90) scale(0.1 -0.1)\">\n       <use xlink:href=\"#DejaVuSans-52\"/>\n       <use xlink:href=\"#DejaVuSans-69\" x=\"69.482422\"/>\n       <use xlink:href=\"#DejaVuSans-67\" x=\"97.265625\"/>\n       <use xlink:href=\"#DejaVuSans-68\" x=\"160.742188\"/>\n       <use xlink:href=\"#DejaVuSans-74\" x=\"224.121094\"/>\n      </g>\n     </g>\n    </g>\n    <g id=\"text_10\">\n     <!-- Ground Truth -->\n     <g transform=\"translate(14.798438 249.005) rotate(-90) scale(0.1 -0.1)\">\n      <defs>\n       <path id=\"DejaVuSans-47\" d=\"M 3809 666 \nL 3809 1919 \nL 2778 1919 \nL 2778 2438 \nL 4434 2438 \nL 4434 434 \nQ 4069 175 3628 42 \nQ 3188 -91 2688 -91 \nQ 1594 -91 976 548 \nQ 359 1188 359 2328 \nQ 359 3472 976 4111 \nQ 1594 4750 2688 4750 \nQ 3144 4750 3555 4637 \nQ 3966 4525 4313 4306 \nL 4313 3634 \nQ 3963 3931 3569 4081 \nQ 3175 4231 2741 4231 \nQ 1884 4231 1454 3753 \nQ 1025 3275 1025 2328 \nQ 1025 1384 1454 906 \nQ 1884 428 2741 428 \nQ 3075 428 3337 486 \nQ 3600 544 3809 666 \nz\n\" transform=\"scale(0.015625)\"/>\n       <path id=\"DejaVuSans-20\" transform=\"scale(0.015625)\"/>\n       <path id=\"DejaVuSans-54\" d=\"M -19 4666 \nL 3928 4666 \nL 3928 4134 \nL 2272 4134 \nL 2272 0 \nL 1638 0 \nL 1638 4134 \nL -19 4134 \nL -19 4666 \nz\n\" transform=\"scale(0.015625)\"/>\n      </defs>\n      <use xlink:href=\"#DejaVuSans-47\"/>\n      <use xlink:href=\"#DejaVuSans-72\" x=\"77.490234\"/>\n      <use xlink:href=\"#DejaVuSans-6f\" x=\"116.353516\"/>\n      <use xlink:href=\"#DejaVuSans-75\" x=\"177.535156\"/>\n      <use xlink:href=\"#DejaVuSans-6e\" x=\"240.914062\"/>\n      <use xlink:href=\"#DejaVuSans-64\" x=\"304.292969\"/>\n      <use xlink:href=\"#DejaVuSans-20\" x=\"367.769531\"/>\n      <use xlink:href=\"#DejaVuSans-54\" x=\"399.556641\"/>\n      <use xlink:href=\"#DejaVuSans-72\" x=\"445.890625\"/>\n      <use xlink:href=\"#DejaVuSans-75\" x=\"487.003906\"/>\n      <use xlink:href=\"#DejaVuSans-74\" x=\"550.382812\"/>\n      <use xlink:href=\"#DejaVuSans-68\" x=\"589.591797\"/>\n     </g>\n    </g>\n   </g>\n   <g id=\"text_11\">\n    <!-- 30 -->\n    <g style=\"fill: #ffffff\" transform=\"translate(86.99375 73.5875) scale(0.1 -0.1)\">\n     <defs>\n      <path id=\"DejaVuSans-33\" d=\"M 2597 2516 \nQ 3050 2419 3304 2112 \nQ 3559 1806 3559 1356 \nQ 3559 666 3084 287 \nQ 2609 -91 1734 -91 \nQ 1441 -91 1130 -33 \nQ 819 25 488 141 \nL 488 750 \nQ 750 597 1062 519 \nQ 1375 441 1716 441 \nQ 2309 441 2620 675 \nQ 2931 909 2931 1356 \nQ 2931 1769 2642 2001 \nQ 2353 2234 1838 2234 \nL 1294 2234 \nL 1294 2753 \nL 1863 2753 \nQ 2328 2753 2575 2939 \nQ 2822 3125 2822 3475 \nQ 2822 3834 2567 4026 \nQ 2313 4219 1838 4219 \nQ 1578 4219 1281 4162 \nQ 984 4106 628 3988 \nL 628 4550 \nQ 988 4650 1302 4700 \nQ 1616 4750 1894 4750 \nQ 2613 4750 3031 4423 \nQ 3450 4097 3450 3541 \nQ 3450 3153 3228 2886 \nQ 3006 2619 2597 2516 \nz\n\" transform=\"scale(0.015625)\"/>\n      <path id=\"DejaVuSans-30\" d=\"M 2034 4250 \nQ 1547 4250 1301 3770 \nQ 1056 3291 1056 2328 \nQ 1056 1369 1301 889 \nQ 1547 409 2034 409 \nQ 2525 409 2770 889 \nQ 3016 1369 3016 2328 \nQ 3016 3291 2770 3770 \nQ 2525 4250 2034 4250 \nz\nM 2034 4750 \nQ 2819 4750 3233 4129 \nQ 3647 3509 3647 2328 \nQ 3647 1150 3233 529 \nQ 2819 -91 2034 -91 \nQ 1250 -91 836 529 \nQ 422 1150 422 2328 \nQ 422 3509 836 4129 \nQ 1250 4750 2034 4750 \nz\n\" transform=\"scale(0.015625)\"/>\n     </defs>\n     <use xlink:href=\"#DejaVuSans-33\"/>\n     <use xlink:href=\"#DejaVuSans-30\" x=\"63.623047\"/>\n    </g>\n   </g>\n   <g id=\"text_12\">\n    <!-- 0 -->\n    <g style=\"fill: #ffffff\" transform=\"translate(201.775 73.5875) scale(0.1 -0.1)\">\n     <use xlink:href=\"#DejaVuSans-30\"/>\n    </g>\n   </g>\n   <g id=\"text_13\">\n    <!-- 0 -->\n    <g style=\"fill: #ffffff\" transform=\"translate(313.375 73.5875) scale(0.1 -0.1)\">\n     <use xlink:href=\"#DejaVuSans-30\"/>\n    </g>\n   </g>\n   <g id=\"text_14\">\n    <!-- 0 -->\n    <g style=\"fill: #ffffff\" transform=\"translate(424.975 73.5875) scale(0.1 -0.1)\">\n     <use xlink:href=\"#DejaVuSans-30\"/>\n    </g>\n   </g>\n   <g id=\"text_15\">\n    <!-- 0 -->\n    <g style=\"fill: #ffffff\" transform=\"translate(90.175 170.6075) scale(0.1 -0.1)\">\n     <use xlink:href=\"#DejaVuSans-30\"/>\n    </g>\n   </g>\n   <g id=\"text_16\">\n    <!-- 70 -->\n    <g style=\"fill: #262626\" transform=\"translate(198.59375 170.6075) scale(0.1 -0.1)\">\n     <defs>\n      <path id=\"DejaVuSans-37\" d=\"M 525 4666 \nL 3525 4666 \nL 3525 4397 \nL 1831 0 \nL 1172 0 \nL 2766 4134 \nL 525 4134 \nL 525 4666 \nz\n\" transform=\"scale(0.015625)\"/>\n     </defs>\n     <use xlink:href=\"#DejaVuSans-37\"/>\n     <use xlink:href=\"#DejaVuSans-30\" x=\"63.623047\"/>\n    </g>\n   </g>\n   <g id=\"text_17\">\n    <!-- 0 -->\n    <g style=\"fill: #ffffff\" transform=\"translate(313.375 170.6075) scale(0.1 -0.1)\">\n     <use xlink:href=\"#DejaVuSans-30\"/>\n    </g>\n   </g>\n   <g id=\"text_18\">\n    <!-- 5 -->\n    <g style=\"fill: #ffffff\" transform=\"translate(424.975 170.6075) scale(0.1 -0.1)\">\n     <defs>\n      <path id=\"DejaVuSans-35\" d=\"M 691 4666 \nL 3169 4666 \nL 3169 4134 \nL 1269 4134 \nL 1269 2991 \nQ 1406 3038 1543 3061 \nQ 1681 3084 1819 3084 \nQ 2600 3084 3056 2656 \nQ 3513 2228 3513 1497 \nQ 3513 744 3044 326 \nQ 2575 -91 1722 -91 \nQ 1428 -91 1123 -41 \nQ 819 9 494 109 \nL 494 744 \nQ 775 591 1075 516 \nQ 1375 441 1709 441 \nQ 2250 441 2565 725 \nQ 2881 1009 2881 1497 \nQ 2881 1984 2565 2268 \nQ 2250 2553 1709 2553 \nQ 1456 2553 1204 2497 \nQ 953 2441 691 2322 \nL 691 4666 \nz\n\" transform=\"scale(0.015625)\"/>\n     </defs>\n     <use xlink:href=\"#DejaVuSans-35\"/>\n    </g>\n   </g>\n   <g id=\"text_19\">\n    <!-- 0 -->\n    <g style=\"fill: #ffffff\" transform=\"translate(90.175 267.6275) scale(0.1 -0.1)\">\n     <use xlink:href=\"#DejaVuSans-30\"/>\n    </g>\n   </g>\n   <g id=\"text_20\">\n    <!-- 0 -->\n    <g style=\"fill: #ffffff\" transform=\"translate(201.775 267.6275) scale(0.1 -0.1)\">\n     <use xlink:href=\"#DejaVuSans-30\"/>\n    </g>\n   </g>\n   <g id=\"text_21\">\n    <!-- 45 -->\n    <g style=\"fill: #ffffff\" transform=\"translate(310.19375 267.6275) scale(0.1 -0.1)\">\n     <defs>\n      <path id=\"DejaVuSans-34\" d=\"M 2419 4116 \nL 825 1625 \nL 2419 1625 \nL 2419 4116 \nz\nM 2253 4666 \nL 3047 4666 \nL 3047 1625 \nL 3713 1625 \nL 3713 1100 \nL 3047 1100 \nL 3047 0 \nL 2419 0 \nL 2419 1100 \nL 313 1100 \nL 313 1709 \nL 2253 4666 \nz\n\" transform=\"scale(0.015625)\"/>\n     </defs>\n     <use xlink:href=\"#DejaVuSans-34\"/>\n     <use xlink:href=\"#DejaVuSans-35\" x=\"63.623047\"/>\n    </g>\n   </g>\n   <g id=\"text_22\">\n    <!-- 0 -->\n    <g style=\"fill: #ffffff\" transform=\"translate(424.975 267.6275) scale(0.1 -0.1)\">\n     <use xlink:href=\"#DejaVuSans-30\"/>\n    </g>\n   </g>\n   <g id=\"text_23\">\n    <!-- 0 -->\n    <g style=\"fill: #ffffff\" transform=\"translate(90.175 364.6475) scale(0.1 -0.1)\">\n     <use xlink:href=\"#DejaVuSans-30\"/>\n    </g>\n   </g>\n   <g id=\"text_24\">\n    <!-- 0 -->\n    <g style=\"fill: #ffffff\" transform=\"translate(201.775 364.6475) scale(0.1 -0.1)\">\n     <use xlink:href=\"#DejaVuSans-30\"/>\n    </g>\n   </g>\n   <g id=\"text_25\">\n    <!-- 0 -->\n    <g style=\"fill: #ffffff\" transform=\"translate(313.375 364.6475) scale(0.1 -0.1)\">\n     <use xlink:href=\"#DejaVuSans-30\"/>\n    </g>\n   </g>\n   <g id=\"text_26\">\n    <!-- 50 -->\n    <g style=\"fill: #ffffff\" transform=\"translate(421.79375 364.6475) scale(0.1 -0.1)\">\n     <use xlink:href=\"#DejaVuSans-35\"/>\n     <use xlink:href=\"#DejaVuSans-30\" x=\"63.623047\"/>\n    </g>\n   </g>\n   <g id=\"text_27\">\n    <!-- Confusion Matrix -->\n    <g transform=\"translate(210.114375 16.318125) scale(0.12 -0.12)\">\n     <defs>\n      <path id=\"DejaVuSans-43\" d=\"M 4122 4306 \nL 4122 3641 \nQ 3803 3938 3442 4084 \nQ 3081 4231 2675 4231 \nQ 1875 4231 1450 3742 \nQ 1025 3253 1025 2328 \nQ 1025 1406 1450 917 \nQ 1875 428 2675 428 \nQ 3081 428 3442 575 \nQ 3803 722 4122 1019 \nL 4122 359 \nQ 3791 134 3420 21 \nQ 3050 -91 2638 -91 \nQ 1578 -91 968 557 \nQ 359 1206 359 2328 \nQ 359 3453 968 4101 \nQ 1578 4750 2638 4750 \nQ 3056 4750 3426 4639 \nQ 3797 4528 4122 4306 \nz\n\" transform=\"scale(0.015625)\"/>\n      <path id=\"DejaVuSans-73\" d=\"M 2834 3397 \nL 2834 2853 \nQ 2591 2978 2328 3040 \nQ 2066 3103 1784 3103 \nQ 1356 3103 1142 2972 \nQ 928 2841 928 2578 \nQ 928 2378 1081 2264 \nQ 1234 2150 1697 2047 \nL 1894 2003 \nQ 2506 1872 2764 1633 \nQ 3022 1394 3022 966 \nQ 3022 478 2636 193 \nQ 2250 -91 1575 -91 \nQ 1294 -91 989 -36 \nQ 684 19 347 128 \nL 347 722 \nQ 666 556 975 473 \nQ 1284 391 1588 391 \nQ 1994 391 2212 530 \nQ 2431 669 2431 922 \nQ 2431 1156 2273 1281 \nQ 2116 1406 1581 1522 \nL 1381 1569 \nQ 847 1681 609 1914 \nQ 372 2147 372 2553 \nQ 372 3047 722 3315 \nQ 1072 3584 1716 3584 \nQ 2034 3584 2315 3537 \nQ 2597 3491 2834 3397 \nz\n\" transform=\"scale(0.015625)\"/>\n      <path id=\"DejaVuSans-4d\" d=\"M 628 4666 \nL 1569 4666 \nL 2759 1491 \nL 3956 4666 \nL 4897 4666 \nL 4897 0 \nL 4281 0 \nL 4281 4097 \nL 3078 897 \nL 2444 897 \nL 1241 4097 \nL 1241 0 \nL 628 0 \nL 628 4666 \nz\n\" transform=\"scale(0.015625)\"/>\n      <path id=\"DejaVuSans-78\" d=\"M 3513 3500 \nL 2247 1797 \nL 3578 0 \nL 2900 0 \nL 1881 1375 \nL 863 0 \nL 184 0 \nL 1544 1831 \nL 300 3500 \nL 978 3500 \nL 1906 2253 \nL 2834 3500 \nL 3513 3500 \nz\n\" transform=\"scale(0.015625)\"/>\n     </defs>\n     <use xlink:href=\"#DejaVuSans-43\"/>\n     <use xlink:href=\"#DejaVuSans-6f\" x=\"69.824219\"/>\n     <use xlink:href=\"#DejaVuSans-6e\" x=\"131.005859\"/>\n     <use xlink:href=\"#DejaVuSans-66\" x=\"194.384766\"/>\n     <use xlink:href=\"#DejaVuSans-75\" x=\"229.589844\"/>\n     <use xlink:href=\"#DejaVuSans-73\" x=\"292.96875\"/>\n     <use xlink:href=\"#DejaVuSans-69\" x=\"345.068359\"/>\n     <use xlink:href=\"#DejaVuSans-6f\" x=\"372.851562\"/>\n     <use xlink:href=\"#DejaVuSans-6e\" x=\"434.033203\"/>\n     <use xlink:href=\"#DejaVuSans-20\" x=\"497.412109\"/>\n     <use xlink:href=\"#DejaVuSans-4d\" x=\"529.199219\"/>\n     <use xlink:href=\"#DejaVuSans-61\" x=\"615.478516\"/>\n     <use xlink:href=\"#DejaVuSans-74\" x=\"676.757812\"/>\n     <use xlink:href=\"#DejaVuSans-72\" x=\"715.966797\"/>\n     <use xlink:href=\"#DejaVuSans-69\" x=\"757.080078\"/>\n     <use xlink:href=\"#DejaVuSans-78\" x=\"784.863281\"/>\n    </g>\n   </g>\n  </g>\n  <g id=\"axes_2\">\n   <g id=\"patch_3\">\n    <path d=\"M 511.85625 410.398125 \nL 531.26025 410.398125 \nL 531.26025 22.318125 \nL 511.85625 22.318125 \nz\n\" style=\"fill: #ffffff\"/>\n   </g>\n   <image xlink:href=\"data:image/png;base64,\niVBORw0KGgoAAAANSUhEUgAAABsAAAIbCAYAAAAaS+V8AAACgElEQVR4nO2di23DUBDD/NLXJbr/nu0QJQSYIBc4yNJ96hTJ+fr++X1GfFaFnud57hkWGys7O20pe1+xex7pY/QG5H60yrxpFHumVfbRplHsmVVZAUGoqRE6CxC840qcxiYIQZ4h3HN29cwHjzYg4hWTZwB5hpBnCHmG4PWsuxGhWx8hzxC846o0IuQZgliZ9n94uogRWjEIrRgEs2daZctq9RmCt89qagRxU2ujrx5XO5ogCOI+K40EpfF9xbyvk8RveBpXBHmGkGcILU8E7z4rIAjipm4QEzSuEJogCKURoTQiiA+eok8wVjb7mqaaGkLdZzuaIAilEUF8FnhXTNEnSBlCfYZQGhHEyo62z7Se9RgRWjEIpRGhNCKs07gzrTQieCdITY1wP7/aph4WK40IrRiEdRq1ng2Lpex9xYo+Qp4hmJfn8OIpjQjmCTL8FGHdZ1Zl2j+ZCghCTY2w9mxXrDQilEaE0ojgTeM4IMO3mzU1gtozqzLtuLrDX7cqjQzqCbIrlmfvK+Z9jEUfoeWJoF6eu2L1GYLYs8faZwUEIWUI46bWKsszgjxDUHtm/eYTrWcFBMEbkPtoPSuNBKURQZ3GlP0f81mg/e0RbUDUynb18gyh5Ymw/hChPvs/KXtfsXtaMQCNKwSzZ/UZQH2GIPZMu88KCEJNjdDyRLiP+H2j1jOxMm0axVNfqqzXtghFHyFlCB08CE0QBLNnVmWNKwRvQMzKGsQAeYaQZwh5huBVVvQRvAHJM4Q8QxB7ds7XrFieIXiVNa4QvAFRe6YdxGLPtMq0nnXwEJTG9xUrIAidBQhqz6zKTp4B1GcI3tlYQBDETd0gJqjPELyD+A8x2y/1UHxA+AAAAABJRU5ErkJggg==\" id=\"image1ced70c63f\" transform=\"scale(1 -1) translate(0 -388.08)\" x=\"511.92\" y=\"-22.32\" width=\"19.44\" height=\"388.08\"/>\n   <g id=\"matplotlib.axis_3\"/>\n   <g id=\"matplotlib.axis_4\">\n    <g id=\"ytick_5\">\n     <g id=\"line2d_9\">\n      <defs>\n       <path id=\"mf3b241f8c0\" d=\"M 0 0 \nL 3.5 0 \n\" style=\"stroke: #000000; stroke-width: 0.8\"/>\n      </defs>\n      <g>\n       <use xlink:href=\"#mf3b241f8c0\" x=\"531.26025\" y=\"410.398125\" style=\"stroke: #000000; stroke-width: 0.8\"/>\n      </g>\n     </g>\n     <g id=\"text_28\">\n      <!-- 0 -->\n      <g transform=\"translate(538.26025 414.197344) scale(0.1 -0.1)\">\n       <use xlink:href=\"#DejaVuSans-30\"/>\n      </g>\n     </g>\n    </g>\n    <g id=\"ytick_6\">\n     <g id=\"line2d_10\">\n      <g>\n       <use xlink:href=\"#mf3b241f8c0\" x=\"531.26025\" y=\"354.958125\" style=\"stroke: #000000; stroke-width: 0.8\"/>\n      </g>\n     </g>\n     <g id=\"text_29\">\n      <!-- 10 -->\n      <g transform=\"translate(538.26025 358.757344) scale(0.1 -0.1)\">\n       <defs>\n        <path id=\"DejaVuSans-31\" d=\"M 794 531 \nL 1825 531 \nL 1825 4091 \nL 703 3866 \nL 703 4441 \nL 1819 4666 \nL 2450 4666 \nL 2450 531 \nL 3481 531 \nL 3481 0 \nL 794 0 \nL 794 531 \nz\n\" transform=\"scale(0.015625)\"/>\n       </defs>\n       <use xlink:href=\"#DejaVuSans-31\"/>\n       <use xlink:href=\"#DejaVuSans-30\" x=\"63.623047\"/>\n      </g>\n     </g>\n    </g>\n    <g id=\"ytick_7\">\n     <g id=\"line2d_11\">\n      <g>\n       <use xlink:href=\"#mf3b241f8c0\" x=\"531.26025\" y=\"299.518125\" style=\"stroke: #000000; stroke-width: 0.8\"/>\n      </g>\n     </g>\n     <g id=\"text_30\">\n      <!-- 20 -->\n      <g transform=\"translate(538.26025 303.317344) scale(0.1 -0.1)\">\n       <defs>\n        <path id=\"DejaVuSans-32\" d=\"M 1228 531 \nL 3431 531 \nL 3431 0 \nL 469 0 \nL 469 531 \nQ 828 903 1448 1529 \nQ 2069 2156 2228 2338 \nQ 2531 2678 2651 2914 \nQ 2772 3150 2772 3378 \nQ 2772 3750 2511 3984 \nQ 2250 4219 1831 4219 \nQ 1534 4219 1204 4116 \nQ 875 4013 500 3803 \nL 500 4441 \nQ 881 4594 1212 4672 \nQ 1544 4750 1819 4750 \nQ 2544 4750 2975 4387 \nQ 3406 4025 3406 3419 \nQ 3406 3131 3298 2873 \nQ 3191 2616 2906 2266 \nQ 2828 2175 2409 1742 \nQ 1991 1309 1228 531 \nz\n\" transform=\"scale(0.015625)\"/>\n       </defs>\n       <use xlink:href=\"#DejaVuSans-32\"/>\n       <use xlink:href=\"#DejaVuSans-30\" x=\"63.623047\"/>\n      </g>\n     </g>\n    </g>\n    <g id=\"ytick_8\">\n     <g id=\"line2d_12\">\n      <g>\n       <use xlink:href=\"#mf3b241f8c0\" x=\"531.26025\" y=\"244.078125\" style=\"stroke: #000000; stroke-width: 0.8\"/>\n      </g>\n     </g>\n     <g id=\"text_31\">\n      <!-- 30 -->\n      <g transform=\"translate(538.26025 247.877344) scale(0.1 -0.1)\">\n       <use xlink:href=\"#DejaVuSans-33\"/>\n       <use xlink:href=\"#DejaVuSans-30\" x=\"63.623047\"/>\n      </g>\n     </g>\n    </g>\n    <g id=\"ytick_9\">\n     <g id=\"line2d_13\">\n      <g>\n       <use xlink:href=\"#mf3b241f8c0\" x=\"531.26025\" y=\"188.638125\" style=\"stroke: #000000; stroke-width: 0.8\"/>\n      </g>\n     </g>\n     <g id=\"text_32\">\n      <!-- 40 -->\n      <g transform=\"translate(538.26025 192.437344) scale(0.1 -0.1)\">\n       <use xlink:href=\"#DejaVuSans-34\"/>\n       <use xlink:href=\"#DejaVuSans-30\" x=\"63.623047\"/>\n      </g>\n     </g>\n    </g>\n    <g id=\"ytick_10\">\n     <g id=\"line2d_14\">\n      <g>\n       <use xlink:href=\"#mf3b241f8c0\" x=\"531.26025\" y=\"133.198125\" style=\"stroke: #000000; stroke-width: 0.8\"/>\n      </g>\n     </g>\n     <g id=\"text_33\">\n      <!-- 50 -->\n      <g transform=\"translate(538.26025 136.997344) scale(0.1 -0.1)\">\n       <use xlink:href=\"#DejaVuSans-35\"/>\n       <use xlink:href=\"#DejaVuSans-30\" x=\"63.623047\"/>\n      </g>\n     </g>\n    </g>\n    <g id=\"ytick_11\">\n     <g id=\"line2d_15\">\n      <g>\n       <use xlink:href=\"#mf3b241f8c0\" x=\"531.26025\" y=\"77.758125\" style=\"stroke: #000000; stroke-width: 0.8\"/>\n      </g>\n     </g>\n     <g id=\"text_34\">\n      <!-- 60 -->\n      <g transform=\"translate(538.26025 81.557344) scale(0.1 -0.1)\">\n       <defs>\n        <path id=\"DejaVuSans-36\" d=\"M 2113 2584 \nQ 1688 2584 1439 2293 \nQ 1191 2003 1191 1497 \nQ 1191 994 1439 701 \nQ 1688 409 2113 409 \nQ 2538 409 2786 701 \nQ 3034 994 3034 1497 \nQ 3034 2003 2786 2293 \nQ 2538 2584 2113 2584 \nz\nM 3366 4563 \nL 3366 3988 \nQ 3128 4100 2886 4159 \nQ 2644 4219 2406 4219 \nQ 1781 4219 1451 3797 \nQ 1122 3375 1075 2522 \nQ 1259 2794 1537 2939 \nQ 1816 3084 2150 3084 \nQ 2853 3084 3261 2657 \nQ 3669 2231 3669 1497 \nQ 3669 778 3244 343 \nQ 2819 -91 2113 -91 \nQ 1303 -91 875 529 \nQ 447 1150 447 2328 \nQ 447 3434 972 4092 \nQ 1497 4750 2381 4750 \nQ 2619 4750 2861 4703 \nQ 3103 4656 3366 4563 \nz\n\" transform=\"scale(0.015625)\"/>\n       </defs>\n       <use xlink:href=\"#DejaVuSans-36\"/>\n       <use xlink:href=\"#DejaVuSans-30\" x=\"63.623047\"/>\n      </g>\n     </g>\n    </g>\n    <g id=\"ytick_12\">\n     <g id=\"line2d_16\">\n      <g>\n       <use xlink:href=\"#mf3b241f8c0\" x=\"531.26025\" y=\"22.318125\" style=\"stroke: #000000; stroke-width: 0.8\"/>\n      </g>\n     </g>\n     <g id=\"text_35\">\n      <!-- 70 -->\n      <g transform=\"translate(538.26025 26.117344) scale(0.1 -0.1)\">\n       <use xlink:href=\"#DejaVuSans-37\"/>\n       <use xlink:href=\"#DejaVuSans-30\" x=\"63.623047\"/>\n      </g>\n     </g>\n    </g>\n   </g>\n   <g id=\"LineCollection_1\"/>\n   <g id=\"patch_4\">\n    <path d=\"M 511.85625 410.398125 \nL 521.55825 410.398125 \nL 531.26025 410.398125 \nL 531.26025 22.318125 \nL 521.55825 22.318125 \nL 511.85625 22.318125 \nL 511.85625 410.398125 \nz\n\" style=\"fill: none\"/>\n   </g>\n  </g>\n </g>\n <defs>\n  <clipPath id=\"pb6aba3ea1e\">\n   <rect x=\"37.55625\" y=\"22.318125\" width=\"446.4\" height=\"388.08\"/>\n  </clipPath>\n </defs>\n</svg>\n"
          },
          "metadata": {}
        }
      ],
      "source": [
        "labels = [\"Attack\", \"Jump\", \"Left\", \"Right\"]\n",
        "\n",
        "plt.figure(figsize=(10, 7))\n",
        "# sns.heatmap(conf_matrix, annot=True, fmt='d')\n",
        "sns.heatmap(conf_matrix, annot=True, fmt='d', xticklabels=labels, yticklabels=labels)\n",
        "plt.ylabel('Ground Truth')\n",
        "plt.xlabel('Prediction')\n",
        "plt.title('Confusion Matrix')\n",
        "plt.savefig(\"confusion_matrix.png\", bbox_inches='tight')\n",
        "plt.show()"
      ]
    },
    {
      "cell_type": "code",
      "source": [
        "# Add Softmax layer for inference\n",
        "class ModelWithSoftmax(nn.Module):\n",
        "    def __init__(self, model):\n",
        "        super(ModelWithSoftmax, self).__init__()\n",
        "        self.model = model\n",
        "        self.softmax = nn.Softmax(dim=1)\n",
        "\n",
        "    def forward(self, x):\n",
        "        x = self.model(x)\n",
        "        x = self.softmax(x)\n",
        "        return x\n",
        "torchmodel = ModelWithSoftmax(model)"
      ],
      "metadata": {
        "id": "0G4nwiiuhiwF"
      },
      "execution_count": 150,
      "outputs": []
    },
    {
      "cell_type": "code",
      "source": [
        "torchmodel"
      ],
      "metadata": {
        "id": "i1rPWReDh1uq",
        "colab": {
          "base_uri": "https://localhost:8080/"
        },
        "outputId": "ce6a3056-4397-44da-9586-2a8152aca9e6"
      },
      "execution_count": 151,
      "outputs": [
        {
          "output_type": "execute_result",
          "data": {
            "text/plain": [
              "ModelWithSoftmax(\n",
              "  (model): SimpleTimeSeriesCNN(\n",
              "    (conv_block): Sequential(\n",
              "      (0): Conv1d(6, 32, kernel_size=(5,), stride=(1,), padding=(2,))\n",
              "      (1): BatchNorm1d(32, eps=1e-05, momentum=0.1, affine=True, track_running_stats=True)\n",
              "      (2): ReLU()\n",
              "      (3): MaxPool1d(kernel_size=2, stride=2, padding=0, dilation=1, ceil_mode=False)\n",
              "      (4): Conv1d(32, 16, kernel_size=(4,), stride=(3,), padding=(1,))\n",
              "      (5): BatchNorm1d(16, eps=1e-05, momentum=0.1, affine=True, track_running_stats=True)\n",
              "      (6): ReLU()\n",
              "      (7): MaxPool1d(kernel_size=2, stride=2, padding=0, dilation=1, ceil_mode=False)\n",
              "    )\n",
              "    (fc): Sequential(\n",
              "      (0): Linear(in_features=64, out_features=4, bias=True)\n",
              "    )\n",
              "  )\n",
              "  (softmax): Softmax(dim=1)\n",
              ")"
            ]
          },
          "metadata": {},
          "execution_count": 151
        }
      ]
    },
    {
      "cell_type": "code",
      "execution_count": 152,
      "metadata": {
        "id": "rgMnf8VOsZ75",
        "colab": {
          "base_uri": "https://localhost:8080/"
        },
        "outputId": "921f91d2-b115-4d5e-8e2c-2d7860fcf04f"
      },
      "outputs": [
        {
          "output_type": "stream",
          "name": "stdout",
          "text": [
            "\n",
            "------------------------------------- Calculate Flops Results -------------------------------------\n",
            "Notations:\n",
            "number of parameters (Params), number of multiply-accumulate operations(MACs),\n",
            "number of floating-point operations (FLOPs), floating-point operations per second (FLOPS),\n",
            "fwd FLOPs (model forward propagation FLOPs), bwd FLOPs (model backward propagation FLOPs),\n",
            "default model backpropagation takes 2.00 times as much computation as forward propagation.\n",
            "\n",
            "Total Training Params:                                                  3.41 K  \n",
            "fwd MACs:                                                               64.64 KMACs\n",
            "fwd FLOPs:                                                              137.924 KFLOPS\n",
            "fwd+bwd MACs:                                                           193.92 KMACs\n",
            "fwd+bwd FLOPs:                                                          413.772 KFLOPS\n",
            "\n",
            "-------------------------------- Detailed Calculated FLOPs Results --------------------------------\n",
            "Each module caculated is listed after its name in the following order: \n",
            "params, percentage of total params, MACs, percentage of total MACs, FLOPS, percentage of total FLOPs\n",
            "\n",
            "Note: 1. A module can have torch.nn.module or torch.nn.functional to compute logits (e.g. CrossEntropyLoss). \n",
            " They are not counted as submodules in calflops and not to be printed out. However they make up the difference between a parent's MACs and the sum of its submodules'.\n",
            "2. Number of floating-point operations is a theoretical estimation, thus FLOPS computed using that could be larger than the maximum system throughput.\n",
            "\n",
            "ModelWithSoftmax(\n",
            "  3.41 K = 100% Params, 64.64 KMACs = 100% MACs, 137.92 KFLOPS = 100% FLOPs\n",
            "  (model): SimpleTimeSeriesCNN(\n",
            "    3.41 K = 100% Params, 64.64 KMACs = 100% MACs, 137.92 KFLOPS = 99.9971% FLOPs\n",
            "    (conv_block): Sequential(\n",
            "      3.15 K = 92.3798% Params, 64.38 KMACs = 99.604% MACs, 137.41 KFLOPS = 99.6259% FLOPs\n",
            "      (0): Conv1d(992 = 29.0739% Params, 48 KMACs = 74.2574% MACs, 97.6 KFLOPS = 70.7636% FLOPs, 6, 32, kernel_size=(5,), stride=(1,), padding=(2,))\n",
            "      (1): BatchNorm1d(64 = 1.8757% Params, 0 MACs = 0% MACs, 3.2 KFLOPS = 2.3201% FLOPs, 32, eps=1e-05, momentum=0.1, affine=True, track_running_stats=True)\n",
            "      (2): ReLU(0 = 0% Params, 0 MACs = 0% MACs, 1.6 KFLOPS = 1.1601% FLOPs)\n",
            "      (3): MaxPool1d(0 = 0% Params, 0 MACs = 0% MACs, 1.6 KFLOPS = 1.1601% FLOPs, kernel_size=2, stride=2, padding=0, dilation=1, ceil_mode=False)\n",
            "      (4): Conv1d(2.06 K = 60.4924% Params, 16.38 KMACs = 25.3465% MACs, 32.9 KFLOPS = 23.8508% FLOPs, 32, 16, kernel_size=(4,), stride=(3,), padding=(1,))\n",
            "      (5): BatchNorm1d(32 = 0.9379% Params, 0 MACs = 0% MACs, 256 FLOPS = 0.1856% FLOPs, 16, eps=1e-05, momentum=0.1, affine=True, track_running_stats=True)\n",
            "      (6): ReLU(0 = 0% Params, 0 MACs = 0% MACs, 128 FLOPS = 0.0928% FLOPs)\n",
            "      (7): MaxPool1d(0 = 0% Params, 0 MACs = 0% MACs, 128 FLOPS = 0.0928% FLOPs, kernel_size=2, stride=2, padding=0, dilation=1, ceil_mode=False)\n",
            "    )\n",
            "    (fc): Sequential(\n",
            "      260 = 7.6202% Params, 256 MACs = 0.396% MACs, 512 FLOPS = 0.3712% FLOPs\n",
            "      (0): Linear(260 = 7.6202% Params, 256 MACs = 0.396% MACs, 512 FLOPS = 0.3712% FLOPs, in_features=64, out_features=4, bias=True)\n",
            "    )\n",
            "  )\n",
            "  (softmax): Softmax(0 = 0% Params, 0 MACs = 0% MACs, 4 FLOPS = 0.0029% FLOPs, dim=1)\n",
            ")\n",
            "---------------------------------------------------------------------------------------------------\n",
            "Model FLOPs:137.924 KFLOPS   MACs:64.64 KMACs   Params:3.412 K \n",
            "\n"
          ]
        }
      ],
      "source": [
        "from calflops import calculate_flops\n",
        "batch_size = 1\n",
        "input_shape = (batch_size, 6, 50)\n",
        "flops, macs, params = calculate_flops(model=torchmodel,\n",
        "                                      input_shape=input_shape,\n",
        "                                      output_as_string=True,\n",
        "                                      output_precision=4)\n",
        "print(\"Model FLOPs:%s   MACs:%s   Params:%s \\n\" %(flops, macs, params))"
      ]
    },
    {
      "cell_type": "markdown",
      "source": [
        "## Model Conversion : pytorch->coreml"
      ],
      "metadata": {
        "id": "b7Cy8dMpb5AE"
      }
    },
    {
      "cell_type": "code",
      "source": [
        "torchmodel.eval()"
      ],
      "metadata": {
        "id": "MeV0ku6Wb6un",
        "colab": {
          "base_uri": "https://localhost:8080/"
        },
        "outputId": "e9b48010-0930-4efd-baa7-ccc01d6501e8"
      },
      "execution_count": 153,
      "outputs": [
        {
          "output_type": "execute_result",
          "data": {
            "text/plain": [
              "ModelWithSoftmax(\n",
              "  (model): SimpleTimeSeriesCNN(\n",
              "    (conv_block): Sequential(\n",
              "      (0): Conv1d(6, 32, kernel_size=(5,), stride=(1,), padding=(2,))\n",
              "      (1): BatchNorm1d(32, eps=1e-05, momentum=0.1, affine=True, track_running_stats=True)\n",
              "      (2): ReLU()\n",
              "      (3): MaxPool1d(kernel_size=2, stride=2, padding=0, dilation=1, ceil_mode=False)\n",
              "      (4): Conv1d(32, 16, kernel_size=(4,), stride=(3,), padding=(1,))\n",
              "      (5): BatchNorm1d(16, eps=1e-05, momentum=0.1, affine=True, track_running_stats=True)\n",
              "      (6): ReLU()\n",
              "      (7): MaxPool1d(kernel_size=2, stride=2, padding=0, dilation=1, ceil_mode=False)\n",
              "    )\n",
              "    (fc): Sequential(\n",
              "      (0): Linear(in_features=64, out_features=4, bias=True)\n",
              "    )\n",
              "  )\n",
              "  (softmax): Softmax(dim=1)\n",
              ")"
            ]
          },
          "metadata": {},
          "execution_count": 153
        }
      ]
    },
    {
      "cell_type": "code",
      "source": [
        "# Trace the model with random data.\n",
        "example_input = torch.rand(1, 6, 50).to(device)\n",
        "traced_model = torch.jit.trace(torchmodel, example_input)\n",
        "out = traced_model(example_input)"
      ],
      "metadata": {
        "id": "IVhUHeEqcGos"
      },
      "execution_count": 154,
      "outputs": []
    },
    {
      "cell_type": "code",
      "source": [
        "import coremltools as ct\n",
        "\n",
        "# Using image_input in the inputs parameter:\n",
        "mlmodel = ct.convert(\n",
        "    traced_model,\n",
        "    convert_to=\"neuralnetwork\",\n",
        "    inputs=[ct.TensorType(shape=example_input.shape)]\n",
        " )\n",
        "# Save the converted model.\n",
        "mlmodel.save(\"newmodel.mlmodel\")"
      ],
      "metadata": {
        "id": "jumDU8dJcVWK",
        "colab": {
          "base_uri": "https://localhost:8080/"
        },
        "outputId": "0f10adc1-76a1-4e2e-9455-525b8b9d3ccf"
      },
      "execution_count": 158,
      "outputs": [
        {
          "output_type": "stream",
          "name": "stderr",
          "text": [
            "Converting PyTorch Frontend ==> MIL Ops:  97%|█████████▋| 37/38 [00:00<00:00, 2826.92 ops/s]\n",
            "Running MIL frontend_pytorch pipeline: 100%|██████████| 5/5 [00:00<00:00, 1022.55 passes/s]\n",
            "Running MIL default pipeline: 100%|██████████| 76/76 [00:00<00:00, 915.93 passes/s]\n",
            "Running MIL backend_neuralnetwork pipeline: 100%|██████████| 9/9 [00:00<00:00, 598.56 passes/s]\n",
            "Translating MIL ==> NeuralNetwork Ops: 100%|██████████| 45/45 [00:00<00:00, 29579.01 ops/s]\n"
          ]
        }
      ]
    },
    {
      "cell_type": "code",
      "source": [
        "print(mlmodel)\n",
        "\n",
        "# Access the output description\n",
        "for output in mlmodel.output_description._fd_spec:\n",
        "    print(output.name, output.type)"
      ],
      "metadata": {
        "id": "M5H3KQljcgD9",
        "colab": {
          "base_uri": "https://localhost:8080/"
        },
        "outputId": "5a5e471a-6eca-44b0-be25-8a14842e4a15"
      },
      "execution_count": 156,
      "outputs": [
        {
          "output_type": "stream",
          "name": "stdout",
          "text": [
            "input {\n",
            "  name: \"x_1\"\n",
            "  type {\n",
            "    multiArrayType {\n",
            "      shape: 1\n",
            "      shape: 6\n",
            "      shape: 50\n",
            "      dataType: FLOAT32\n",
            "    }\n",
            "  }\n",
            "}\n",
            "output {\n",
            "  name: \"var_61\"\n",
            "  type {\n",
            "    multiArrayType {\n",
            "      dataType: FLOAT32\n",
            "    }\n",
            "  }\n",
            "}\n",
            "metadata {\n",
            "  userDefined {\n",
            "    key: \"com.github.apple.coremltools.source\"\n",
            "    value: \"torch==2.3.0+cu121\"\n",
            "  }\n",
            "  userDefined {\n",
            "    key: \"com.github.apple.coremltools.source_dialect\"\n",
            "    value: \"TorchScript\"\n",
            "  }\n",
            "  userDefined {\n",
            "    key: \"com.github.apple.coremltools.version\"\n",
            "    value: \"7.2\"\n",
            "  }\n",
            "}\n",
            "\n",
            "var_61 multiArrayType {\n",
            "  dataType: FLOAT32\n",
            "}\n",
            "\n"
          ]
        }
      ]
    },
    {
      "cell_type": "markdown",
      "source": [
        "## Evaluate CoreML model"
      ],
      "metadata": {
        "id": "PEoVrHhdiHIA"
      }
    },
    {
      "cell_type": "code",
      "source": [
        "\n",
        "def test_tflite_on_onebatch(inputs, labels):\n",
        "    correct_predictions = 0\n",
        "    total_predictions = 0\n",
        "\n",
        "    for i in range(len(inputs)):\n",
        "        # test_sample = np.array(X_test[i][:3], dtype=np.float32).reshape(input_shape)\n",
        "        # expected_output = y_test[i]\n",
        "        test_sample = inputs[i]#.unsqueeze(0)\n",
        "        expected_output = labels[i]\n",
        "\n",
        "        input_dict = {'input': test_sample}\n",
        "        # Make a prediction\n",
        "        prediction = mlmodel.predict(input_dict)\n",
        "\n",
        "        predicted_output = np.argmax(prediction)\n",
        "\n",
        "        if predicted_output == expected_output:\n",
        "            correct_predictions += 1\n",
        "        total_predictions += 1\n",
        "\n",
        "    accuracy = correct_predictions / total_predictions\n",
        "    # print(f\"Model Accuracy: {accuracy:.2f}%\")\n",
        "    return accuracy\n",
        "\n",
        "ts_list=[]\n",
        "for inputs, labels in test_loader:\n",
        "  test_accuracy = test_tflite_on_onebatch(inputs, labels)\n",
        "  ts_list.append(test_accuracy)\n",
        "\n",
        "print(f'Test accutacy of CoreML model :{np.mean(ts_list)*100}%')"
      ],
      "metadata": {
        "id": "VL43YMCZiJ9R",
        "colab": {
          "base_uri": "https://localhost:8080/",
          "height": 365
        },
        "outputId": "fec3dd35-74dd-4fb8-9ed4-fb0e88461188"
      },
      "execution_count": 157,
      "outputs": [
        {
          "output_type": "error",
          "ename": "Exception",
          "evalue": "Model prediction is only supported on macOS version 10.13 or later.",
          "traceback": [
            "\u001b[0;31m---------------------------------------------------------------------------\u001b[0m",
            "\u001b[0;31mException\u001b[0m                                 Traceback (most recent call last)",
            "\u001b[0;32m<ipython-input-157-ff594aa06cdb>\u001b[0m in \u001b[0;36m<cell line: 26>\u001b[0;34m()\u001b[0m\n\u001b[1;32m     25\u001b[0m \u001b[0mts_list\u001b[0m\u001b[0;34m=\u001b[0m\u001b[0;34m[\u001b[0m\u001b[0;34m]\u001b[0m\u001b[0;34m\u001b[0m\u001b[0;34m\u001b[0m\u001b[0m\n\u001b[1;32m     26\u001b[0m \u001b[0;32mfor\u001b[0m \u001b[0minputs\u001b[0m\u001b[0;34m,\u001b[0m \u001b[0mlabels\u001b[0m \u001b[0;32min\u001b[0m \u001b[0mtest_loader\u001b[0m\u001b[0;34m:\u001b[0m\u001b[0;34m\u001b[0m\u001b[0;34m\u001b[0m\u001b[0m\n\u001b[0;32m---> 27\u001b[0;31m   \u001b[0mtest_accuracy\u001b[0m \u001b[0;34m=\u001b[0m \u001b[0mtest_tflite_on_onebatch\u001b[0m\u001b[0;34m(\u001b[0m\u001b[0minputs\u001b[0m\u001b[0;34m,\u001b[0m \u001b[0mlabels\u001b[0m\u001b[0;34m)\u001b[0m\u001b[0;34m\u001b[0m\u001b[0;34m\u001b[0m\u001b[0m\n\u001b[0m\u001b[1;32m     28\u001b[0m   \u001b[0mts_list\u001b[0m\u001b[0;34m.\u001b[0m\u001b[0mappend\u001b[0m\u001b[0;34m(\u001b[0m\u001b[0mtest_accuracy\u001b[0m\u001b[0;34m)\u001b[0m\u001b[0;34m\u001b[0m\u001b[0;34m\u001b[0m\u001b[0m\n\u001b[1;32m     29\u001b[0m \u001b[0;34m\u001b[0m\u001b[0m\n",
            "\u001b[0;32m<ipython-input-157-ff594aa06cdb>\u001b[0m in \u001b[0;36mtest_tflite_on_onebatch\u001b[0;34m(inputs, labels)\u001b[0m\n\u001b[1;32m     11\u001b[0m         \u001b[0minput_dict\u001b[0m \u001b[0;34m=\u001b[0m \u001b[0;34m{\u001b[0m\u001b[0;34m'input'\u001b[0m\u001b[0;34m:\u001b[0m \u001b[0mtest_sample\u001b[0m\u001b[0;34m}\u001b[0m\u001b[0;34m\u001b[0m\u001b[0;34m\u001b[0m\u001b[0m\n\u001b[1;32m     12\u001b[0m         \u001b[0;31m# Make a prediction\u001b[0m\u001b[0;34m\u001b[0m\u001b[0;34m\u001b[0m\u001b[0m\n\u001b[0;32m---> 13\u001b[0;31m         \u001b[0mprediction\u001b[0m \u001b[0;34m=\u001b[0m \u001b[0mmlmodel\u001b[0m\u001b[0;34m.\u001b[0m\u001b[0mpredict\u001b[0m\u001b[0;34m(\u001b[0m\u001b[0minput_dict\u001b[0m\u001b[0;34m)\u001b[0m\u001b[0;34m\u001b[0m\u001b[0;34m\u001b[0m\u001b[0m\n\u001b[0m\u001b[1;32m     14\u001b[0m \u001b[0;34m\u001b[0m\u001b[0m\n\u001b[1;32m     15\u001b[0m         \u001b[0mpredicted_output\u001b[0m \u001b[0;34m=\u001b[0m \u001b[0mnp\u001b[0m\u001b[0;34m.\u001b[0m\u001b[0margmax\u001b[0m\u001b[0;34m(\u001b[0m\u001b[0mprediction\u001b[0m\u001b[0;34m)\u001b[0m\u001b[0;34m\u001b[0m\u001b[0;34m\u001b[0m\u001b[0m\n",
            "\u001b[0;32m/usr/local/lib/python3.10/dist-packages/coremltools/models/model.py\u001b[0m in \u001b[0;36mpredict\u001b[0;34m(self, data)\u001b[0m\n\u001b[1;32m    628\u001b[0m         \u001b[0;32melse\u001b[0m\u001b[0;34m:\u001b[0m   \u001b[0;31m# Error case\u001b[0m\u001b[0;34m\u001b[0m\u001b[0;34m\u001b[0m\u001b[0m\n\u001b[1;32m    629\u001b[0m             \u001b[0;32mif\u001b[0m \u001b[0m_macos_version\u001b[0m\u001b[0;34m(\u001b[0m\u001b[0;34m)\u001b[0m \u001b[0;34m<\u001b[0m \u001b[0;34m(\u001b[0m\u001b[0;36m10\u001b[0m\u001b[0;34m,\u001b[0m \u001b[0;36m13\u001b[0m\u001b[0;34m)\u001b[0m\u001b[0;34m:\u001b[0m\u001b[0;34m\u001b[0m\u001b[0;34m\u001b[0m\u001b[0m\n\u001b[0;32m--> 630\u001b[0;31m                 raise Exception(\n\u001b[0m\u001b[1;32m    631\u001b[0m                     \u001b[0;34m\"Model prediction is only supported on macOS version 10.13 or later.\"\u001b[0m\u001b[0;34m\u001b[0m\u001b[0;34m\u001b[0m\u001b[0m\n\u001b[1;32m    632\u001b[0m                 )\n",
            "\u001b[0;31mException\u001b[0m: Model prediction is only supported on macOS version 10.13 or later."
          ]
        }
      ]
    },
    {
      "cell_type": "markdown",
      "metadata": {
        "id": "nVnNHz4qdMeO"
      },
      "source": [
        "AVG Runtime: 33.94284 milliseconds\n",
        "\n",
        "RAM Usage: 9.4K\n",
        "\n",
        "Flash Usage: 39.1K"
      ]
    }
  ],
  "metadata": {
    "colab": {
      "provenance": [],
      "machine_shape": "hm",
      "gpuType": "T4"
    },
    "kernelspec": {
      "display_name": "Python 3",
      "name": "python3"
    },
    "language_info": {
      "name": "python"
    },
    "accelerator": "GPU"
  },
  "nbformat": 4,
  "nbformat_minor": 0
}